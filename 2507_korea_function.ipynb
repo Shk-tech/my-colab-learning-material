{
  "nbformat": 4,
  "nbformat_minor": 0,
  "metadata": {
    "colab": {
      "provenance": [],
      "include_colab_link": true
    },
    "kernelspec": {
      "name": "python3",
      "display_name": "Python 3"
    },
    "language_info": {
      "name": "python"
    }
  },
  "cells": [
    {
      "cell_type": "markdown",
      "metadata": {
        "id": "view-in-github",
        "colab_type": "text"
      },
      "source": [
        "<a href=\"https://colab.research.google.com/github/Shk-tech/my-colab-learning-material/blob/main/2507_korea_function.ipynb\" target=\"_parent\"><img src=\"https://colab.research.google.com/assets/colab-badge.svg\" alt=\"Open In Colab\"/></a>"
      ]
    },
    {
      "cell_type": "code",
      "execution_count": null,
      "metadata": {
        "colab": {
          "base_uri": "https://localhost:8080/"
        },
        "id": "4daV-W7Vw48-",
        "outputId": "a65bfcb6-ef1d-4271-c41b-a483b479dcbe"
      },
      "outputs": [
        {
          "output_type": "execute_result",
          "data": {
            "text/plain": [
              "7"
            ]
          },
          "metadata": {},
          "execution_count": 3
        }
      ],
      "source": [
        "# 함수\n",
        "# subroutine(goto) - func - method....\n",
        "def add(a, b):\n",
        "    return a + b\n",
        "add(3, 4)"
      ]
    },
    {
      "cell_type": "code",
      "source": [
        "# 입력값      -> 출력값\n",
        "# 0개 ~ 무한대    (0개) 1개..(여러개)\n",
        "def one():\n",
        "    return 1\n",
        "one()"
      ],
      "metadata": {
        "colab": {
          "base_uri": "https://localhost:8080/"
        },
        "id": "sWu3JOmpxR0X",
        "outputId": "213f6d71-cb23-4070-9217-7f0e9f43c137"
      },
      "execution_count": null,
      "outputs": [
        {
          "output_type": "execute_result",
          "data": {
            "text/plain": [
              "1"
            ]
          },
          "metadata": {},
          "execution_count": 5
        }
      ]
    },
    {
      "cell_type": "code",
      "source": [
        "def func():\n",
        "    print(\"haha\")\n",
        "    print(\"hoho\")\n",
        "    #return?????\n",
        "    #return None\n",
        "func()"
      ],
      "metadata": {
        "colab": {
          "base_uri": "https://localhost:8080/"
        },
        "id": "W6oufle-xhVc",
        "outputId": "0fe0a3fc-a96d-4c5c-b615-10a7bf44a1f0"
      },
      "execution_count": null,
      "outputs": [
        {
          "output_type": "stream",
          "name": "stdout",
          "text": [
            "haha\n",
            "hoho\n"
          ]
        }
      ]
    },
    {
      "cell_type": "code",
      "source": [
        "None # void에 해당\n",
        "#int - 1, 2, 3, 4\n",
        "#bool - True, False\n",
        "#None - None\n",
        "# 에코가 없다!!\n",
        "None"
      ],
      "metadata": {
        "id": "1aGdZ8Qwxv-g"
      },
      "execution_count": null,
      "outputs": []
    },
    {
      "cell_type": "code",
      "source": [
        "a = print(\"asdf\")"
      ],
      "metadata": {
        "colab": {
          "base_uri": "https://localhost:8080/"
        },
        "id": "LQaS2gAuyHDP",
        "outputId": "92f5a6e7-c415-4f58-a071-4e1ba042a14b"
      },
      "execution_count": null,
      "outputs": [
        {
          "output_type": "stream",
          "name": "stdout",
          "text": [
            "asdf\n"
          ]
        }
      ]
    },
    {
      "cell_type": "code",
      "source": [
        "print(a)"
      ],
      "metadata": {
        "colab": {
          "base_uri": "https://localhost:8080/"
        },
        "id": "HNR_xZg5yPL5",
        "outputId": "95f9abaa-7b00-4ed3-d020-227c9adb96ed"
      },
      "execution_count": null,
      "outputs": [
        {
          "output_type": "stream",
          "name": "stdout",
          "text": [
            "None\n"
          ]
        }
      ]
    },
    {
      "cell_type": "code",
      "source": [
        "print(print('a')) # 함수는 항상 무조건 안쪽부터 실행"
      ],
      "metadata": {
        "colab": {
          "base_uri": "https://localhost:8080/"
        },
        "id": "1Q9vhU7PyUCm",
        "outputId": "27b0f0b4-506b-4921-a60b-e527a14589c7"
      },
      "execution_count": null,
      "outputs": [
        {
          "output_type": "stream",
          "name": "stdout",
          "text": [
            "a\n",
            "None\n"
          ]
        }
      ]
    },
    {
      "cell_type": "code",
      "source": [
        "float('NaN') # Not a number - float값\n",
        "# float - 3.4, -1.234 NaN, -NaN, +Inf, -Inf\n",
        "# NaN이 None이랑 거의 비슷하게 쓰임"
      ],
      "metadata": {
        "colab": {
          "base_uri": "https://localhost:8080/"
        },
        "id": "YDaSPAFsym3x",
        "outputId": "2a43c2a4-bd01-415f-ce0b-d0085f3d1d19"
      },
      "execution_count": null,
      "outputs": [
        {
          "output_type": "execute_result",
          "data": {
            "text/plain": [
              "nan"
            ]
          },
          "metadata": {},
          "execution_count": 17
        }
      ]
    },
    {
      "cell_type": "code",
      "source": [
        "def calc(a, b):\n",
        "    return a * b # return : 함수를 종료하는 역할!!\n",
        "    print(\"출력되지 않는다.\")\n",
        "    return a + b\n",
        "calc(3, 4)"
      ],
      "metadata": {
        "colab": {
          "base_uri": "https://localhost:8080/"
        },
        "id": "Ddm-kuyqzADA",
        "outputId": "a69b4875-1523-4461-9a48-95c20182351c"
      },
      "execution_count": null,
      "outputs": [
        {
          "output_type": "execute_result",
          "data": {
            "text/plain": [
              "12"
            ]
          },
          "metadata": {},
          "execution_count": 21
        }
      ]
    },
    {
      "cell_type": "code",
      "source": [
        "def calc(a, b):\n",
        "    return a + b, a * b # 2개 이상의 값을 리턴할 때 ',' 활용\n",
        "c, d = calc(3, 4) # 2개 이상 받을 때 ',' 활용"
      ],
      "metadata": {
        "id": "DOnpa7yGzZcZ"
      },
      "execution_count": null,
      "outputs": []
    },
    {
      "cell_type": "code",
      "source": [
        "# 함수의 입력값, parameter 매개변수 argument 인자 인수\n",
        "\n",
        "# *keyword argument\n",
        "# *positional argument - 순서대로 값을 넣음\n",
        "calc(3, 4) # 하필 3이 a이고 4가 b인 이유???? 순서대로 들어가기 때문\n",
        "calc(b=4, a=3)"
      ],
      "metadata": {
        "colab": {
          "base_uri": "https://localhost:8080/"
        },
        "id": "c9o7iv0rz9AQ",
        "outputId": "96e7df02-d3b8-4cf8-ed2b-a789c4692d86"
      },
      "execution_count": null,
      "outputs": [
        {
          "output_type": "execute_result",
          "data": {
            "text/plain": [
              "(7, 12)"
            ]
          },
          "metadata": {},
          "execution_count": 30
        }
      ]
    },
    {
      "cell_type": "code",
      "source": [
        "# default paramter\n",
        "def calc(a=0, b=0):\n",
        "    return a + b\n",
        "calc(b=3)"
      ],
      "metadata": {
        "colab": {
          "base_uri": "https://localhost:8080/"
        },
        "id": "0gLl1nVE0lh5",
        "outputId": "cfa31a1d-6ff5-4672-f1c7-db04cb6ff03c"
      },
      "execution_count": null,
      "outputs": [
        {
          "output_type": "execute_result",
          "data": {
            "text/plain": [
              "3"
            ]
          },
          "metadata": {},
          "execution_count": 36
        }
      ]
    },
    {
      "cell_type": "code",
      "source": [
        "#--------------------------------------\n",
        "# 변수의 scope\n",
        "# scope란? 변수의 유효범위\n",
        "# 파이썬은 인터프리터의 특성상 스코프가 넓음\n",
        "for i in range(3):\n",
        "    print(i)\n",
        "i # i 변수가 반복문이 끝나도 유지된다.??"
      ],
      "metadata": {
        "colab": {
          "base_uri": "https://localhost:8080/"
        },
        "id": "vRli9hNv1FaX",
        "outputId": "5c03a818-1ab1-4211-9de7-f18dc4bf74fa"
      },
      "execution_count": null,
      "outputs": [
        {
          "output_type": "stream",
          "name": "stdout",
          "text": [
            "0\n",
            "1\n",
            "2\n"
          ]
        },
        {
          "output_type": "execute_result",
          "data": {
            "text/plain": [
              "2"
            ]
          },
          "metadata": {},
          "execution_count": 37
        }
      ]
    },
    {
      "cell_type": "code",
      "source": [
        "#ex) c언어는 스코프를 좁게 만드는 다양한 기능이 많음.\n",
        "# for (int i = 0; i < 3; i++)\n",
        "# {\n",
        "#     #내부에서만 i가 유효.\n",
        "# }\n",
        "# print(\"%d\\n\", i); # 에러!!!\n",
        "\n",
        "# 왜 스코프를 좁게 만들까???????\n",
        "#   -> 변수의 개수를 줄이기 위해서!\n",
        "# 변수의 개수가 많을 수록 충돌.. 프로그래머가 생각해야 할 가지수가 늘어남\n",
        "# !! 변수는 안 만들수록 이득\n",
        "\n",
        "# 파이썬은 .. 코드가 짧다.\n",
        "# 스코프를 제한하는 것보다 풀어줌으로서 편리한 이득이 큼.\n",
        "if True:\n",
        "    asdf = 100 # if문 안에서 만든 변수가\n",
        "asdf # if문 밖에서도 그냥 쓰임."
      ],
      "metadata": {
        "colab": {
          "base_uri": "https://localhost:8080/"
        },
        "id": "iFgZAd0L1a1e",
        "outputId": "53e55859-fddc-4aca-9480-b11e54d2da08"
      },
      "execution_count": null,
      "outputs": [
        {
          "output_type": "execute_result",
          "data": {
            "text/plain": [
              "100"
            ]
          },
          "metadata": {},
          "execution_count": 39
        }
      ]
    },
    {
      "cell_type": "code",
      "source": [
        "# 그러나.. 함수만큼은 스코프가 있다!!\n",
        "a = 10\n",
        "def func():\n",
        "    a = 20\n",
        "    print('a', a)\n",
        "func()\n",
        "a\n",
        "# func 내부 a와 바깥의 a는 우연히 이름이 같을 뿐, 개별 변수 취급"
      ],
      "metadata": {
        "colab": {
          "base_uri": "https://localhost:8080/"
        },
        "id": "YueASQrk2bL6",
        "outputId": "f9750130-f3a2-46a1-8ed2-c244f6d5d467"
      },
      "execution_count": null,
      "outputs": [
        {
          "output_type": "stream",
          "name": "stdout",
          "text": [
            "a 20\n"
          ]
        },
        {
          "output_type": "execute_result",
          "data": {
            "text/plain": [
              "10"
            ]
          },
          "metadata": {},
          "execution_count": 41
        }
      ]
    },
    {
      "cell_type": "code",
      "source": [
        "# 함수 내부의 변수가 존재하는 공간(scope) -> call stack\n",
        "# call(호출), run(실행) : 함수 실행\n",
        "# stack - queue (키보드 버퍼)\n",
        "\n",
        "# local variable 지역변수 : 함수 내부의 변수\n",
        "# global variable 전역변수 : 함수 외부의 가장 바깥의 변수"
      ],
      "metadata": {
        "id": "bZSP1QoC24Vn"
      },
      "execution_count": null,
      "outputs": []
    },
    {
      "cell_type": "code",
      "source": [
        "a = 10\n",
        "def func():\n",
        "    global a\n",
        "    a = 20\n",
        "func()\n",
        "a"
      ],
      "metadata": {
        "colab": {
          "base_uri": "https://localhost:8080/"
        },
        "id": "Qy5s-IFp416b",
        "outputId": "e00010ce-4f8c-4297-939e-317706abc8c3"
      },
      "execution_count": null,
      "outputs": [
        {
          "output_type": "execute_result",
          "data": {
            "text/plain": [
              "20"
            ]
          },
          "metadata": {},
          "execution_count": 44
        }
      ]
    },
    {
      "cell_type": "code",
      "source": [
        "# --------------------------------\n",
        "# lambda + 함수형 언어의 특징\n",
        "# 함수형 언어???\n",
        "# 객체지향 언어, 절차지향 언어, 함수형 언어 -> 패러다임\n",
        "# 1. 모든 것이 함수이다.\n",
        "# ex) c = 1 + 2\n",
        "# ex) d = c + 3\n",
        "# 2. 모든 것이 상수이다. ...\n",
        "# python 이것들을 상당수 반영\n",
        "# 함수도 변수이다! -\n",
        "def add(a, b):\n",
        "    return a + b\n",
        "b = add\n",
        "b(3, 4)"
      ],
      "metadata": {
        "colab": {
          "base_uri": "https://localhost:8080/"
        },
        "id": "zTuBrlz05YiG",
        "outputId": "fec63092-efd3-4580-b786-e87b07f7c9af"
      },
      "execution_count": null,
      "outputs": [
        {
          "output_type": "execute_result",
          "data": {
            "text/plain": [
              "7"
            ]
          },
          "metadata": {},
          "execution_count": 45
        }
      ]
    },
    {
      "cell_type": "code",
      "source": [
        "print(add)"
      ],
      "metadata": {
        "colab": {
          "base_uri": "https://localhost:8080/"
        },
        "id": "XaE4cxHI6_DN",
        "outputId": "c629ff85-3a8d-4d62-fa58-92c756e31990"
      },
      "execution_count": null,
      "outputs": [
        {
          "output_type": "stream",
          "name": "stdout",
          "text": [
            "<function add at 0x7ae1a67edee0>\n"
          ]
        }
      ]
    },
    {
      "cell_type": "code",
      "source": [
        "def calc(f=add, a=3, b=4):\n",
        "    return f(a, b)\n",
        "calc(add, 3, 4)\n",
        "# 함수도 변수처럼 전달할 수 있다....\n",
        "# callback* : 함수 간접 호출 , UI 프로그래밍\n",
        "#             기존 라이브러리 구현에 변경\n",
        "# mouse event\n",
        "# def click(x, y):\n",
        "#     print(x, y)\n",
        "# ui_lib.click(click)\n",
        "# 내부적으로 while True: .. 사용자의 마우스 클릭 감지 -> click\n"
      ],
      "metadata": {
        "colab": {
          "base_uri": "https://localhost:8080/"
        },
        "id": "jibnRuv47E0c",
        "outputId": "daf47087-eeb9-4491-e440-ff1e1101b059"
      },
      "execution_count": null,
      "outputs": [
        {
          "output_type": "execute_result",
          "data": {
            "text/plain": [
              "7"
            ]
          },
          "metadata": {},
          "execution_count": 48
        }
      ]
    },
    {
      "cell_type": "code",
      "source": [
        "# lambda 함수형 언어로부터 온 기호...\n",
        "# -> 함수를 간편하게 만드는 기법\n",
        "# 익명함수 anonymous function\n",
        "add = lambda a, b: a + b\n",
        "(lambda a, b: a + b)(3, 4)\n",
        "# void add(int a, int b){return a + b;}"
      ],
      "metadata": {
        "colab": {
          "base_uri": "https://localhost:8080/"
        },
        "id": "md52JWWCPCbA",
        "outputId": "c810f81c-b643-4f08-d50b-73d5178893c5"
      },
      "execution_count": null,
      "outputs": [
        {
          "output_type": "execute_result",
          "data": {
            "text/plain": [
              "7"
            ]
          },
          "metadata": {},
          "execution_count": 51
        }
      ]
    },
    {
      "cell_type": "code",
      "source": [
        "# 함수가 필요하긴 한데 이름까지 짓고 싶진 않다...\n",
        "# 간단하게 함수를 만들고 싶다.\n",
        "# map, sort ...\n",
        "a = [1, 2, 3, 4]\n",
        "#b = [3, 5, 7, 9]\n",
        "# f(x) = 2 * x + 1\n",
        "b = []\n",
        "for ai in a:\n",
        "    b.append(ai * 2 + 1)\n",
        "\n",
        "def func(x):\n",
        "    return x * 2 + 1\n",
        "\n",
        "b = [func(ai) for ai in a]\n",
        "# 순수 코딩 실력 정직하게 수련하는 유일한 방법 !!!"
      ],
      "metadata": {
        "id": "Sgk0PgzMP28_"
      },
      "execution_count": null,
      "outputs": []
    },
    {
      "cell_type": "code",
      "source": [
        "func = lambda x : x * 2 + 1\n",
        "\n",
        "list(map(func, a))\n",
        "\n",
        "list(map(lambda x:x*2+1, a))"
      ],
      "metadata": {
        "colab": {
          "base_uri": "https://localhost:8080/"
        },
        "id": "xqBrlvumRCMC",
        "outputId": "4b6b6ff8-addb-4af8-99a3-fccdb794c2e9"
      },
      "execution_count": null,
      "outputs": [
        {
          "output_type": "execute_result",
          "data": {
            "text/plain": [
              "[3, 5, 7, 9]"
            ]
          },
          "metadata": {},
          "execution_count": 57
        }
      ]
    },
    {
      "cell_type": "code",
      "source": [
        "data = [{'name':'김', 'score':80},\n",
        "        {'name':'이', 'score':70},\n",
        "        {'name':'박', 'score':90}]\n",
        "\n",
        "#key -> 정렬 대상 원소 하나를 입력 -> 정렬 기준 출력\n",
        "sorted(data, key=lambda x : x['score'])"
      ],
      "metadata": {
        "colab": {
          "base_uri": "https://localhost:8080/"
        },
        "id": "yJ629dRfRwRR",
        "outputId": "669084bb-a966-44af-909f-8461462369d1"
      },
      "execution_count": null,
      "outputs": [
        {
          "output_type": "execute_result",
          "data": {
            "text/plain": [
              "[{'name': '이', 'score': 70},\n",
              " {'name': '김', 'score': 80},\n",
              " {'name': '박', 'score': 90}]"
            ]
          },
          "metadata": {},
          "execution_count": 63
        }
      ]
    },
    {
      "cell_type": "code",
      "source": [
        "# 파이썬 정렬함수는 비교가 가능하면 동작.\n",
        "# dict는 그 자체로 비교 불가\n",
        "func = lambda x : x['score']\n",
        "func(data[0]) < func(data[1])"
      ],
      "metadata": {
        "colab": {
          "base_uri": "https://localhost:8080/"
        },
        "id": "7NvdshVJSRGH",
        "outputId": "d012cb9a-febf-4bdb-e43a-6364e9921584"
      },
      "execution_count": null,
      "outputs": [
        {
          "output_type": "execute_result",
          "data": {
            "text/plain": [
              "False"
            ]
          },
          "metadata": {},
          "execution_count": 62
        }
      ]
    },
    {
      "cell_type": "code",
      "source": [],
      "metadata": {
        "id": "6gviwO_eSx5Z"
      },
      "execution_count": null,
      "outputs": []
    }
  ]
}