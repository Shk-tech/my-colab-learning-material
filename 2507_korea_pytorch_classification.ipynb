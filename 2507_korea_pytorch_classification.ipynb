{
  "nbformat": 4,
  "nbformat_minor": 0,
  "metadata": {
    "colab": {
      "provenance": [],
      "include_colab_link": true
    },
    "kernelspec": {
      "name": "python3",
      "display_name": "Python 3"
    },
    "language_info": {
      "name": "python"
    }
  },
  "cells": [
    {
      "cell_type": "markdown",
      "metadata": {
        "id": "view-in-github",
        "colab_type": "text"
      },
      "source": [
        "<a href=\"https://colab.research.google.com/github/Shk-tech/my-colab-learning-material/blob/main/2507_korea_pytorch_classification.ipynb\" target=\"_parent\"><img src=\"https://colab.research.google.com/assets/colab-badge.svg\" alt=\"Open In Colab\"/></a>"
      ]
    },
    {
      "cell_type": "code",
      "execution_count": null,
      "metadata": {
        "id": "QRkk7zn_TS_D"
      },
      "outputs": [],
      "source": [
        "#fashin-mnist -> deep learning\n",
        "#mnist -> sklearn...."
      ]
    },
    {
      "cell_type": "code",
      "source": [
        "import torch\n",
        "import torchvision # pytorch에서 제공해주는.. vision library... opencv... PIL...\n",
        "import matplotlib.pyplot as plt\n",
        "from torch import nn"
      ],
      "metadata": {
        "id": "qq_DdsrcTk5J"
      },
      "execution_count": null,
      "outputs": []
    },
    {
      "cell_type": "code",
      "source": [
        "mnist_train = torchvision.datasets.FashionMNIST(root='.', train=True, download=True)\n",
        "mnist_valid = torchvision.datasets.FashionMNIST(root='.', train=False, download=True)"
      ],
      "metadata": {
        "colab": {
          "base_uri": "https://localhost:8080/"
        },
        "id": "f8rhz_f5T_kO",
        "outputId": "6558f346-98fb-40be-df55-42b837bd1d9a"
      },
      "execution_count": null,
      "outputs": [
        {
          "output_type": "stream",
          "name": "stderr",
          "text": [
            "100%|██████████| 26.4M/26.4M [00:01<00:00, 18.9MB/s]\n",
            "100%|██████████| 29.5k/29.5k [00:00<00:00, 304kB/s]\n",
            "100%|██████████| 4.42M/4.42M [00:00<00:00, 5.57MB/s]\n",
            "100%|██████████| 5.15k/5.15k [00:00<00:00, 7.20MB/s]\n"
          ]
        }
      ]
    },
    {
      "cell_type": "code",
      "source": [
        "x_train = mnist_train.data / 255\n",
        "y_train = mnist_train.targets\n",
        "x_valid = mnist_valid.data / 255\n",
        "y_valid = mnist_valid.targets\n",
        "x_train.shape, y_train.shape, x_train.dtype, y_train.dtype"
      ],
      "metadata": {
        "colab": {
          "base_uri": "https://localhost:8080/"
        },
        "id": "AyCGHv03UXI8",
        "outputId": "e695607e-ab1f-4749-da02-cd40876964c4"
      },
      "execution_count": null,
      "outputs": [
        {
          "output_type": "execute_result",
          "data": {
            "text/plain": [
              "(torch.Size([60000, 28, 28]), torch.Size([60000]), torch.float32, torch.int64)"
            ]
          },
          "metadata": {},
          "execution_count": 20
        }
      ]
    },
    {
      "cell_type": "code",
      "source": [
        "#PyTorch에서 이진 분류 문제를 풀 때\n",
        "# target : 0~1, float32,  .... (N, 1)\n",
        "y_train_5 = (y_train == 0).float().reshape(-1, 1)\n",
        "y_valid_5 = (y_valid == 0).float().reshape(-1, 1)"
      ],
      "metadata": {
        "id": "6zFTqDzOVsZf"
      },
      "execution_count": null,
      "outputs": []
    },
    {
      "cell_type": "code",
      "source": [
        "dataset_train = list(zip(x_train, y_train_5))\n",
        "dataset_valid = list(zip(x_valid, y_valid_5))\n",
        "\n",
        "loader_train = torch.utils.data.DataLoader(dataset_train, batch_size=32, shuffle=True, drop_last=True)\n",
        "loader_valid = torch.utils.data.DataLoader(dataset_valid, batch_size=32)\n",
        "\n",
        "for x, y in loader_train:\n",
        "    break\n",
        "x.shape, y.shape, x.dtype, y.dtype"
      ],
      "metadata": {
        "colab": {
          "base_uri": "https://localhost:8080/"
        },
        "id": "bU2qwCUaWURA",
        "outputId": "47254b6d-1265-4520-cf7f-ccd7599703c0"
      },
      "execution_count": null,
      "outputs": [
        {
          "output_type": "execute_result",
          "data": {
            "text/plain": [
              "(torch.Size([32, 28, 28]), torch.Size([32, 1]), torch.float32, torch.float32)"
            ]
          },
          "metadata": {},
          "execution_count": 48
        }
      ]
    },
    {
      "cell_type": "code",
      "source": [
        "flat = nn.Flatten()\n",
        "flat(x).shape"
      ],
      "metadata": {
        "colab": {
          "base_uri": "https://localhost:8080/"
        },
        "id": "tL6glQwQdw31",
        "outputId": "8004bc30-bc6b-4fa6-c0b5-184e778b9a17"
      },
      "execution_count": null,
      "outputs": [
        {
          "output_type": "execute_result",
          "data": {
            "text/plain": [
              "torch.Size([32, 784])"
            ]
          },
          "metadata": {},
          "execution_count": 45
        }
      ]
    },
    {
      "cell_type": "code",
      "source": [
        "model = nn.Sequential(\n",
        "    nn.Flatten(),# (N,x) reshape(?, -1)\n",
        "\n",
        "    nn.Linear(28*28, 128),\n",
        "    nn.BatchNorm1d(128),\n",
        "    nn.SiLU(), # 비선형 - Tanh, ReLU\n",
        "\n",
        "    nn.Linear(128, 64),\n",
        "    nn.BatchNorm1d(64),\n",
        "    nn.SiLU(),\n",
        "\n",
        "    nn.Linear(64, 1),\n",
        "    nn.Sigmoid()\n",
        ")\n",
        "\n",
        "opt = torch.optim.Adam(model.parameters())\n",
        "loss_fn = nn.BCELoss()\n",
        " # loss함수의 요구사항 pred - (확률, logit), shape\n",
        " #                   true - (확률, float), shape\n",
        "prob = model(x)\n",
        "loss_fn(prob, y)\n",
        "\n",
        "# 입력데이터 X, Y, 모델의 출력 f(X)->Y^\n",
        "# shape, min/max, dtype\n",
        "# -> loss_fn이 요구하는 y^, Y를 제공해줘야 한다."
      ],
      "metadata": {
        "colab": {
          "base_uri": "https://localhost:8080/"
        },
        "id": "jJcQQRy1aMBB",
        "outputId": "9129a340-c1dd-4416-a04d-057689518741"
      },
      "execution_count": null,
      "outputs": [
        {
          "output_type": "execute_result",
          "data": {
            "text/plain": [
              "tensor(0.7533, grad_fn=<BinaryCrossEntropyBackward0>)"
            ]
          },
          "metadata": {},
          "execution_count": 139
        }
      ]
    },
    {
      "cell_type": "code",
      "source": [
        "# 오버피딩 방지 3종세트\n",
        "# 1. Regularization (모델의 표현력 저하)\n",
        "# 2. Dropout   (BatchNorm을 못 쓸 때... 온라인 학습.. MLP)\n",
        "# 3. BatchNorm (!!)"
      ],
      "metadata": {
        "id": "Ikg5ANQhGwVa"
      },
      "execution_count": null,
      "outputs": []
    },
    {
      "cell_type": "code",
      "source": [
        "# BatchNorm을 쓸 때 주의점\n",
        "# 1. batch-size (너무작으면 안 된다. 16)\n",
        "# 2. random..\n",
        "# 3. 배치학습 (온라인x)\n",
        "# 4. train/eval\n",
        "# -> 무조건 쓸 수록 학습속도.성능"
      ],
      "metadata": {
        "id": "ppQJHlOBcnQj"
      },
      "execution_count": null,
      "outputs": []
    },
    {
      "cell_type": "code",
      "source": [
        "# #####################################\n",
        "# import cv2\n",
        "# cam = cv2.VideoCamera(0)\n",
        "# while True:\n",
        "#     image, ret = cam.read()\n",
        "#     image = preproc(image)\n",
        "#     model.eval()\n",
        "#     with torch.no_grad():\n",
        "#         logit = model(image)\n",
        "\n",
        "\n",
        "#     if logit > 0:\n",
        "#         stop() # PLC\n",
        "#     else:\n",
        "#         continue"
      ],
      "metadata": {
        "id": "eqcW-vDzarlR"
      },
      "execution_count": null,
      "outputs": []
    },
    {
      "cell_type": "code",
      "source": [
        "for epoch in range(20):\n",
        "    model.train()\n",
        "    t_loss = 0\n",
        "    t_acc = 0\n",
        "    for step, (x, y) in enumerate(loader_train):\n",
        "        #1. feed-forwarding   2. loss   3. grad   4. update\n",
        "        prob = model(x)\n",
        "        loss = loss_fn(prob, y * 0.8 + 0.1) # 0 or 1 -> 0.1 or 0.9\n",
        "        opt.zero_grad()\n",
        "        loss.backward()\n",
        "        opt.step()\n",
        "\n",
        "        #metrics\n",
        "        t_loss += loss.item()\n",
        "        pred = (prob.detach() > 0.5).float()\n",
        "        t_acc += (y == pred).float().mean()\n",
        "        print(\"\\r e=%d s=%d l=%.4f a=%.4f\" % (epoch, step, t_loss/(step+1), t_acc/(step+1)), end='')\n",
        "    print()\n",
        "\n",
        "    model.eval()\n",
        "    t_loss = 0\n",
        "    t_acc = 0\n",
        "    for step, (x, y) in enumerate(loader_valid):\n",
        "        #1. feed-forwarding   2. loss\n",
        "        with torch.no_grad():\n",
        "            prob = model(x)\n",
        "        loss = loss_fn(prob, y)\n",
        "\n",
        "        #metrics\n",
        "        t_loss += loss.item()\n",
        "        pred = (prob.detach() > 0.5).float()\n",
        "        t_acc += (y == pred).float().mean()\n",
        "        print(\"\\r%s s=%d l=%.4f a=%.4f\" % (' '*50, step, t_loss/(step+1), t_acc/(step+1)), end='')\n",
        "    print()"
      ],
      "metadata": {
        "colab": {
          "base_uri": "https://localhost:8080/"
        },
        "id": "1aC8HkGi4LUN",
        "outputId": "6fcbd94f-4454-4495-d92d-8d23590e8a69"
      },
      "execution_count": null,
      "outputs": [
        {
          "output_type": "stream",
          "name": "stdout",
          "text": [
            " e=0 s=1874 l=0.3816 a=0.9556\n",
            "                                                   s=312 l=0.1813 a=0.9590\n",
            " e=1 s=1874 l=0.3698 a=0.9625\n",
            "                                                   s=312 l=0.1827 a=0.9643\n",
            " e=2 s=1874 l=0.3662 a=0.9658\n",
            "                                                   s=312 l=0.1696 a=0.9634\n",
            " e=3 s=1874 l=0.3645 a=0.9678\n",
            "                                                   s=312 l=0.1729 a=0.9658\n",
            " e=4 s=1874 l=0.3620 a=0.9710\n",
            "                                                   s=312 l=0.1742 a=0.9675\n",
            " e=5 s=1874 l=0.3603 a=0.9718\n",
            "                                                   s=312 l=0.1791 a=0.9656\n",
            " e=6 s=1874 l=0.3590 a=0.9729\n",
            "                                                   s=312 l=0.1655 a=0.9678\n",
            " e=7 s=1874 l=0.3575 a=0.9743\n",
            "                                                   s=312 l=0.1630 a=0.9698\n",
            " e=8 s=1874 l=0.3566 a=0.9753\n",
            "                                                   s=312 l=0.1613 a=0.9709\n",
            " e=9 s=1874 l=0.3555 a=0.9768\n",
            "                                                   s=312 l=0.1691 a=0.9687\n",
            " e=10 s=1874 l=0.3544 a=0.9775\n",
            "                                                   s=312 l=0.1672 a=0.9690\n",
            " e=11 s=1874 l=0.3535 a=0.9780\n",
            "                                                   s=312 l=0.1715 a=0.9693\n",
            " e=12 s=1874 l=0.3527 a=0.9795\n",
            "                                                   s=312 l=0.1637 a=0.9674\n",
            " e=13 s=1874 l=0.3519 a=0.9799\n",
            "                                                   s=312 l=0.1654 a=0.9703\n",
            " e=14 s=1874 l=0.3504 a=0.9815\n",
            "                                                   s=312 l=0.1605 a=0.9696\n",
            " e=15 s=1874 l=0.3496 a=0.9825\n",
            "                                                   s=312 l=0.1733 a=0.9663\n",
            " e=16 s=1874 l=0.3490 a=0.9831\n",
            "                                                   s=312 l=0.1605 a=0.9690\n",
            " e=17 s=1874 l=0.3482 a=0.9837\n",
            "                                                   s=312 l=0.1705 a=0.9691\n",
            " e=18 s=1874 l=0.3474 a=0.9847\n",
            "                                                   s=312 l=0.1661 a=0.9691\n",
            " e=19 s=1874 l=0.3467 a=0.9854\n",
            "                                                   s=312 l=0.1691 a=0.9694\n"
          ]
        }
      ]
    },
    {
      "cell_type": "code",
      "source": [
        "a = ['a', 'b', 'c']\n",
        "b = ['d', 'e', 'f']\n",
        "for index, (ai, bi) in enumerate(zip(a, b)):\n",
        "    print(ai, bi)"
      ],
      "metadata": {
        "colab": {
          "base_uri": "https://localhost:8080/"
        },
        "id": "13XM8jDU4jh3",
        "outputId": "0a718f63-f18a-4b31-8568-d11a2191e655"
      },
      "execution_count": null,
      "outputs": [
        {
          "output_type": "stream",
          "name": "stdout",
          "text": [
            "a d\n",
            "b e\n",
            "c f\n"
          ]
        }
      ]
    },
    {
      "cell_type": "code",
      "source": [
        "d = nn.Dropout(0.3)\n",
        "dummy = torch.arange(10).float()\n",
        "dummy\n",
        "d.eval()\n",
        "d(dummy)"
      ],
      "metadata": {
        "colab": {
          "base_uri": "https://localhost:8080/"
        },
        "id": "_OMTg8OyCzmW",
        "outputId": "aac5892f-f801-4e4e-a4ab-ffbdf2a2f821"
      },
      "execution_count": null,
      "outputs": [
        {
          "output_type": "execute_result",
          "data": {
            "text/plain": [
              "tensor([0., 1., 2., 3., 4., 5., 6., 7., 8., 9.])"
            ]
          },
          "metadata": {},
          "execution_count": 137
        }
      ]
    },
    {
      "cell_type": "code",
      "source": [],
      "metadata": {
        "colab": {
          "base_uri": "https://localhost:8080/"
        },
        "id": "W0FdAWBWC45a",
        "outputId": "051dd7cd-9aed-49b0-e083-244123e278ae"
      },
      "execution_count": null,
      "outputs": [
        {
          "output_type": "execute_result",
          "data": {
            "text/plain": [
              "tensor([ 0.0000,  1.2500,  2.5000,  3.7500,  5.0000,  0.0000,  7.5000,  8.7500,\n",
              "        10.0000, 11.2500])"
            ]
          },
          "metadata": {},
          "execution_count": 79
        }
      ]
    },
    {
      "cell_type": "code",
      "source": [
        "import numpy as np"
      ],
      "metadata": {
        "id": "d8y22mDCL6zH"
      },
      "execution_count": null,
      "outputs": []
    }
  ]
}