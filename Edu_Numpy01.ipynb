{
  "nbformat": 4,
  "nbformat_minor": 0,
  "metadata": {
    "colab": {
      "provenance": [],
      "include_colab_link": true
    },
    "kernelspec": {
      "name": "python3",
      "display_name": "Python 3"
    },
    "language_info": {
      "name": "python"
    }
  },
  "cells": [
    {
      "cell_type": "markdown",
      "metadata": {
        "id": "view-in-github",
        "colab_type": "text"
      },
      "source": [
        "<a href=\"https://colab.research.google.com/github/Shk-tech/my-colab-learning-material/blob/main/Edu_Numpy01.ipynb\" target=\"_parent\"><img src=\"https://colab.research.google.com/assets/colab-badge.svg\" alt=\"Open In Colab\"/></a>"
      ]
    },
    {
      "cell_type": "markdown",
      "source": [
        "# Numpy 튜토리얼 1부"
      ],
      "metadata": {
        "id": "H0PQeyBcBr3w"
      }
    },
    {
      "cell_type": "code",
      "source": [
        "# 0차원 : 스칼라\n",
        "# 1차원 : 벡터\n",
        "# 행렬 (rows by columns) : 2차원\n",
        "# 3차원 이상 : 텐서 (3차원행렬..)"
      ],
      "metadata": {
        "id": "45eJflEUk5Mu"
      },
      "execution_count": null,
      "outputs": []
    },
    {
      "cell_type": "markdown",
      "source": [
        "# 리스트로 알아보는 다차원 데이터"
      ],
      "metadata": {
        "id": "-Hx91dJR1EVw"
      }
    },
    {
      "cell_type": "markdown",
      "source": [
        "* 스칼라 dim == 0"
      ],
      "metadata": {
        "id": "dWnyv0tWvTyj"
      }
    },
    {
      "cell_type": "code",
      "execution_count": null,
      "metadata": {
        "id": "FsCqxUVrm3on"
      },
      "outputs": [],
      "source": [
        "# a = 1\n",
        "\n",
        "# point2 = (1, 2)\n",
        "# point3 = (x, y, z) #3차원(vector space) 공간상의 한 점...  ---------------> 1차원(dimension)\n",
        "# point10 = (x0, ... ,x9) #---->"
      ]
    },
    {
      "cell_type": "markdown",
      "source": [
        "* 벡터 (or 점) dim == 1\n",
        "* 3차원 공간의 한 점\n",
        "* 여기서 3차원은 vector space 이며 dimension과는 다름"
      ],
      "metadata": {
        "id": "TS-RFu6jvYVo"
      }
    },
    {
      "cell_type": "code",
      "source": [
        "# 3차원 벡터\n",
        "a = [3, 4, 5]\n",
        "vector_space = len(a)\n",
        "\n",
        "# 1차원 벡터는 스칼라와 엄연히 다르면서도(python coding입장에서) 같은 취급을 한다(의미상).\n",
        "a = [10]\n",
        "#그냥 스칼라 vs 수평선 위의 한 점"
      ],
      "metadata": {
        "id": "n_M5zppIvjIJ"
      },
      "execution_count": null,
      "outputs": []
    },
    {
      "cell_type": "markdown",
      "source": [
        "* 행렬 dim == 2"
      ],
      "metadata": {
        "id": "jUinAFO-vZlP"
      }
    },
    {
      "cell_type": "code",
      "source": [
        "#2행 3열 -> 2 by 3 -> (2, 3) -> 2(height), 3(width)\n",
        "a = [[1, 2, 3],\n",
        "     [4, 5, 6]] #\n",
        "a[0][2] #0행 2열\n",
        "a[1][1]\n",
        "\n",
        "rows = len(a)\n",
        "cols = len(a[0])\n"
      ],
      "metadata": {
        "id": "I2uZy4ZPvkbd"
      },
      "execution_count": null,
      "outputs": []
    },
    {
      "cell_type": "code",
      "source": [
        "a = [[1],\n",
        "     [2],\n",
        "     [3]] #\n",
        "\n",
        "b = [[1, 2], [3, 4]]\n",
        "\n",
        "c = [[1, 2, 3, 4]]\n",
        "\n",
        "d = [[1]]\n"
      ],
      "metadata": {
        "id": "Ol7ehjWhqNnd"
      },
      "execution_count": null,
      "outputs": []
    },
    {
      "cell_type": "markdown",
      "source": [
        "\n",
        "---\n",
        "**Quiz**\n",
        "\n",
        "다음에 나타낸 행렬의 크기는 무엇인가?\n",
        "```\n",
        "a = [[1], [2]]\n",
        "b = [[1, 2, 3]]\n",
        "```\n",
        "\n",
        "<details>\n",
        "  <summary>정답</summary>\n",
        "\n",
        "  1. a의 크기는 2행 1열이다. .shape = (2, 1)\n",
        "   * len(a)는 2이고 len(a[0])은 1이다.\n",
        "\n",
        "  2. b의 크기는 1행 3열이다.\n",
        "   * len(b)는 1이고, len(b[0])은 3이다.\n",
        "</details>\n",
        "\n",
        "---"
      ],
      "metadata": {
        "id": "8PvWmDSPyQ2C"
      }
    },
    {
      "cell_type": "markdown",
      "source": [
        "* 3차원 행렬 dim == 3\n",
        "* Tensor!\n",
        "* 3차원부터는 행렬의 개념이 희박해지며\n",
        "* 행, 열, 그리고 페이지(page)/채널(channel)/깊이(depth) 등 응용에 따라 다양한 호칭 사용\n",
        "* 응용과 해석의 방법에 따라 페이지가 가장 앞에 오기도 함\n",
        "* 딥러닝에서 일반적으로 다루는 데이터는 dim >= 3"
      ],
      "metadata": {
        "id": "BIeMvcs9vpYr"
      }
    },
    {
      "cell_type": "code",
      "source": [
        "#height, width, depth\n",
        "#스테레오 음원 좌 / 우 채널\n",
        "#RGB영상 R, G, B 각각을 채널\n",
        "#H W C\n",
        "\n",
        "#3행 2열 2쪽 -> (3, 2, 2)\n",
        "a = [[[1, 2], [3, 4]], [[5, 6], [7, 8]], [[9, 10], [11, 12]]]\n",
        "rows = len(a)\n",
        "cols = len(a[0])\n",
        "pages = len(a[0][0])\n",
        "\n",
        "#또는 3쪽 2행 2열 -> (3, 2, 2)\n",
        "pages = len(a)\n",
        "rows = len(a[0])\n",
        "cols = len(a[0][0])"
      ],
      "metadata": {
        "id": "9VKmiuH1wW2i"
      },
      "execution_count": null,
      "outputs": []
    },
    {
      "cell_type": "markdown",
      "source": [
        "---\n",
        "**Quiz**\n",
        "\n",
        "다음에 나타낸 행렬의 크기는 무엇인가?\n",
        "\n",
        "```\n",
        "a = [[[1], [2], [3]], [[4], [5], [6]], [[7], [8], [9]], [[10], [11], [12]]]\n",
        "b = a[0]\n",
        "```\n",
        "<details>\n",
        "  <summary>정답</summary>\n",
        "\n",
        "  1. a의 크기는 (4, 3, 1)\n",
        "  2. b의 크기는 (3, 1)\n",
        "    \n",
        "</details>\n",
        "\n",
        "---"
      ],
      "metadata": {
        "id": "SWYElhKBzwkm"
      }
    },
    {
      "cell_type": "code",
      "source": [
        "[[[1, 2, 3], [4, 5, 6]]] # 1, 2, 3\n",
        "\n",
        "[[[1, 2]], [[3, 4]]] # 2, 1, 2\n",
        "\n",
        "# 3, 2, 1\n",
        "[[[1],[2]],[[3],[4]],[[5],[6]]]"
      ],
      "metadata": {
        "id": "EyOVRLWKmZ-Y"
      },
      "execution_count": null,
      "outputs": []
    },
    {
      "cell_type": "code",
      "source": [
        "[[[1, 2, 3]], [[1, 2, 3]]]\n",
        "\n",
        "[[[1],[2],[3]]]\n",
        "\n",
        "[[[1, 2], [3, 4]], [[5, 6], [7, 8]]]"
      ],
      "metadata": {
        "id": "r4ZHC_Tk4PsB"
      },
      "execution_count": null,
      "outputs": []
    },
    {
      "cell_type": "code",
      "source": [
        "# 파이썬에 리스트는 있는데 배열이 없네?\n",
        "# 배열과 리스트..\n",
        "# 배열은 물리적으로 붙어있는 메모리 공간... 운영체제 입장에서 1개\n",
        "# 24bytes -> int64 * 3,    int32 * 3 , ...\n",
        "# 효율성이 좋다. 불가능\n",
        "\n",
        "# 리스트\n",
        "# 개별 값이 다 떨어져 있고 주소값으로 연결됨 논리적 연결\n",
        "# 효율성은 안 좋지만, 수정이 간편\n",
        "\n",
        "# b'Life...'\n",
        "\n",
        "# 배열을 쓰고 싶으면 -> numpy를 쓴다\n",
        "# numpy 배열을 다룰 수 있는 (가장 많이 쓰는, 실질적으로 유일한) 라이브러리"
      ],
      "metadata": {
        "id": "9ilRFJ3wnM8s"
      },
      "execution_count": null,
      "outputs": []
    },
    {
      "cell_type": "markdown",
      "source": [
        "# Ndarray 생성"
      ],
      "metadata": {
        "id": "QnhkOl2B1KL6"
      }
    },
    {
      "cell_type": "markdown",
      "source": [
        "* numpy는 cblas로 구현된 행렬 라이브러리"
      ],
      "metadata": {
        "id": "QZXH5IhU1PXU"
      }
    },
    {
      "cell_type": "code",
      "source": [
        "import numpy as np\n",
        "\n",
        "a = np.array([[1, 2, 3], [4, 5, 6]]) # 오브젝트를 생성하는 함수/ 타입이름=함수이름 - 생성자\n",
        "a"
      ],
      "metadata": {
        "colab": {
          "base_uri": "https://localhost:8080/"
        },
        "id": "PaaTW2O40tEQ",
        "outputId": "7ca56f2f-5ca0-4204-fb4f-7f9434476a3d"
      },
      "execution_count": null,
      "outputs": [
        {
          "output_type": "execute_result",
          "data": {
            "text/plain": [
              "array([[1, 2, 3],\n",
              "       [4, 5, 6]])"
            ]
          },
          "metadata": {},
          "execution_count": 8
        }
      ]
    },
    {
      "cell_type": "markdown",
      "source": [
        "* 다양한 배열 생성 방법"
      ],
      "metadata": {
        "id": "6B-s9dOl4LW7"
      }
    },
    {
      "cell_type": "code",
      "source": [
        "np.arange(10) # range"
      ],
      "metadata": {
        "colab": {
          "base_uri": "https://localhost:8080/"
        },
        "id": "2ytM43074Rg5",
        "outputId": "d7a42d7e-a98f-4c8b-82bb-8e1061c1c445"
      },
      "execution_count": null,
      "outputs": [
        {
          "output_type": "execute_result",
          "data": {
            "text/plain": [
              "array([0, 1, 2, 3, 4, 5, 6, 7, 8, 9])"
            ]
          },
          "metadata": {},
          "execution_count": 10
        }
      ]
    },
    {
      "cell_type": "code",
      "source": [
        "np.zeros((2, 3))"
      ],
      "metadata": {
        "colab": {
          "base_uri": "https://localhost:8080/"
        },
        "id": "upWsf6UZ4VcQ",
        "outputId": "c7309078-9ba8-40b7-9710-bacce1e46d71"
      },
      "execution_count": null,
      "outputs": [
        {
          "output_type": "execute_result",
          "data": {
            "text/plain": [
              "array([[0., 0., 0.],\n",
              "       [0., 0., 0.]])"
            ]
          },
          "metadata": {},
          "execution_count": 11
        }
      ]
    },
    {
      "cell_type": "code",
      "source": [
        "np.ones((2, 3))"
      ],
      "metadata": {
        "colab": {
          "base_uri": "https://localhost:8080/"
        },
        "id": "GNUt6Z4X4nN7",
        "outputId": "6bec7577-8085-48d7-86d3-debf357b4cb1"
      },
      "execution_count": null,
      "outputs": [
        {
          "output_type": "execute_result",
          "data": {
            "text/plain": [
              "array([[1., 1., 1.],\n",
              "       [1., 1., 1.]])"
            ]
          },
          "metadata": {},
          "execution_count": 12
        }
      ]
    },
    {
      "cell_type": "code",
      "source": [
        "np.full((3, 4, 2), 10)"
      ],
      "metadata": {
        "colab": {
          "base_uri": "https://localhost:8080/"
        },
        "id": "TdtKItV_4o6O",
        "outputId": "f5e933f6-ef53-4782-960f-3ee3238538cc"
      },
      "execution_count": null,
      "outputs": [
        {
          "output_type": "execute_result",
          "data": {
            "text/plain": [
              "array([[[10, 10],\n",
              "        [10, 10],\n",
              "        [10, 10],\n",
              "        [10, 10]],\n",
              "\n",
              "       [[10, 10],\n",
              "        [10, 10],\n",
              "        [10, 10],\n",
              "        [10, 10]],\n",
              "\n",
              "       [[10, 10],\n",
              "        [10, 10],\n",
              "        [10, 10],\n",
              "        [10, 10]]])"
            ]
          },
          "metadata": {},
          "execution_count": 13
        }
      ]
    },
    {
      "cell_type": "markdown",
      "source": [
        "# dtype"
      ],
      "metadata": {
        "id": "esZGBpnn5AyH"
      }
    },
    {
      "cell_type": "markdown",
      "source": [
        "* 하나의 원소를 표현하기 위해서 시스템의 primitive 타입을 이용?\n",
        "* dtype으로 확인\n",
        "* 타입은 [uint/int/float][8/16/32/64] 의 조합으로 사용\n",
        "* 정수형에 대한 기본 타입은 int64"
      ],
      "metadata": {
        "id": "8YY_rv412hqd"
      }
    },
    {
      "cell_type": "code",
      "source": [
        "# unsigned int\n",
        "# signed int\n",
        "# float\n",
        "# uint8 : 0~255 (*)\n"
      ],
      "metadata": {
        "id": "kWCLzddu_HVK"
      },
      "execution_count": null,
      "outputs": []
    },
    {
      "cell_type": "code",
      "source": [
        "a = np.array([[1, 2], [3, 4]])\n",
        "a.dtype"
      ],
      "metadata": {
        "colab": {
          "base_uri": "https://localhost:8080/"
        },
        "id": "eKN8d9Jo2Hna",
        "outputId": "b3b4de28-e345-4af1-fd61-55e9d8dbce00"
      },
      "execution_count": null,
      "outputs": [
        {
          "output_type": "execute_result",
          "data": {
            "text/plain": [
              "dtype('int64')"
            ]
          },
          "metadata": {},
          "execution_count": 14
        }
      ]
    },
    {
      "cell_type": "markdown",
      "source": [
        "* 실수형에 대한 기본 타입은 float64"
      ],
      "metadata": {
        "id": "NrmITaxE2cFR"
      }
    },
    {
      "cell_type": "code",
      "source": [
        "a = np.array([[1., 2], [3, 4]]) #2, 2\n",
        "a"
      ],
      "metadata": {
        "colab": {
          "base_uri": "https://localhost:8080/"
        },
        "id": "9S0AhgZG2MkT",
        "outputId": "27920488-2c3d-414a-b5b7-f71f954499c5"
      },
      "execution_count": null,
      "outputs": [
        {
          "output_type": "execute_result",
          "data": {
            "text/plain": [
              "array([[1., 2.],\n",
              "       [3., 4.]])"
            ]
          },
          "metadata": {},
          "execution_count": 18
        }
      ]
    },
    {
      "cell_type": "code",
      "source": [
        "a.dtype"
      ],
      "metadata": {
        "colab": {
          "base_uri": "https://localhost:8080/"
        },
        "id": "02GKbzWS2Xxw",
        "outputId": "cc6b5fac-2840-4ddc-cf05-94195eac1323"
      },
      "execution_count": null,
      "outputs": [
        {
          "output_type": "execute_result",
          "data": {
            "text/plain": [
              "dtype('float64')"
            ]
          },
          "metadata": {},
          "execution_count": 19
        }
      ]
    },
    {
      "cell_type": "markdown",
      "source": [
        "* 생성하면서 dtype을 지정할 수 있고 도중에 형변환도 가능"
      ],
      "metadata": {
        "id": "5IokAMZJ1oEW"
      }
    },
    {
      "cell_type": "code",
      "source": [
        "a = np.array([[1, 2], [3, 4]])\n",
        "b = np.float32(a)\n",
        "c = a.astype(np.float32) #b, c는 같다.\n",
        "b"
      ],
      "metadata": {
        "colab": {
          "base_uri": "https://localhost:8080/"
        },
        "id": "HYZUIeBa3fuE",
        "outputId": "48ffc322-734e-4a79-bb7a-74c91cff4b26"
      },
      "execution_count": null,
      "outputs": [
        {
          "output_type": "execute_result",
          "data": {
            "text/plain": [
              "array([[1., 2.],\n",
              "       [3., 4.]], dtype=float32)"
            ]
          },
          "metadata": {},
          "execution_count": 20
        }
      ]
    },
    {
      "cell_type": "code",
      "source": [
        "a = np.array([[1, 2], [3, 4]], np.uint8)\n",
        "a.dtype"
      ],
      "metadata": {
        "colab": {
          "base_uri": "https://localhost:8080/"
        },
        "id": "k8tk67Bz3VKt",
        "outputId": "e234edd7-a6c1-4527-d4cd-0a31b5eb62c5"
      },
      "execution_count": null,
      "outputs": [
        {
          "output_type": "execute_result",
          "data": {
            "text/plain": [
              "dtype('uint8')"
            ]
          },
          "metadata": {},
          "execution_count": 21
        }
      ]
    },
    {
      "cell_type": "markdown",
      "source": [
        "# shape & axis"
      ],
      "metadata": {
        "id": "SP6zs-VH44Zp"
      }
    },
    {
      "cell_type": "markdown",
      "source": [
        "* 모든 배열은 정적 크기를 가짐\n",
        "* shape으로 확인\n",
        "* shape은 튜플이다."
      ],
      "metadata": {
        "id": "1lWinhPh5GmU"
      }
    },
    {
      "cell_type": "code",
      "source": [
        "np.array([[1, 2], [3, 4]]).shape"
      ],
      "metadata": {
        "colab": {
          "base_uri": "https://localhost:8080/"
        },
        "id": "xwuiq-N55eHJ",
        "outputId": "437baf61-c058-493e-82de-da94ffc090b2"
      },
      "execution_count": null,
      "outputs": [
        {
          "output_type": "execute_result",
          "data": {
            "text/plain": [
              "(2, 2)"
            ]
          },
          "metadata": {},
          "execution_count": 22
        }
      ]
    },
    {
      "cell_type": "code",
      "source": [
        "np.array([1, 2, 3]).shape"
      ],
      "metadata": {
        "colab": {
          "base_uri": "https://localhost:8080/"
        },
        "id": "e9ZoIagC5qSM",
        "outputId": "64f19609-ea2a-422c-f306-7271328cbf9b"
      },
      "execution_count": null,
      "outputs": [
        {
          "output_type": "execute_result",
          "data": {
            "text/plain": [
              "(3,)"
            ]
          },
          "metadata": {},
          "execution_count": 23
        }
      ]
    },
    {
      "cell_type": "code",
      "source": [
        "rows, cols = np.array([[1, 2], [3, 4]]).shape"
      ],
      "metadata": {
        "id": "4vf0LfshcJml"
      },
      "execution_count": null,
      "outputs": []
    },
    {
      "cell_type": "markdown",
      "source": [
        "---\n",
        "**Quiz**\n",
        "\n",
        "다음 배열의 shape은 무엇인가?\n",
        "```\n",
        "a = np.array([[1, 2], [3, 4], [5, 6]])\n",
        "b = np.array([[3, 4, 5]])\n",
        "c = np.array([[[1]]])\n",
        "d = np.arange(5)\n",
        "```\n",
        "\n",
        "<details>\n",
        "  <summary>정답</summary>\n",
        "\n",
        "  1. a.shape = (3, 2)\n",
        "   \n",
        "  2. b.shape = (1, 3)\n",
        "\n",
        "  3. c.shape = (1, 1, 1)\n",
        "\n",
        "  4. d.shape = (5,)\n",
        "   \n",
        "</details>\n",
        "\n",
        "---"
      ],
      "metadata": {
        "id": "O5SCv1PY5_u_"
      }
    },
    {
      "cell_type": "markdown",
      "source": [
        "* shape의 길이는 dimension이라고 한다.\n",
        "* 벡터는 1차원, 행렬은 2차원이다.\n",
        "* ndim으로 확인"
      ],
      "metadata": {
        "id": "bpy2EgQsEs3S"
      }
    },
    {
      "cell_type": "code",
      "source": [
        "a = np.array([[1, 2, 3], [4, 5, 6]])\n",
        "a.ndim #len(a.shape) 과 같다."
      ],
      "metadata": {
        "colab": {
          "base_uri": "https://localhost:8080/"
        },
        "id": "tnZCWpl7EJQQ",
        "outputId": "62e4a0e7-4fd6-4126-8a36-7bfd98b6fd28"
      },
      "execution_count": null,
      "outputs": [
        {
          "output_type": "execute_result",
          "data": {
            "text/plain": [
              "2"
            ]
          },
          "metadata": {},
          "execution_count": 27
        }
      ]
    },
    {
      "cell_type": "code",
      "source": [
        "rows, cols = a.shape #unpack\n",
        "#..."
      ],
      "metadata": {
        "id": "PjS2VTltd1QL"
      },
      "execution_count": null,
      "outputs": []
    },
    {
      "cell_type": "markdown",
      "source": [
        "* shape의 각 자리를 축(axis)이라고 한다.\n",
        "* 행렬은 2개의 축을 가지고 있다.\n",
        "* 축마다 번호가 있으며 앞에서부터 0번, 뒤에서부터 -1번이다.\n",
        "* 2차원 행렬의 경우 행의 axis=0, 열의 axis=1 이다. (shape 순서대로)\n",
        "* 예를 들어 sum은 덧셈 결과를 출력하는데, 여기서 축 번호를 지정할 수 있다."
      ],
      "metadata": {
        "id": "ESeWktxOFBmr"
      }
    },
    {
      "cell_type": "code",
      "source": [
        "a = np.array([[1, 2, 3], [4, 5, 6]])\n",
        "a.sum() #축 번호가 없으면 모든 원소를 더함"
      ],
      "metadata": {
        "colab": {
          "base_uri": "https://localhost:8080/"
        },
        "id": "vS8gZgPsFOfX",
        "outputId": "e4e43675-46b2-4159-90db-c6d5b8ed1f29"
      },
      "execution_count": null,
      "outputs": [
        {
          "output_type": "execute_result",
          "data": {
            "text/plain": [
              "np.int64(21)"
            ]
          },
          "metadata": {},
          "execution_count": 28
        }
      ]
    },
    {
      "cell_type": "code",
      "source": [
        "a.sum(axis=0) #0번축 방향으로 더함"
      ],
      "metadata": {
        "colab": {
          "base_uri": "https://localhost:8080/"
        },
        "id": "wQLvFDrbFSHb",
        "outputId": "36152260-5d99-4728-c0bc-7d29ba3abac5"
      },
      "execution_count": null,
      "outputs": [
        {
          "output_type": "execute_result",
          "data": {
            "text/plain": [
              "array([5, 7, 9])"
            ]
          },
          "metadata": {},
          "execution_count": 21
        }
      ]
    },
    {
      "cell_type": "code",
      "source": [
        "a.sum(axis=1) #1번축 방향으로 더함"
      ],
      "metadata": {
        "colab": {
          "base_uri": "https://localhost:8080/"
        },
        "id": "Nw75Zu8TFU_1",
        "outputId": "06ffcdb1-0668-4522-a9e0-a6cc723d5c83"
      },
      "execution_count": null,
      "outputs": [
        {
          "output_type": "execute_result",
          "data": {
            "text/plain": [
              "array([ 6, 15])"
            ]
          },
          "metadata": {},
          "execution_count": 22
        }
      ]
    },
    {
      "cell_type": "code",
      "source": [
        "a.sum(axis=-1) #마지막 축 방향으로 더하는데, 여기서는 1과 같다."
      ],
      "metadata": {
        "colab": {
          "base_uri": "https://localhost:8080/"
        },
        "id": "bAlRd39DFkWe",
        "outputId": "4509963b-95fb-4c12-bd4c-a6cf038f8b84"
      },
      "execution_count": null,
      "outputs": [
        {
          "output_type": "execute_result",
          "data": {
            "text/plain": [
              "array([ 6, 15])"
            ]
          },
          "metadata": {},
          "execution_count": 23
        }
      ]
    },
    {
      "cell_type": "code",
      "source": [
        "# 빅데이터, 데이터 분석 ... numpy, pandas, seaborn, matplot, pyspark... MapReduce"
      ],
      "metadata": {
        "id": "Rq4wHmVYyn2I"
      },
      "execution_count": null,
      "outputs": []
    },
    {
      "cell_type": "code",
      "source": [
        "#.. reduce형 연산... 사용 방법이 동일!\n",
        "# sum mean std min max argmin argmax any all\n",
        "a.mean()"
      ],
      "metadata": {
        "colab": {
          "base_uri": "https://localhost:8080/"
        },
        "id": "Te4gyW7gy7mq",
        "outputId": "135e650c-a108-44a6-b4cd-3f53ded4ede8"
      },
      "execution_count": null,
      "outputs": [
        {
          "output_type": "execute_result",
          "data": {
            "text/plain": [
              "np.float64(3.5)"
            ]
          },
          "metadata": {},
          "execution_count": 55
        }
      ]
    },
    {
      "cell_type": "code",
      "source": [
        "# 원소별 연산\n",
        "# element-wise\n",
        "# A = {a1, a2, a3, ..., an}\n",
        "# B = {b1, b2, b3, ..., bn}\n",
        "# bi = func(ai)\n",
        "# B = {f(a1), f(a2) , ... , f(an)}\n",
        "a = [1, 2, 3]\n",
        "#b = [3, 5, 7]\n",
        "func = lambda x : x * 2 + 1\n",
        "\n",
        "# map...\n",
        "b = [x * 2 + 1 for x in a]\n",
        "\n",
        "b = list(map(func, a))\n",
        "\n",
        "a = np.array([1, 2, 3])\n",
        "b = a * 2 + 1\n",
        "b = func(a)\n",
        "b[0]\n",
        "\n"
      ],
      "metadata": {
        "colab": {
          "base_uri": "https://localhost:8080/"
        },
        "id": "BuPJyK1Ezm0u",
        "outputId": "d99e98b7-e4df-4133-b688-9b7c29a8d7ed"
      },
      "execution_count": null,
      "outputs": [
        {
          "output_type": "execute_result",
          "data": {
            "text/plain": [
              "np.int64(3)"
            ]
          },
          "metadata": {},
          "execution_count": 34
        }
      ]
    },
    {
      "cell_type": "markdown",
      "source": [
        "# reshape"
      ],
      "metadata": {
        "id": "jQM9Yl6qAl5Y"
      }
    },
    {
      "cell_type": "markdown",
      "source": [
        "* shape은 변경 가능\n",
        "* 원소의 개수는 변할 수 없음"
      ],
      "metadata": {
        "id": "vAx8D1Sv7BCm"
      }
    },
    {
      "cell_type": "code",
      "source": [
        "a = np.arange(6) # [0, 1, 2, 3, 4, 5]\n",
        "b = a.reshape(2, 3)\n",
        "b"
      ],
      "metadata": {
        "colab": {
          "base_uri": "https://localhost:8080/"
        },
        "id": "4smjh2GH7Mfu",
        "outputId": "55728b2a-30b3-4c73-9eca-da21bde1d055"
      },
      "execution_count": null,
      "outputs": [
        {
          "output_type": "execute_result",
          "data": {
            "text/plain": [
              "array([[0, 1, 2],\n",
              "       [3, 4, 5]])"
            ]
          },
          "metadata": {},
          "execution_count": 41
        }
      ]
    },
    {
      "cell_type": "code",
      "source": [
        "a.reshape(3, 2)"
      ],
      "metadata": {
        "colab": {
          "base_uri": "https://localhost:8080/"
        },
        "id": "VZPSigKc7gmS",
        "outputId": "109c1bf3-b48b-4c77-d507-fab51a9ac7d0"
      },
      "execution_count": null,
      "outputs": [
        {
          "output_type": "execute_result",
          "data": {
            "text/plain": [
              "array([[0, 1],\n",
              "       [2, 3],\n",
              "       [4, 5]])"
            ]
          },
          "metadata": {},
          "execution_count": 44
        }
      ]
    },
    {
      "cell_type": "markdown",
      "source": [
        "---\n",
        "**Quiz**\n",
        "\n",
        "x1, x2에 들어갈 숫자는 무엇인가?\n",
        "```\n",
        "a = np.arange(10)\n",
        "b = a.reshape(5, x1)\n",
        "c = a.reshape(x2, 10, 1)\n",
        "```\n",
        "\n",
        "<details>\n",
        "  <summary>정답</summary>\n",
        "\n",
        "  1. x1 = 2\n",
        "   \n",
        "  2. x2 = 1\n",
        "   \n",
        "  원소의 개수를 10으로 만들어야 한다.\n",
        "</details>\n",
        "\n",
        "---"
      ],
      "metadata": {
        "id": "NYQAYJvd7llr"
      }
    },
    {
      "cell_type": "markdown",
      "source": [
        "* 원소의 크기가 같아야 한다는 조건 때문에 reshape에서 숫자 하나는 생략해도 되는데 이것을 **와일드카드**라고 한다.\n",
        "* 와일드 카드는 -1 로 표현\n",
        "* 하나만 사용할 수 있다."
      ],
      "metadata": {
        "id": "9vH7GW4y86Jk"
      }
    },
    {
      "cell_type": "code",
      "source": [
        "a = np.array([[1, 2, 3], [4, 5, 6]])\n",
        "a.reshape(-1, 2)"
      ],
      "metadata": {
        "colab": {
          "base_uri": "https://localhost:8080/"
        },
        "id": "EEsBMdDn9Pyo",
        "outputId": "1f8e3e0d-02be-4a72-9738-8552e088638d"
      },
      "execution_count": null,
      "outputs": [
        {
          "output_type": "execute_result",
          "data": {
            "text/plain": [
              "array([[1, 2],\n",
              "       [3, 4],\n",
              "       [5, 6]])"
            ]
          },
          "metadata": {},
          "execution_count": 45
        }
      ]
    },
    {
      "cell_type": "code",
      "source": [
        "# (2, 3) (3, 4, 2), (640, 480, 3)\n",
        "a.reshape(-1) # *flatten, vectorize"
      ],
      "metadata": {
        "colab": {
          "base_uri": "https://localhost:8080/"
        },
        "id": "t-iis8Yl9b0M",
        "outputId": "7d5dad72-902b-4f33-f98c-7dcbd77bf3b2"
      },
      "execution_count": null,
      "outputs": [
        {
          "output_type": "execute_result",
          "data": {
            "text/plain": [
              "array([1, 2, 3, 4, 5, 6])"
            ]
          },
          "metadata": {},
          "execution_count": 73
        }
      ]
    },
    {
      "cell_type": "markdown",
      "source": [
        "---\n",
        "**Quiz**\n",
        "\n",
        "다음에 나타난 배열 b, c, d 의 출력 결과는 무엇인가?\n",
        "```\n",
        "a = np.array([1, 2, 3, 4, 5, 6])\n",
        "b = a.reshape(3, 2)\n",
        "c = a.reshape(2, 3)\n",
        "d = b.reshape(2, 3)\n",
        "print(b)\n",
        "print(c)\n",
        "print(d)\n",
        "```\n",
        "\n",
        "<details>\n",
        "  <summary>정답</summary>\n",
        "\n",
        "  1. [[1, 2], [3, 4], [5, 6]]\n",
        "\n",
        "  2. [[1, 2, 3], [4, 5, 6]]\n",
        "\n",
        "  3. [[1, 2, 3], [4, 5, 6]]\n",
        "   * b.reshape(-1).reshape(-1, 3)으로 생각하면 쉽다.\n",
        "   * 원본 데이터가 [1, 2, 3, 4, 5, 6] 이라면 (2, 3)으로 reshape했을 때의 결과는 항상 똑같다. 예) a.reshape(-1).reshape(2, 3).reshape(3, 2).reshape(2, 3) 도 결과는 [[1, 2, 3], [4, 5, 6]]\n",
        "</details>\n",
        "\n",
        "\n",
        "**Quiz for Advandced**\n",
        "\n",
        "a로부터 ```[[1, 4], [2, 5], [3, 6]]``` 을 만들고 싶으면 어떻게 해야 할까?\n",
        "\n",
        "<details>\n",
        "  <summary>정답</summary>\n",
        "\n",
        "  1. transpose를 활용한다. 정답은 ```a.reshape(2, 3).transpose(1, 0)``` 이다.\n",
        "\n",
        "</details>\n",
        "\n",
        "---"
      ],
      "metadata": {
        "id": "Gt5fOpt8A4Ec"
      }
    },
    {
      "cell_type": "code",
      "source": [
        "a = np.array([1, 2, 3, 4, 5, 6])\n",
        "b = np.array([[1, 4],\n",
        "              [2, 5],\n",
        "              [3, 6]])\n",
        "c = a.reshape(2, 3).T #transpose vs reshape 은 다르다!!!\n",
        "c[0, 0] = 10\n",
        "a"
      ],
      "metadata": {
        "colab": {
          "base_uri": "https://localhost:8080/"
        },
        "id": "pYJ6e8-YrjnG",
        "outputId": "3cb3bfdc-6813-41b1-c388-ba66e30296ff"
      },
      "execution_count": null,
      "outputs": [
        {
          "output_type": "execute_result",
          "data": {
            "text/plain": [
              "array([10,  2,  3,  4,  5,  6])"
            ]
          },
          "metadata": {},
          "execution_count": 46
        }
      ]
    },
    {
      "cell_type": "code",
      "source": [
        "a = np.array([1, 2, 3, 4, 5, 6])\n",
        "a.reshape(2, 3).reshape(3, 2).reshape(-1).reshape(2, 3)\n",
        "a.reshape(2, 3)"
      ],
      "metadata": {
        "colab": {
          "base_uri": "https://localhost:8080/"
        },
        "id": "IX3Rh9ddrJE3",
        "outputId": "76646847-ba06-4a86-dec7-817032434b7f"
      },
      "execution_count": null,
      "outputs": [
        {
          "output_type": "execute_result",
          "data": {
            "text/plain": [
              "array([[1, 2, 3],\n",
              "       [4, 5, 6]])"
            ]
          },
          "metadata": {},
          "execution_count": 47
        }
      ]
    },
    {
      "cell_type": "markdown",
      "source": [
        "# 원소에 대한 접근(인덱싱)"
      ],
      "metadata": {
        "id": "NrrzBoUyDIBu"
      }
    },
    {
      "cell_type": "markdown",
      "source": [
        "* 개별 원소에 접근하여 값을 꺼내오거나 수정할 수 있다.\n",
        "* 원소에 접근할 때는 튜플을 사용한다."
      ],
      "metadata": {
        "id": "9Y7exFX5DK_c"
      }
    },
    {
      "cell_type": "code",
      "source": [
        "import numpy as np\n",
        "a = np.array([1, 2, 3, 4, 5])\n",
        "a[1] = 10\n",
        "a"
      ],
      "metadata": {
        "colab": {
          "base_uri": "https://localhost:8080/"
        },
        "id": "NwbgA5YJDtja",
        "outputId": "cfde6c2b-5990-4aaa-81d4-525ac9487e02"
      },
      "execution_count": null,
      "outputs": [
        {
          "output_type": "execute_result",
          "data": {
            "text/plain": [
              "array([ 1, 10,  3,  4,  5])"
            ]
          },
          "metadata": {},
          "execution_count": 1
        }
      ]
    },
    {
      "cell_type": "code",
      "source": [
        "a[0] + a[3]"
      ],
      "metadata": {
        "colab": {
          "base_uri": "https://localhost:8080/"
        },
        "id": "oi_8FZx6GDLu",
        "outputId": "918c2741-4d0b-4bb9-80f3-9589dd822876"
      },
      "execution_count": null,
      "outputs": [
        {
          "output_type": "execute_result",
          "data": {
            "text/plain": [
              "np.int64(5)"
            ]
          },
          "metadata": {},
          "execution_count": 2
        }
      ]
    },
    {
      "cell_type": "code",
      "source": [
        "a = np.array([[1, 2, 3], [4, 5, 6]])\n",
        "a[(0, 2)] = 10\n",
        "a"
      ],
      "metadata": {
        "colab": {
          "base_uri": "https://localhost:8080/"
        },
        "id": "Nk4H3jVmD6MB",
        "outputId": "0b694546-b884-446c-947c-cf29f43d71ea"
      },
      "execution_count": null,
      "outputs": [
        {
          "output_type": "execute_result",
          "data": {
            "text/plain": [
              "array([[ 1,  2, 10],\n",
              "       [ 4,  5,  6]])"
            ]
          },
          "metadata": {},
          "execution_count": 3
        }
      ]
    },
    {
      "cell_type": "code",
      "source": [
        "#괄호는 생략 가능\n",
        "a[0, 2]"
      ],
      "metadata": {
        "colab": {
          "base_uri": "https://localhost:8080/"
        },
        "id": "2MpW59kEGKmU",
        "outputId": "df3913c8-4ef7-48c0-95d6-863d8fa0ff34"
      },
      "execution_count": null,
      "outputs": [
        {
          "output_type": "execute_result",
          "data": {
            "text/plain": [
              "np.int64(10)"
            ]
          },
          "metadata": {},
          "execution_count": 4
        }
      ]
    },
    {
      "cell_type": "markdown",
      "source": [
        "* 정해진 크기를 벗어난 인덱싱은 오류\n",
        "* 자주 보는 오류 메시지이므로 기억해두면 좋음"
      ],
      "metadata": {
        "id": "EXgKB3_CGg6_"
      }
    },
    {
      "cell_type": "code",
      "source": [
        "a[0, 3] #에러 발생"
      ],
      "metadata": {
        "colab": {
          "base_uri": "https://localhost:8080/",
          "height": 148
        },
        "id": "u6U-li7aGgPg",
        "outputId": "92fb9d13-c585-4e96-d4fd-37f6578ae110"
      },
      "execution_count": null,
      "outputs": [
        {
          "output_type": "error",
          "ename": "IndexError",
          "evalue": "index 3 is out of bounds for axis 1 with size 3",
          "traceback": [
            "\u001b[0;31m---------------------------------------------------------------------------\u001b[0m",
            "\u001b[0;31mIndexError\u001b[0m                                Traceback (most recent call last)",
            "\u001b[0;32m<ipython-input-5-3609028263>\u001b[0m in \u001b[0;36m<cell line: 0>\u001b[0;34m()\u001b[0m\n\u001b[0;32m----> 1\u001b[0;31m \u001b[0ma\u001b[0m\u001b[0;34m[\u001b[0m\u001b[0;36m0\u001b[0m\u001b[0;34m,\u001b[0m \u001b[0;36m3\u001b[0m\u001b[0;34m]\u001b[0m \u001b[0;31m#에러 발생\u001b[0m\u001b[0;34m\u001b[0m\u001b[0;34m\u001b[0m\u001b[0m\n\u001b[0m",
            "\u001b[0;31mIndexError\u001b[0m: index 3 is out of bounds for axis 1 with size 3"
          ]
        }
      ]
    },
    {
      "cell_type": "markdown",
      "source": [
        "---\n",
        "**Quiz**\n",
        "\n",
        "다음 a의 shape은 무엇인가?\n",
        "```\n",
        "a = np.array([[[1, 2]], [[3, 4]]])\n",
        "print(a.shape)\n",
        "```\n",
        "이어서 다음과 같이 a를 수정할 경우 a의 값은 어떻게 되는가?\n",
        "```\n",
        "a[0, 0, 0] = 10\n",
        "a[1, 0, 0] = 20\n",
        "print(a)\n",
        "```\n",
        "\n",
        "<details>\n",
        "  <summary>정답</summary>\n",
        "\n",
        "  1. ```(2, 1, 2)```\n",
        "   * len(a), len(a[0]), len(a[0, 0])을 생각해본다.\n",
        "   \n",
        "  2. ```[[[10, 2]], [[20, 4]]]```\n",
        "   * a[0, 0, 0]은 1이고, a[1, 0, 0]은 3이다. 두 값이 10과 20으로 변경된다.\n",
        "</details>\n",
        "\n",
        "---"
      ],
      "metadata": {
        "id": "ykJkCF96HxO4"
      }
    },
    {
      "cell_type": "markdown",
      "source": [
        "# 부분 행렬 (슬라이싱)"
      ],
      "metadata": {
        "id": "uW9GQYodG7pk"
      }
    },
    {
      "cell_type": "markdown",
      "source": [
        "* 먼저 바닐라 리스트의 부분행렬을 기억해본다."
      ],
      "metadata": {
        "id": "TfXWUNDWHCDh"
      }
    },
    {
      "cell_type": "code",
      "source": [
        "a = [1, 2, 5, 10, 20]\n",
        "a[1:4] # a(i) for 1 <= i < 4"
      ],
      "metadata": {
        "colab": {
          "base_uri": "https://localhost:8080/"
        },
        "id": "BMABPAkuHHz2",
        "outputId": "48518b45-2653-4a41-d599-373839706cf9"
      },
      "execution_count": null,
      "outputs": [
        {
          "output_type": "execute_result",
          "data": {
            "text/plain": [
              "[2, 5, 10]"
            ]
          },
          "metadata": {},
          "execution_count": 6
        }
      ]
    },
    {
      "cell_type": "markdown",
      "source": [
        "* 넘파이도 똑같이 적용 가능"
      ],
      "metadata": {
        "id": "yRs1KKbZHO0H"
      }
    },
    {
      "cell_type": "code",
      "source": [
        "a = np.array([1, 2, 5, 10, 20])\n",
        "a[1:4]"
      ],
      "metadata": {
        "colab": {
          "base_uri": "https://localhost:8080/"
        },
        "id": "wqcVhHHxHNzL",
        "outputId": "edeab6c7-7aa6-4e47-8d20-a673e2d9509e"
      },
      "execution_count": null,
      "outputs": [
        {
          "output_type": "execute_result",
          "data": {
            "text/plain": [
              "array([ 2,  5, 10])"
            ]
          },
          "metadata": {},
          "execution_count": 7
        }
      ]
    },
    {
      "cell_type": "code",
      "source": [
        "a[1:4].shape"
      ],
      "metadata": {
        "colab": {
          "base_uri": "https://localhost:8080/"
        },
        "id": "4apfZTtlHlud",
        "outputId": "bcce1ad3-5072-440b-b643-cedacdc3d3df"
      },
      "execution_count": null,
      "outputs": [
        {
          "output_type": "execute_result",
          "data": {
            "text/plain": [
              "(3,)"
            ]
          },
          "metadata": {},
          "execution_count": 8
        }
      ]
    },
    {
      "cell_type": "code",
      "source": [
        "a[:]"
      ],
      "metadata": {
        "colab": {
          "base_uri": "https://localhost:8080/"
        },
        "id": "eIIKJ1skJU0c",
        "outputId": "c8481f81-0beb-45bc-9875-771eb1ddb02a"
      },
      "execution_count": null,
      "outputs": [
        {
          "output_type": "execute_result",
          "data": {
            "text/plain": [
              "array([ 1,  2,  5, 10, 20])"
            ]
          },
          "metadata": {},
          "execution_count": 9
        }
      ]
    },
    {
      "cell_type": "markdown",
      "source": [
        "* 2차원에 대해서도 동일하게 접근 가능하다."
      ],
      "metadata": {
        "id": "OypORKMBJWFh"
      }
    },
    {
      "cell_type": "code",
      "source": [
        "a = np.array([[1, 2, 3], [4, 5, 6], [7, 8, 9]])\n",
        "a"
      ],
      "metadata": {
        "colab": {
          "base_uri": "https://localhost:8080/"
        },
        "id": "y4ZgLkPKJQtW",
        "outputId": "2392d45d-97e9-4fce-96a7-1776f635f017"
      },
      "execution_count": null,
      "outputs": [
        {
          "output_type": "execute_result",
          "data": {
            "text/plain": [
              "array([[1, 2, 3],\n",
              "       [4, 5, 6],\n",
              "       [7, 8, 9]])"
            ]
          },
          "metadata": {},
          "execution_count": 10
        }
      ]
    },
    {
      "cell_type": "code",
      "source": [
        "a[:, :] # 땡땡 업계 용어... 빠루 쎄멘 빠께스..."
      ],
      "metadata": {
        "colab": {
          "base_uri": "https://localhost:8080/"
        },
        "id": "kH8xPVDR5Yrm",
        "outputId": "7af19b7b-e780-46b8-cb8f-7fbd68a37008"
      },
      "execution_count": null,
      "outputs": [
        {
          "output_type": "execute_result",
          "data": {
            "text/plain": [
              "array([[1, 2, 3],\n",
              "       [4, 5, 6],\n",
              "       [7, 8, 9]])"
            ]
          },
          "metadata": {},
          "execution_count": 11
        }
      ]
    },
    {
      "cell_type": "code",
      "source": [
        "a[:1, :]"
      ],
      "metadata": {
        "colab": {
          "base_uri": "https://localhost:8080/"
        },
        "id": "bVMM-95ButNm",
        "outputId": "ed7a2c8d-c135-4b92-bc92-a9670691d6f4"
      },
      "execution_count": null,
      "outputs": [
        {
          "output_type": "execute_result",
          "data": {
            "text/plain": [
              "array([[1, 2, 3]])"
            ]
          },
          "metadata": {},
          "execution_count": 14
        }
      ]
    },
    {
      "cell_type": "code",
      "source": [],
      "metadata": {
        "id": "OJf7sSRvT_Vq"
      },
      "execution_count": null,
      "outputs": []
    },
    {
      "cell_type": "code",
      "source": [
        "a[:2, 1:]\n",
        "# a[i, j] for 2 > i and 1 <= j\n",
        "# 조건에 만족하는 i는 0, 1,   j는 1, 2이다.\n",
        "# 즉 0행과 1행, 1열과 2열을 선택한다."
      ],
      "metadata": {
        "colab": {
          "base_uri": "https://localhost:8080/"
        },
        "id": "vhRrC8JsJguL",
        "outputId": "5bc847ea-cf32-47f0-97d1-fffda2fef348"
      },
      "execution_count": null,
      "outputs": [
        {
          "output_type": "execute_result",
          "data": {
            "text/plain": [
              "array([[2, 3],\n",
              "       [5, 6]])"
            ]
          },
          "metadata": {},
          "execution_count": 13
        }
      ]
    },
    {
      "cell_type": "markdown",
      "source": [
        "---\n",
        "**Quiz**\n",
        "\n",
        "```a = np.array([[1, 2, 3], [4, 5, 6], [7, 8, 9]])```\n",
        "일 때\n",
        "\n",
        "```[[1, 2, 3]]```를 얻으려면 어떻게 접근해야 하는가?\n",
        "\n",
        "<details>\n",
        "  <summary>정답</summary>\n",
        "  \n",
        "  1. ```a[0:1, :]```\n",
        "\n",
        "</details>\n",
        "\n",
        "**Quiz for Advanced**\n",
        "\n",
        "```[1, 2, 3]```를 얻으려면 어떻게 접근해야 하는가?\n",
        "\n",
        "<details>\n",
        "  <summary>정답</summary>\n",
        "  \n",
        "  1. ```a[0, :]```\n",
        "\n",
        "</details>\n",
        "\n",
        "* ```[[1, 2, 3]]```과 ```[1, 2, 3]```은 대충 비슷하다고 생각할 것이 아니라\n",
        "* 둘을 정확히 구분하고 원하는 결과를 얻어낼 줄 알아야 함\n",
        "---"
      ],
      "metadata": {
        "id": "lPF9kSLd3qJP"
      }
    },
    {
      "cell_type": "markdown",
      "source": [
        "* 바닐라 리스트에서 숫자를 넣어서 인덱싱하면 리스트가 벗겨진다.\n",
        "* 넘파이로 비유하면 축이 사라지는 효과를 얻는다."
      ],
      "metadata": {
        "id": "xd-ywdwP5nPB"
      }
    },
    {
      "cell_type": "code",
      "source": [
        "b = [1, 2, 3, 4, 5] #shape=(5,)\n",
        "b[0] #리스트 아님 #shape=()"
      ],
      "metadata": {
        "colab": {
          "base_uri": "https://localhost:8080/"
        },
        "id": "Qz5D1GfD6HOU",
        "outputId": "c9fc083a-b8a8-48b8-862a-13acd4a79b86"
      },
      "execution_count": null,
      "outputs": [
        {
          "output_type": "execute_result",
          "data": {
            "text/plain": [
              "1"
            ]
          },
          "metadata": {},
          "execution_count": 15
        }
      ]
    },
    {
      "cell_type": "markdown",
      "source": [
        "* 반면 ':'을 사용하여 인덱싱하면 리스트 형태가 그대로 남는다."
      ],
      "metadata": {
        "id": "cOooVNmn76DN"
      }
    },
    {
      "cell_type": "code",
      "source": [
        "b[0:1] #원소가 단 하나여도 리스트 형태가 유지됨 #shape=(1,)"
      ],
      "metadata": {
        "colab": {
          "base_uri": "https://localhost:8080/"
        },
        "id": "zBdDjiwq6W-g",
        "outputId": "cad90b16-a9c8-4efd-da77-c8e3c55e7f67"
      },
      "execution_count": null,
      "outputs": [
        {
          "output_type": "execute_result",
          "data": {
            "text/plain": [
              "[1]"
            ]
          },
          "metadata": {},
          "execution_count": 16
        }
      ]
    },
    {
      "cell_type": "code",
      "source": [
        "b = [[1, 2, 3], [4, 5, 6]] #shape=(2, 3)\n",
        "b[0] #shape=(3,)"
      ],
      "metadata": {
        "colab": {
          "base_uri": "https://localhost:8080/"
        },
        "id": "qpALZTFk-FAY",
        "outputId": "e7de812b-8367-41c4-fc50-8d244bb0b77f"
      },
      "execution_count": null,
      "outputs": [
        {
          "output_type": "execute_result",
          "data": {
            "text/plain": [
              "[1, 2, 3]"
            ]
          },
          "metadata": {},
          "execution_count": 17
        }
      ]
    },
    {
      "cell_type": "code",
      "source": [
        "b[:1] #shape=(1, 3)"
      ],
      "metadata": {
        "colab": {
          "base_uri": "https://localhost:8080/"
        },
        "id": "5Q88Y0Bh-PxA",
        "outputId": "7c678c99-f7b8-4ac4-f9f3-d6abc65b5b54"
      },
      "execution_count": null,
      "outputs": [
        {
          "output_type": "execute_result",
          "data": {
            "text/plain": [
              "[[1, 2, 3]]"
            ]
          },
          "metadata": {},
          "execution_count": 18
        }
      ]
    },
    {
      "cell_type": "markdown",
      "source": [
        "* 넘파이의 경우 ':'을 사용(슬라이싱)하면 shape의 축이 그대로 유지된다. (크기가 줄어들더라도)\n",
        "* 숫자를 넣어서 인덱싱하면 축이 없어져버린다. (dim이 줄어든다)"
      ],
      "metadata": {
        "id": "I5sC1mtB9lFL"
      }
    },
    {
      "cell_type": "code",
      "source": [
        "a = np.array([[1, 2, 3], [4, 5, 6], [7, 8, 9]])\n",
        "a\n",
        "#shape = (3, 3) 이다. axis=0의 크기(행) = 3, axis=1의 크기(열) = 3"
      ],
      "metadata": {
        "colab": {
          "base_uri": "https://localhost:8080/"
        },
        "id": "wf-t-X5r5a6B",
        "outputId": "cef658bb-89a0-435a-e5dd-a736fbf71c0c"
      },
      "execution_count": null,
      "outputs": [
        {
          "output_type": "execute_result",
          "data": {
            "text/plain": [
              "array([[1, 2, 3],\n",
              "       [4, 5, 6],\n",
              "       [7, 8, 9]])"
            ]
          },
          "metadata": {},
          "execution_count": 19
        }
      ]
    },
    {
      "cell_type": "code",
      "source": [
        "a[:, 2]\n",
        "#axis=0  : 을 사용했으므로 그대로 유지\n",
        "#axis=1  2 로 인덱싱했으므로 축이 없어짐\n",
        "#원래 크기 (3, 3)에서 axis=1 부분이 없어지고 (3,)만 남음"
      ],
      "metadata": {
        "colab": {
          "base_uri": "https://localhost:8080/"
        },
        "id": "_AsXwwhH4l5C",
        "outputId": "d9233eb0-f19d-4c61-e87f-2b66fa213016"
      },
      "execution_count": null,
      "outputs": [
        {
          "output_type": "execute_result",
          "data": {
            "text/plain": [
              "array([3, 6, 9])"
            ]
          },
          "metadata": {},
          "execution_count": 20
        }
      ]
    },
    {
      "cell_type": "code",
      "source": [
        "a[:, 2:]\n",
        "#axis=0  : 을 사용했으므로 그대로 유지\n",
        "#axis=1  2: 로 슬라이싱, 크기가 줄어듦\n",
        "#원래 크기 (3, 3)에서 axis=0은 그대로 유지되고 axis=1이 1로 줄어들면서 (3, 1)이 된다."
      ],
      "metadata": {
        "colab": {
          "base_uri": "https://localhost:8080/"
        },
        "id": "6oOGMIpA4pfU",
        "outputId": "7e66528d-e26b-4662-d8ce-6179ebb2a814"
      },
      "execution_count": null,
      "outputs": [
        {
          "output_type": "execute_result",
          "data": {
            "text/plain": [
              "array([[3],\n",
              "       [6],\n",
              "       [9]])"
            ]
          },
          "metadata": {},
          "execution_count": 21
        }
      ]
    },
    {
      "cell_type": "markdown",
      "source": [
        "---\n",
        "**Quiz**\n",
        "\n",
        "다음과 같이 행렬 a가 주어졌을 때,\n",
        "```\n",
        "a = np.arange(16).reshape(4, 4)\n",
        "print(a)\n",
        "```\n",
        "출력결과 다음과 같다.\n",
        "```\n",
        "[[ 0  1  2  3]\n",
        " [ 4  5  6  7]\n",
        " [ 8  9 10 11]\n",
        " [12 13 14 15]]\n",
        " ```\n",
        "\n",
        "다음 b, c, d, e의 값과 shape은 무엇인가?\n",
        "```\n",
        "b = a[:, 3:]\n",
        "c = a[2:4, :2]\n",
        "d = a[0, 3:]\n",
        "e = a[:, 2]\n",
        "print(b, b.shape)\n",
        "print(c, c.shape)\n",
        "print(d, d.shape)\n",
        "print(e, e.shape)\n",
        "```\n",
        "\n",
        "<details>\n",
        "  <summary>정답</summary>\n",
        "\n",
        "  1. b = [[3, 7, 11, 15]], b.shape = (1, 4)\n",
        "\n",
        "  2. c = [[8, 9], [12, 13]], c.shape = (2, 2)\n",
        "\n",
        "  3. d = [3] d.shape = (1,)\n",
        "   \n",
        "  4. e = [2, 6, 10, 14] d.shape = (4,)\n",
        "</details>\n",
        "\n",
        "부분행렬 ```[[2, 3], [6, 7]]```을 얻으려면 a에 어떻게 접근해야 하는가?\n",
        "\n",
        "부분행렬 ```[4, 5, 6, 7]```을 얻으려면 a에 어떻게 접근해야 하는가?\n",
        "\n",
        "<details>\n",
        "  <summary>정답</summary>\n",
        "\n",
        "  1. a[:2, 2:]\n",
        "\n",
        "  2. a[1]\n",
        "  \n",
        "</details>\n",
        "\n",
        "---"
      ],
      "metadata": {
        "id": "S4bn9mCY-wcW"
      }
    },
    {
      "cell_type": "markdown",
      "source": [
        "# 행렬을 리스트처럼"
      ],
      "metadata": {
        "id": "wCWclfJvBBws"
      }
    },
    {
      "cell_type": "markdown",
      "source": [
        "* 슬라이싱에서 뒤쪽에 오는 ':'은 생략 가능하다."
      ],
      "metadata": {
        "id": "Ytzm4VU9CREk"
      }
    },
    {
      "cell_type": "code",
      "source": [
        "a = np.arange(9).reshape(3, 3)\n",
        "a"
      ],
      "metadata": {
        "colab": {
          "base_uri": "https://localhost:8080/"
        },
        "id": "bHjWUkVR-v7o",
        "outputId": "8f5f2b54-9ab6-4482-c9e5-2142612e550f"
      },
      "execution_count": null,
      "outputs": [
        {
          "output_type": "execute_result",
          "data": {
            "text/plain": [
              "array([[0, 1, 2],\n",
              "       [3, 4, 5],\n",
              "       [6, 7, 8]])"
            ]
          },
          "metadata": {},
          "execution_count": 22
        }
      ]
    },
    {
      "cell_type": "code",
      "source": [
        "a[1, :]"
      ],
      "metadata": {
        "colab": {
          "base_uri": "https://localhost:8080/"
        },
        "id": "F3TmGb8yCil2",
        "outputId": "d17b7f6c-4b62-4151-b2d5-3849e9d96fc4"
      },
      "execution_count": null,
      "outputs": [
        {
          "output_type": "execute_result",
          "data": {
            "text/plain": [
              "array([3, 4, 5])"
            ]
          },
          "metadata": {},
          "execution_count": 23
        }
      ]
    },
    {
      "cell_type": "code",
      "source": [
        "a[1]"
      ],
      "metadata": {
        "colab": {
          "base_uri": "https://localhost:8080/"
        },
        "id": "Xb8yI8YVCmNT",
        "outputId": "d2e41e5e-b07a-4310-ac51-25736451db3c"
      },
      "execution_count": null,
      "outputs": [
        {
          "output_type": "execute_result",
          "data": {
            "text/plain": [
              "array([3, 4, 5])"
            ]
          },
          "metadata": {},
          "execution_count": 50
        }
      ]
    },
    {
      "cell_type": "markdown",
      "source": [
        "* 이는 마치 바닐라 리스트를 다루는 것과 유사하다."
      ],
      "metadata": {
        "id": "Ix4CTi5sCwcj"
      }
    },
    {
      "cell_type": "code",
      "source": [
        "b = [[0, 1, 2], [3, 4, 5], [6, 7, 8]]\n",
        "b[1]"
      ],
      "metadata": {
        "colab": {
          "base_uri": "https://localhost:8080/"
        },
        "id": "ClEwPbQqC1Xx",
        "outputId": "bc93f4a1-a56c-47a7-b450-3f946ecae7c3"
      },
      "execution_count": null,
      "outputs": [
        {
          "output_type": "execute_result",
          "data": {
            "text/plain": [
              "[3, 4, 5]"
            ]
          },
          "metadata": {},
          "execution_count": 24
        }
      ]
    },
    {
      "cell_type": "markdown",
      "source": [
        "* 넘파이의 xis=0축은 원소의 개수, 나머지는 개별 원소의 크기로 취급\n",
        "* 예) (4, 3, 2) 크기의 배열은 (3, 2) 크기의 배열이 4개 있는 리스트"
      ],
      "metadata": {
        "id": "r55UCZnKK6yb"
      }
    },
    {
      "cell_type": "code",
      "source": [
        "# (3, 2) 크기의 배열\n",
        "a = np.array([[1, 2], [3, 4], [5, 6]])\n",
        "# (2,) 크기의 배열을 3개 가지고 있는 리스트\n",
        "b = [np.array([1, 2]), np.array([3, 4]), np.array([5, 6])]\n",
        "\n",
        "# 위의 둘은 물론 엄격히 다른 것이지만\n",
        "# a를 b처럼 생각하고 다뤄도 된다."
      ],
      "metadata": {
        "id": "HarwKnrYIvN_"
      },
      "execution_count": null,
      "outputs": []
    },
    {
      "cell_type": "markdown",
      "source": [
        "* 넘파이 배열은 리스트가 가지고 있는 모든 기능을 다 가지고 있음"
      ],
      "metadata": {
        "id": "BEgSxk2sLs7H"
      }
    },
    {
      "cell_type": "code",
      "source": [
        "# (3, 2) 크기의 원소를 4개 가지고 있음\n",
        "a = np.arange(24).reshape(4, 3, 2)\n",
        "len(a)"
      ],
      "metadata": {
        "colab": {
          "base_uri": "https://localhost:8080/"
        },
        "id": "mrZXpJ9JJDLH",
        "outputId": "7bc1fd25-b734-4e7d-c3a2-306ac75e1fda"
      },
      "execution_count": null,
      "outputs": [
        {
          "output_type": "execute_result",
          "data": {
            "text/plain": [
              "4"
            ]
          },
          "metadata": {},
          "execution_count": 27
        }
      ]
    },
    {
      "cell_type": "code",
      "source": [
        "#반복문도 돌릴 수 있다.\n",
        "# 반복문의 횟수... 4,\n",
        "for v in a:\n",
        "    print(v.shape)"
      ],
      "metadata": {
        "colab": {
          "base_uri": "https://localhost:8080/"
        },
        "id": "FURs5io5JJfh",
        "outputId": "c60cb525-65d5-41cd-cfe6-4d13b3b6e273"
      },
      "execution_count": null,
      "outputs": [
        {
          "output_type": "stream",
          "name": "stdout",
          "text": [
            "(3, 2)\n",
            "(3, 2)\n",
            "(3, 2)\n",
            "(3, 2)\n"
          ]
        }
      ]
    },
    {
      "cell_type": "code",
      "source": [
        "#a의 0번째 원소\n",
        "a[0]"
      ],
      "metadata": {
        "colab": {
          "base_uri": "https://localhost:8080/"
        },
        "id": "Kt7jcswYQQBU",
        "outputId": "03332205-2367-4f7e-9516-94712a8d67a5"
      },
      "execution_count": null,
      "outputs": [
        {
          "output_type": "execute_result",
          "data": {
            "text/plain": [
              "array([[0, 1],\n",
              "       [2, 3],\n",
              "       [4, 5]])"
            ]
          },
          "metadata": {},
          "execution_count": 29
        }
      ]
    },
    {
      "cell_type": "code",
      "source": [
        "#는 사실 뒤에 :을 생략한 것이라고 여겨도 된다.\n",
        "a[0, :, :]"
      ],
      "metadata": {
        "colab": {
          "base_uri": "https://localhost:8080/"
        },
        "id": "qKFnd9GEQSnd",
        "outputId": "f6f4ed8a-9489-485e-c501-ae4df1f973f1"
      },
      "execution_count": null,
      "outputs": [
        {
          "output_type": "execute_result",
          "data": {
            "text/plain": [
              "array([[0, 1],\n",
              "       [2, 3],\n",
              "       [4, 5]])"
            ]
          },
          "metadata": {},
          "execution_count": 30
        }
      ]
    },
    {
      "cell_type": "markdown",
      "source": [
        "---\n",
        "**Quiz**\n",
        "\n",
        "다음 b, c, d의 shape을 구하시오.\n",
        "```\n",
        "a = np.arange(6).reshape(3, 2, 1)\n",
        "b = a[0]\n",
        "c = a[:2, 0]\n",
        "d = a[0, :, 0]\n",
        "print(b.shape)\n",
        "print(c.shape)\n",
        "print(d.shape)\n",
        "```\n",
        "\n",
        "<details>\n",
        "  <summary>정답</summary>\n",
        "\n",
        "  1. b.shape = (2, 1)\n",
        "   * ```a[0] == a[0, :, :]``` 이다. (3, 2, 1)의 shape에서 axis=0이 없어지면 (2, 1)만 남는다.\n",
        "   * 또는 (2, 1) 크기의 원소가 3개 있는 리스트로 생각했을 때, 0번째 원소를 꺼내면 그 크기는 (2, 1)이다.\n",
        "\n",
        "  2. c.shape = (2, 1)\n",
        "    * ```a[:2, 0] == a[:2, 0, :]``` 이다. 원래 크기 (3, 2, 1)에서 axis=0의 크기는 2로 줄어든다. axis=1은 인덱싱으로 사라진다. axis=2의 크기는 1이므로 최종 크기는 (2, 1)이다.\n",
        "\n",
        "  3. d.shape = (2,)\n",
        "    * axis=0과 axis=2가 인덱싱으로 사라지고 axis=1만 남는다.\n",
        "</details>\n",
        "---"
      ],
      "metadata": {
        "id": "1ubVdskzuvVC"
      }
    },
    {
      "cell_type": "markdown",
      "source": [
        "# 튜플 대신 연속된 인덱싱을 사용면 생기는 일"
      ],
      "metadata": {
        "id": "sVtcgXi2CMda"
      }
    },
    {
      "cell_type": "code",
      "source": [
        "a = np.arange(24).reshape(2, 3, 4)\n",
        "a"
      ],
      "metadata": {
        "id": "9AWn80heCSkX",
        "outputId": "8bb823a9-faea-48b6-ac2f-2a79299734a6",
        "colab": {
          "base_uri": "https://localhost:8080/"
        }
      },
      "execution_count": null,
      "outputs": [
        {
          "output_type": "execute_result",
          "data": {
            "text/plain": [
              "array([[[ 0,  1,  2,  3],\n",
              "        [ 4,  5,  6,  7],\n",
              "        [ 8,  9, 10, 11]],\n",
              "\n",
              "       [[12, 13, 14, 15],\n",
              "        [16, 17, 18, 19],\n",
              "        [20, 21, 22, 23]]])"
            ]
          },
          "metadata": {},
          "execution_count": 31
        }
      ]
    },
    {
      "cell_type": "code",
      "source": [
        "a[0, 1, 2] #이게 정석적인 인덱싱"
      ],
      "metadata": {
        "id": "8HYAuyWhCgov",
        "outputId": "f77128bc-d272-48fc-d9ff-f82f3ea3f4b4",
        "colab": {
          "base_uri": "https://localhost:8080/"
        }
      },
      "execution_count": null,
      "outputs": [
        {
          "output_type": "execute_result",
          "data": {
            "text/plain": [
              "np.int64(6)"
            ]
          },
          "metadata": {},
          "execution_count": 32
        }
      ]
    },
    {
      "cell_type": "code",
      "source": [
        "a[0][1][2] #결과만 보면 똑같아 보이지만"
      ],
      "metadata": {
        "id": "T8gRKsNqCkmI",
        "outputId": "b55478d8-4c51-41f7-c3d7-d3c4d0a94627",
        "colab": {
          "base_uri": "https://localhost:8080/"
        }
      },
      "execution_count": null,
      "outputs": [
        {
          "output_type": "execute_result",
          "data": {
            "text/plain": [
              "np.int64(6)"
            ]
          },
          "metadata": {},
          "execution_count": 33
        }
      ]
    },
    {
      "cell_type": "code",
      "source": [
        "#해체하면 아래와 같다.\n",
        "b = a[0]\n",
        "c = b[1]\n",
        "d = c[2] #a[0][1][2]와 같다.\n",
        "d"
      ],
      "metadata": {
        "id": "7aYb5YhDCoV3",
        "outputId": "fb82f32e-882a-4209-a187-aa0409d891a9",
        "colab": {
          "base_uri": "https://localhost:8080/"
        }
      },
      "execution_count": null,
      "outputs": [
        {
          "output_type": "execute_result",
          "data": {
            "text/plain": [
              "6"
            ]
          },
          "metadata": {},
          "execution_count": 60
        }
      ]
    },
    {
      "cell_type": "markdown",
      "source": [
        "* 튜플 대신 인덱싱을 연속으로 하면 매우 속도가 느려진다\n",
        "* 가끔 의도치 않은 결과를 얻을 수도 있다."
      ],
      "metadata": {
        "id": "bfYJCC5gC_j9"
      }
    },
    {
      "cell_type": "code",
      "source": [
        "a = np.array([[1, 2, 3], [4, 5, 6]])\n",
        "a[:, 1]"
      ],
      "metadata": {
        "id": "Vednj5b3DIS9",
        "outputId": "f1037f73-4c83-4e59-805b-7e4760e6be82",
        "colab": {
          "base_uri": "https://localhost:8080/"
        }
      },
      "execution_count": null,
      "outputs": [
        {
          "output_type": "execute_result",
          "data": {
            "text/plain": [
              "array([2, 5])"
            ]
          },
          "metadata": {},
          "execution_count": 34
        }
      ]
    },
    {
      "cell_type": "code",
      "source": [
        "a[:][1]"
      ],
      "metadata": {
        "id": "26rFGnT-DM6g",
        "outputId": "0791d0f3-748a-4d71-f93d-75e137381ce2",
        "colab": {
          "base_uri": "https://localhost:8080/"
        }
      },
      "execution_count": null,
      "outputs": [
        {
          "output_type": "execute_result",
          "data": {
            "text/plain": [
              "array([4, 5, 6])"
            ]
          },
          "metadata": {},
          "execution_count": 35
        }
      ]
    },
    {
      "cell_type": "code",
      "source": [
        "#a[:][1]을 풀어보면\n",
        "b = a[:] #b=[[1, 2, 3], [4, 5, 6]]\n",
        "c = b[1] #b[1] = b[1, :] = [4, 5, 6]\n",
        "c"
      ],
      "metadata": {
        "id": "pUnqiF_LDSBO",
        "outputId": "598220ce-543e-4ce5-fe76-c83dfd48e099",
        "colab": {
          "base_uri": "https://localhost:8080/"
        }
      },
      "execution_count": null,
      "outputs": [
        {
          "output_type": "execute_result",
          "data": {
            "text/plain": [
              "array([4, 5, 6])"
            ]
          },
          "metadata": {},
          "execution_count": 36
        }
      ]
    }
  ]
}