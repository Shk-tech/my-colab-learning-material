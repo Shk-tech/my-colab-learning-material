{
  "nbformat": 4,
  "nbformat_minor": 0,
  "metadata": {
    "colab": {
      "provenance": [],
      "include_colab_link": true
    },
    "kernelspec": {
      "name": "python3",
      "display_name": "Python 3"
    },
    "language_info": {
      "name": "python"
    }
  },
  "cells": [
    {
      "cell_type": "markdown",
      "metadata": {
        "id": "view-in-github",
        "colab_type": "text"
      },
      "source": [
        "<a href=\"https://colab.research.google.com/github/Shk-tech/my-colab-learning-material/blob/main/2507_korea_python_class.ipynb\" target=\"_parent\"><img src=\"https://colab.research.google.com/assets/colab-badge.svg\" alt=\"Open In Colab\"/></a>"
      ]
    },
    {
      "cell_type": "code",
      "execution_count": null,
      "metadata": {
        "id": "5mam9bGa2xIX"
      },
      "outputs": [],
      "source": [
        "# 클래스 1985 - 30년 전....\n",
        "# C... C++ 객체지향언어\n",
        "# OOP (Object Oriented Programming)\n",
        "# 데이터 + 함수 => 하나의 객체\n",
        "# Object - 객체"
      ]
    },
    {
      "cell_type": "code",
      "source": [
        "# 왜 필요한가?\n",
        "# 어떤 좋은 점이 있는가?\n",
        "score = {'math':90, 'eng':80, 'sci':70}\n",
        "# 3 과목의 점수를 더하시오.\n",
        "score['math'] + score['eng'] + score['sci']"
      ],
      "metadata": {
        "colab": {
          "base_uri": "https://localhost:8080/"
        },
        "id": "1nV7LcCn3deV",
        "outputId": "84e125d4-8bf6-498c-fdaa-fd98397bdd75"
      },
      "execution_count": null,
      "outputs": [
        {
          "output_type": "execute_result",
          "data": {
            "text/plain": [
              "240"
            ]
          },
          "metadata": {},
          "execution_count": 7
        }
      ]
    },
    {
      "cell_type": "code",
      "source": [
        "# score 는..... 주석으로...\n",
        "# -> 실수할 가능성이 있다.\n",
        "def total_score(score):\n",
        "    return score['math'] + score['eng'] + score['sci']\n",
        "total_score(score)"
      ],
      "metadata": {
        "colab": {
          "base_uri": "https://localhost:8080/"
        },
        "id": "0lUy3au833zP",
        "outputId": "d14afa2d-2710-49a4-ae7d-c59f27beccce"
      },
      "execution_count": null,
      "outputs": [
        {
          "output_type": "execute_result",
          "data": {
            "text/plain": [
              "240"
            ]
          },
          "metadata": {},
          "execution_count": 9
        }
      ]
    },
    {
      "cell_type": "code",
      "source": [
        "# 1. score 타입이 있는가?\n",
        "# 점수를 저장하는 데이터는 dict로 구현했는데...\n",
        "# key = math, eng, sci\n",
        "# score라는 데이터는 문법적으로 정의(강제)가 안 된다.\n",
        "\n",
        "# 2. total_score 함수는 독립적인가?\n",
        "# 이 함수는 무조건 score타입(dict=math, eng, sci)을 받아와야 한다.\n",
        "# ex) total_score(30, 40, 50)\n",
        "# -> 함수는 데이터에 종속적이다. -> 종속적인 관계가 문법적으로 정의(강제)가 안 된다.\n",
        "# def add(a, b):\n",
        "#     return a + b\n",
        "# add('asdf', 123)\n",
        "# score, student, pay\n",
        "# total_score, total_student, total_pay.....\n",
        "# 함수가 나중에는 굉장히 많아지는데.. 전부 글로벌임. 변수/함수 개수가 적을수록 좋은데\n",
        "def func():\n",
        "    a = 1\n",
        "    b = 2 # 지역변수....\n",
        "    def func2():\n",
        "        pass\n",
        "    func2()\n",
        "\n",
        "# func2()???"
      ],
      "metadata": {
        "id": "XLMzYw8K4BGL"
      },
      "execution_count": null,
      "outputs": []
    },
    {
      "cell_type": "code",
      "source": [
        "# 클래스라는 것은 새로운 타입을 만드는 것이다.\n",
        "# 기존에 있던 것들을 엮어서..\n",
        "a = int('123')\n",
        "# int 는 타입 이름(클래스)\n",
        "a\n",
        "b = list() # a, b -> 객체(인스턴스, instance)    int, list -> 클래스\n",
        "b\n",
        "# instance 예시 예제\n",
        "# 3은 정수의 한 예이다.\n",
        "# [1, 2, 3] 은 리스트의 한 예이다."
      ],
      "metadata": {
        "colab": {
          "base_uri": "https://localhost:8080/"
        },
        "id": "BUZUSQn66dZN",
        "outputId": "25d2b752-9ac1-43af-ee11-f56d4f6ea014"
      },
      "execution_count": null,
      "outputs": [
        {
          "output_type": "execute_result",
          "data": {
            "text/plain": [
              "[]"
            ]
          },
          "metadata": {},
          "execution_count": 18
        }
      ]
    },
    {
      "cell_type": "code",
      "source": [
        "# 클래스.. 문법..\n",
        "# 깡통 클래스. a = [], b = dict()\n",
        "# -> 클래스의 개발자\n",
        "class Score:\n",
        "    def set(self, math, eng, sci):\n",
        "        self.math = math\n",
        "        self.eng = eng\n",
        "        self.sci = sci\n",
        "\n",
        "    def total(self): #self - 나를 호출하신 주인님\n",
        "        return self.math + self.sci + self.eng\n",
        "\n",
        "# -> 클래스의 사용자\n",
        "score = Score() # 함수 쓰듯이 클래스 이름에 괄호를 붙임\n",
        "#여기 시점에서는.. score 타입이.. 아닌데?\n",
        "# 무결성이 깨진다.\n",
        "\n",
        "# 클래스 이름이 해당 클래스의 객체를 생성하는 함수가 됨.\n",
        "\n",
        "# 객체는 내부에 변수를 따로 저장할 수 있다.\n",
        "# 멤버 변수, attribute\n",
        "score.set(90, 80, 70) # 이 시점에서 완벽한 Score 타입이 만들어진다.\n",
        "score.total()\n",
        "\n",
        "s2 = Score()\n",
        "s2.set(30, 40, 50)\n",
        "s2.total()"
      ],
      "metadata": {
        "colab": {
          "base_uri": "https://localhost:8080/",
          "height": 355
        },
        "id": "GBBkFjV-51wX",
        "outputId": "188916e1-a96b-4a3d-aa70-0b92673c3209"
      },
      "execution_count": null,
      "outputs": [
        {
          "output_type": "error",
          "ename": "AttributeError",
          "evalue": "'Score' object has no attribute 'math'",
          "traceback": [
            "\u001b[0;31m---------------------------------------------------------------------------\u001b[0m",
            "\u001b[0;31mAttributeError\u001b[0m                            Traceback (most recent call last)",
            "\u001b[0;32m/tmp/ipython-input-40-2266060598.py\u001b[0m in \u001b[0;36m<cell line: 0>\u001b[0;34m()\u001b[0m\n\u001b[1;32m     18\u001b[0m \u001b[0;31m# 멤버 변수, attribute\u001b[0m\u001b[0;34m\u001b[0m\u001b[0;34m\u001b[0m\u001b[0m\n\u001b[1;32m     19\u001b[0m \u001b[0;31m# score.set(90, 80, 70)\u001b[0m\u001b[0;34m\u001b[0m\u001b[0;34m\u001b[0m\u001b[0m\n\u001b[0;32m---> 20\u001b[0;31m \u001b[0mscore\u001b[0m\u001b[0;34m.\u001b[0m\u001b[0mtotal\u001b[0m\u001b[0;34m(\u001b[0m\u001b[0;34m)\u001b[0m\u001b[0;34m\u001b[0m\u001b[0;34m\u001b[0m\u001b[0m\n\u001b[0m\u001b[1;32m     21\u001b[0m \u001b[0;34m\u001b[0m\u001b[0m\n\u001b[1;32m     22\u001b[0m \u001b[0ms2\u001b[0m \u001b[0;34m=\u001b[0m \u001b[0mScore\u001b[0m\u001b[0;34m(\u001b[0m\u001b[0;34m)\u001b[0m\u001b[0;34m\u001b[0m\u001b[0;34m\u001b[0m\u001b[0m\n",
            "\u001b[0;32m/tmp/ipython-input-40-2266060598.py\u001b[0m in \u001b[0;36mtotal\u001b[0;34m(self)\u001b[0m\n\u001b[1;32m      9\u001b[0m \u001b[0;34m\u001b[0m\u001b[0m\n\u001b[1;32m     10\u001b[0m     \u001b[0;32mdef\u001b[0m \u001b[0mtotal\u001b[0m\u001b[0;34m(\u001b[0m\u001b[0mself\u001b[0m\u001b[0;34m)\u001b[0m\u001b[0;34m:\u001b[0m \u001b[0;31m#self - 나를 호출하신 주인님\u001b[0m\u001b[0;34m\u001b[0m\u001b[0;34m\u001b[0m\u001b[0m\n\u001b[0;32m---> 11\u001b[0;31m         \u001b[0;32mreturn\u001b[0m \u001b[0mself\u001b[0m\u001b[0;34m.\u001b[0m\u001b[0mmath\u001b[0m \u001b[0;34m+\u001b[0m \u001b[0mself\u001b[0m\u001b[0;34m.\u001b[0m\u001b[0msci\u001b[0m \u001b[0;34m+\u001b[0m \u001b[0mself\u001b[0m\u001b[0;34m.\u001b[0m\u001b[0meng\u001b[0m\u001b[0;34m\u001b[0m\u001b[0;34m\u001b[0m\u001b[0m\n\u001b[0m\u001b[1;32m     12\u001b[0m \u001b[0;34m\u001b[0m\u001b[0m\n\u001b[1;32m     13\u001b[0m \u001b[0;31m# -> 클래스의 사용자\u001b[0m\u001b[0;34m\u001b[0m\u001b[0;34m\u001b[0m\u001b[0m\n",
            "\u001b[0;31mAttributeError\u001b[0m: 'Score' object has no attribute 'math'"
          ]
        }
      ]
    },
    {
      "cell_type": "code",
      "source": [
        "class Score:\n",
        "    # 생성자.. 생성할 때 무조건 호출됨\n",
        "    # 생성자의 파라미터는 무조건 생성할 때 넣어줘야 한다. (self 빼고...)\n",
        "    def __init__(self, math=0, eng=0, sci=0):\n",
        "        self.set(math, eng, sci)\n",
        "\n",
        "    def set(self, math, eng, sci):\n",
        "        self.math = math\n",
        "        self.eng = eng\n",
        "        self.sci = sci\n",
        "\n",
        "    def total(self): #self - 나를 호출하신 주인님\n",
        "        return self.math + self.sci + self.eng\n",
        "\n",
        "s = Score()\n",
        "s.total()\n",
        "# 여전히 좀 이상한 부분...\n",
        "# s.math = \"asdf\" # 문법적으로 막아줘야 하는데.. 파이썬에서는 그냥 허용.... public private 접근자\n",
        "#... property를 쓰면 막긴 막는데...\n",
        "s.total()"
      ],
      "metadata": {
        "colab": {
          "base_uri": "https://localhost:8080/"
        },
        "id": "fjz35ZuF_BXc",
        "outputId": "c2bb75b0-eead-4701-e04c-3bef0cab2600"
      },
      "execution_count": null,
      "outputs": [
        {
          "output_type": "execute_result",
          "data": {
            "text/plain": [
              "0"
            ]
          },
          "metadata": {},
          "execution_count": 48
        }
      ]
    },
    {
      "cell_type": "code",
      "source": [
        "# 클래스... 라이브러리를 제작하는 게 목적이 아니고\n",
        "# 기존에 있는 클래스를... 잘 쓰면 그만.\n",
        "# ....\n",
        "# 클래스의 무결성, incapsulation (캡슐화...)\n",
        "# -> 함수를 이용해서 객체를 다룬다.\n",
        "# -> attribute는 건들지 않는다 -> attribute가 뭐 있는지 신경 안 써도 된다. (클래스 사용자)\n",
        "\n",
        "# incapsulation - 코드를 내부에 감추고 드러내지 않음\n",
        "#               - 사용하는 사람은 코드를 알 필요 없음.\n",
        "\n",
        "# 라이브러리? - 내가 작성하지 않은 코드, 다른 사람에게 배포할 목적으로 작성한 코드 홍익인간??\n",
        "# 배포를 간편하게 하고, 쓰는 사람도 간편하게 쓰려면 class"
      ],
      "metadata": {
        "id": "csJO54fxAThj"
      },
      "execution_count": null,
      "outputs": []
    },
    {
      "cell_type": "code",
      "source": [
        "class FourCal:\n",
        "    def setdata(self, first, second):\n",
        "        self.first = first\n",
        "        self.second = second\n",
        "\n",
        "    def add(self):\n",
        "        result = self.first + self.second\n",
        "        return result\n",
        "\n",
        "    def mul(self):\n",
        "        result = self.first * self.second\n",
        "        return result\n",
        "\n",
        "    def sub(self):\n",
        "        result = self.first - self.second\n",
        "        return result\n",
        "\n",
        "    def div(self):\n",
        "        result = self.first / self.second\n",
        "        return result"
      ],
      "metadata": {
        "id": "BgLRH6Z0BrFg"
      },
      "execution_count": null,
      "outputs": []
    },
    {
      "cell_type": "code",
      "source": [
        "cal = FourCal()\n",
        "cal.setdata(5, 3)\n",
        "cal.sub()"
      ],
      "metadata": {
        "colab": {
          "base_uri": "https://localhost:8080/"
        },
        "id": "9PrxQPsouJl9",
        "outputId": "644dc929-c4c7-4ea6-c345-578379879b90"
      },
      "execution_count": null,
      "outputs": [
        {
          "output_type": "execute_result",
          "data": {
            "text/plain": [
              "2"
            ]
          },
          "metadata": {},
          "execution_count": 4
        }
      ]
    },
    {
      "cell_type": "code",
      "source": [
        "class Angle:\n",
        "    def __init__(self, v):\n",
        "        self.v = v\n",
        "    def add(self, v):\n",
        "        self.v = (self.v + v) % 360\n",
        "    def value(self):\n",
        "        return self.v\n"
      ],
      "metadata": {
        "id": "170xJMfzvL4M"
      },
      "execution_count": null,
      "outputs": []
    },
    {
      "cell_type": "code",
      "source": [
        "a = Angle(50)\n",
        "a.add(400)\n",
        "a.value() # 90"
      ],
      "metadata": {
        "colab": {
          "base_uri": "https://localhost:8080/"
        },
        "id": "q9mEeW0uu2Hn",
        "outputId": "b18c9016-3297-4ee5-ffc9-10bef489f014"
      },
      "execution_count": null,
      "outputs": [
        {
          "output_type": "execute_result",
          "data": {
            "text/plain": [
              "90"
            ]
          },
          "metadata": {},
          "execution_count": 8
        }
      ]
    },
    {
      "cell_type": "code",
      "source": [
        "class Point:\n",
        "    def __init__(self, x=0, y=0):\n",
        "        self.x = x\n",
        "        self.y = y\n",
        "\n",
        "    # setter\n",
        "    def set(self, x, y):\n",
        "        self.x = x\n",
        "        self.y = y\n",
        "\n",
        "    # getter\n",
        "    def getX(self):\n",
        "        return self.x\n",
        "\n",
        "    def getY(self):\n",
        "        return self.y\n",
        "\n",
        "    def len(self):\n",
        "        return (self.x**2 + self.y**2)**0.5\n"
      ],
      "metadata": {
        "id": "ZYX9Z62MxoqG"
      },
      "execution_count": null,
      "outputs": []
    },
    {
      "cell_type": "code",
      "source": [
        "a = Point()\n",
        "a.set(3, 4)\n",
        "a.getX() # 3\n",
        "a.getY() # 4\n",
        "a.len() # 5\n",
        "\n"
      ],
      "metadata": {
        "colab": {
          "base_uri": "https://localhost:8080/"
        },
        "id": "qCc4SSNrxS-M",
        "outputId": "c73217a4-085c-40d3-878a-56c4228e25a6"
      },
      "execution_count": null,
      "outputs": [
        {
          "output_type": "execute_result",
          "data": {
            "text/plain": [
              "5.0"
            ]
          },
          "metadata": {},
          "execution_count": 19
        }
      ]
    },
    {
      "cell_type": "code",
      "source": [
        "class Length:\n",
        "    def __init__(self):\n",
        "        self.inch = 0\n",
        "        self.centi = 0\n",
        "\n",
        "    def setInch(self, inch):\n",
        "        self.inch = inch\n",
        "        self.centi = inch * 2.54\n",
        "\n",
        "    def setCenti(self, centi):\n",
        "        self.centi = centi\n",
        "        self.inch = centi / 2.54\n",
        "\n",
        "    def getInch(self):\n",
        "        return self.inch\n",
        "\n",
        "    def getCenti(self):\n",
        "        return self.centi"
      ],
      "metadata": {
        "id": "9jeRr3uSz1au"
      },
      "execution_count": null,
      "outputs": []
    },
    {
      "cell_type": "code",
      "source": [
        "class Length:\n",
        "    def __init__(self):\n",
        "        self.centi = 0\n",
        "\n",
        "    def setCenti(self, centi):\n",
        "        self.centi = centi\n",
        "\n",
        "    def setInch(self, inch):\n",
        "        self.centi = inch * 2.54\n",
        "\n",
        "    def getCenti(self):\n",
        "        return self.centi\n",
        "\n",
        "    def getInch(self):\n",
        "        return self.centi / 2.54"
      ],
      "metadata": {
        "id": "6OP6TDhF2SDJ"
      },
      "execution_count": null,
      "outputs": []
    },
    {
      "cell_type": "code",
      "source": [
        "# 길이를 변환\n",
        "a = Length() #0\n",
        "a.setInch(3)\n",
        "a.getCenti()#??"
      ],
      "metadata": {
        "colab": {
          "base_uri": "https://localhost:8080/"
        },
        "id": "ZAkV0VxLxjs7",
        "outputId": "f9011010-ffe1-4564-a526-2f6519280223"
      },
      "execution_count": null,
      "outputs": [
        {
          "output_type": "execute_result",
          "data": {
            "text/plain": [
              "5.0"
            ]
          },
          "metadata": {},
          "execution_count": 10
        }
      ]
    },
    {
      "cell_type": "code",
      "source": [
        "a.setCenti(3)\n",
        "a.getCenti()"
      ],
      "metadata": {
        "id": "VWxfUstFzxsN"
      },
      "execution_count": null,
      "outputs": []
    },
    {
      "cell_type": "code",
      "source": [
        "class Length:\n",
        "    def __init__(self):\n",
        "        self.inch = 0\n",
        "        self.centi = 0\n",
        "\n",
        "    def setInch(self, inch):\n",
        "        self.inch = inch\n",
        "        self.centi = inch * 2.54\n",
        "\n",
        "    def setCenti(self, centi):\n",
        "        self.centi = centi\n",
        "        self.inch = centi / 2.54\n",
        "\n",
        "    def getInch(self):\n",
        "        return self.inch\n",
        "\n",
        "    def getCenti(self):\n",
        "        return self.centi"
      ],
      "metadata": {
        "id": "wprog1k0240I"
      },
      "execution_count": null,
      "outputs": []
    },
    {
      "cell_type": "code",
      "source": [
        "# 상속... 클래스의 핵심 기능\n",
        "# 공통 기능 중복 구현 방지\n",
        "# ...???\n",
        "# 인캡슐레이션...\n",
        "\n",
        "# 부모클래스 Length - 라이브러리 개발자\n",
        "\n",
        "# 자식클래스 Length2 - 라이브러라 사용자\n",
        "\n",
        "class Length2(Length):\n",
        "    def setYard(self, yard):\n",
        "        self.setCenti(yard * 91.44)\n",
        "    def getYard(self):\n",
        "        return self.getCenti() / 91.44\n",
        "\n",
        "conv = Length2()\n",
        "conv.setInch(31)\n",
        "conv.getCenti()\n",
        "conv.setYard(1)\n",
        "conv.getCenti()"
      ],
      "metadata": {
        "colab": {
          "base_uri": "https://localhost:8080/"
        },
        "id": "dHyuuRWo3EYJ",
        "outputId": "6b0a498d-75b3-4430-8324-6695502e3fda"
      },
      "execution_count": null,
      "outputs": [
        {
          "output_type": "execute_result",
          "data": {
            "text/plain": [
              "91.44"
            ]
          },
          "metadata": {},
          "execution_count": 32
        }
      ]
    },
    {
      "cell_type": "code",
      "source": [
        "a = FourCal()\n",
        "a.setdata(4, 0)\n",
        "a.div()"
      ],
      "metadata": {
        "colab": {
          "base_uri": "https://localhost:8080/",
          "height": 299
        },
        "id": "wq-uzUgX87vi",
        "outputId": "e0683c71-3416-4241-c769-dbfbc121ee95"
      },
      "execution_count": null,
      "outputs": [
        {
          "output_type": "error",
          "ename": "ZeroDivisionError",
          "evalue": "division by zero",
          "traceback": [
            "\u001b[0;31m---------------------------------------------------------------------------\u001b[0m",
            "\u001b[0;31mZeroDivisionError\u001b[0m                         Traceback (most recent call last)",
            "\u001b[0;32m/tmp/ipython-input-36-31143099.py\u001b[0m in \u001b[0;36m<cell line: 0>\u001b[0;34m()\u001b[0m\n\u001b[1;32m      1\u001b[0m \u001b[0ma\u001b[0m \u001b[0;34m=\u001b[0m \u001b[0mFourCal\u001b[0m\u001b[0;34m(\u001b[0m\u001b[0;34m)\u001b[0m\u001b[0;34m\u001b[0m\u001b[0;34m\u001b[0m\u001b[0m\n\u001b[1;32m      2\u001b[0m \u001b[0ma\u001b[0m\u001b[0;34m.\u001b[0m\u001b[0msetdata\u001b[0m\u001b[0;34m(\u001b[0m\u001b[0;36m4\u001b[0m\u001b[0;34m,\u001b[0m \u001b[0;36m0\u001b[0m\u001b[0;34m)\u001b[0m\u001b[0;34m\u001b[0m\u001b[0;34m\u001b[0m\u001b[0m\n\u001b[0;32m----> 3\u001b[0;31m \u001b[0ma\u001b[0m\u001b[0;34m.\u001b[0m\u001b[0mdiv\u001b[0m\u001b[0;34m(\u001b[0m\u001b[0;34m)\u001b[0m\u001b[0;34m\u001b[0m\u001b[0;34m\u001b[0m\u001b[0m\n\u001b[0m",
            "\u001b[0;32m/tmp/ipython-input-33-3903084745.py\u001b[0m in \u001b[0;36mdiv\u001b[0;34m(self)\u001b[0m\n\u001b[1;32m     17\u001b[0m \u001b[0;34m\u001b[0m\u001b[0m\n\u001b[1;32m     18\u001b[0m     \u001b[0;32mdef\u001b[0m \u001b[0mdiv\u001b[0m\u001b[0;34m(\u001b[0m\u001b[0mself\u001b[0m\u001b[0;34m)\u001b[0m\u001b[0;34m:\u001b[0m\u001b[0;34m\u001b[0m\u001b[0;34m\u001b[0m\u001b[0m\n\u001b[0;32m---> 19\u001b[0;31m         \u001b[0mresult\u001b[0m \u001b[0;34m=\u001b[0m \u001b[0mself\u001b[0m\u001b[0;34m.\u001b[0m\u001b[0mfirst\u001b[0m \u001b[0;34m/\u001b[0m \u001b[0mself\u001b[0m\u001b[0;34m.\u001b[0m\u001b[0msecond\u001b[0m\u001b[0;34m\u001b[0m\u001b[0;34m\u001b[0m\u001b[0m\n\u001b[0m\u001b[1;32m     20\u001b[0m         \u001b[0;32mreturn\u001b[0m \u001b[0mresult\u001b[0m\u001b[0;34m\u001b[0m\u001b[0;34m\u001b[0m\u001b[0m\n",
            "\u001b[0;31mZeroDivisionError\u001b[0m: division by zero"
          ]
        }
      ]
    },
    {
      "cell_type": "code",
      "source": [
        "class FourCal:\n",
        "    def setdata(self, first, second):\n",
        "        self.first = first\n",
        "        self.second = second\n",
        "\n",
        "    def add(self):\n",
        "        result = self.first + self.second\n",
        "        return result\n",
        "    def mul(self):\n",
        "        result = self.first * self.second\n",
        "        return result\n",
        "    def sub(self):\n",
        "        result = self.first - self.second\n",
        "        return result\n",
        "    def div(self):\n",
        "        result = self.first / self.second\n",
        "        return result"
      ],
      "metadata": {
        "id": "ow3PJnbrCk39"
      },
      "execution_count": null,
      "outputs": []
    },
    {
      "cell_type": "code",
      "source": [
        "#버그도 에러도 계속되면 사양이다.\n",
        "a = FourCal()\n",
        "a.setdata(4, 0)\n",
        "try:\n",
        "    a.div()\n",
        "except:\n",
        "    print('0으로 나눌 수 없습니다.')"
      ],
      "metadata": {
        "colab": {
          "base_uri": "https://localhost:8080/"
        },
        "id": "7C1BRNLhBxiE",
        "outputId": "027b0a5c-1863-4515-a93b-d90bf4cb3489"
      },
      "execution_count": null,
      "outputs": [
        {
          "output_type": "stream",
          "name": "stdout",
          "text": [
            "0으로 나눌 수 없습니다.\n"
          ]
        }
      ]
    },
    {
      "cell_type": "code",
      "source": [
        "#재귀함수...\n",
        "def func1():\n",
        "    func2()\n",
        "\n",
        "def func2():\n",
        "    func1()\n",
        "func1()"
      ],
      "metadata": {
        "colab": {
          "base_uri": "https://localhost:8080/"
        },
        "id": "H2YP3y2hDAjF",
        "outputId": "a22ce75a-e1b6-426c-a1ca-d30e18fab701"
      },
      "execution_count": null,
      "outputs": [
        {
          "output_type": "stream",
          "name": "stderr",
          "text": [
            "ERROR:root:Internal Python error in the inspect module.\n",
            "Below is the traceback from this internal error.\n",
            "\n",
            "ERROR:root:Internal Python error in the inspect module.\n",
            "Below is the traceback from this internal error.\n",
            "\n"
          ]
        }
      ]
    },
    {
      "cell_type": "code",
      "source": [
        "class SafeFourCal(FourCal):\n",
        "    def div(self):\n",
        "        try:\n",
        "            return super().div()\n",
        "        except:\n",
        "            return 0\n",
        "\n",
        "a = SafeFourCal()\n",
        "a.setdata(0, 4)\n",
        "a.div()"
      ],
      "metadata": {
        "colab": {
          "base_uri": "https://localhost:8080/"
        },
        "id": "_m4OAAz19eHL",
        "outputId": "622081ec-3d85-48dd-dc05-59990934348f"
      },
      "execution_count": null,
      "outputs": [
        {
          "output_type": "execute_result",
          "data": {
            "text/plain": [
              "0"
            ]
          },
          "metadata": {},
          "execution_count": 42
        }
      ]
    },
    {
      "cell_type": "code",
      "source": [
        "a = 1\n",
        "b = 0\n",
        "#이게 오히려 최신 방식...\n",
        "try:\n",
        "    res = a / b\n",
        "except:\n",
        "    res = 0\n"
      ],
      "metadata": {
        "id": "jcCm95u1-MW9"
      },
      "execution_count": null,
      "outputs": []
    }
  ]
}