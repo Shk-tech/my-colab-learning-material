{
  "nbformat": 4,
  "nbformat_minor": 0,
  "metadata": {
    "colab": {
      "provenance": [],
      "include_colab_link": true
    },
    "kernelspec": {
      "name": "python3",
      "display_name": "Python 3"
    },
    "language_info": {
      "name": "python"
    }
  },
  "cells": [
    {
      "cell_type": "markdown",
      "metadata": {
        "id": "view-in-github",
        "colab_type": "text"
      },
      "source": [
        "<a href=\"https://colab.research.google.com/github/Shk-tech/my-colab-learning-material/blob/main/2507_korea_pytorch01.ipynb\" target=\"_parent\"><img src=\"https://colab.research.google.com/assets/colab-badge.svg\" alt=\"Open In Colab\"/></a>"
      ]
    },
    {
      "cell_type": "code",
      "execution_count": null,
      "metadata": {
        "id": "Ypel-M103zeX"
      },
      "outputs": [],
      "source": [
        "# PyTorch - 딥러닝 프레임워크\n",
        "# 프레임워크 - OS는 아니지만 OS처럼 동작할 때.\n",
        "# 생태계, asdf.pt -> 모델 파일이 exe파일처럼 동작...\n",
        "\n",
        "# PyTorch(흥) <- TensorFlow(망)\n",
        "# YOLO, ... 여러 중요한 최신의 모델들이 PyTorch로 개발...\n",
        "# 인체의 관절-github - PyTorch, TensorFlow(Keras)\n",
        "\n",
        "# 딥러닝\n",
        "# 학습용 framework   추론용 framework\n",
        "# PyTorch           TfLite, onnx-runtime, CoreML(iOS), ncnn, ....\n",
        "\n",
        "# 학습용\n",
        "# 학습데이터를 모아서 전처리, feeding, 성능평가, 새로운 타입의 연산\n",
        "# Intel CPU, NVidia GPU\n",
        "\n",
        "# 추론용\n",
        "# 실행. 최적화\n",
        "# various CPU, various GPU\n",
        "\n",
        "# ex) 얼굴을 이용해서 나이를\n",
        "# 얼굴image data - 전처리 feeding 학습, 모델을 생성.. model.pt\n",
        "# -> Android에서 써야 되는데... android에 pytorch를 설치???\n",
        "#    돌리기만 하면된다.\n",
        "#    model.pt -> model.onnx 변환, onnx-runtime"
      ]
    },
    {
      "cell_type": "code",
      "source": [
        "# PyTorch\n",
        "# 넘파이의 다른 버전 - numpy의 기능 전부 포함 + 딥러닝...\n",
        "# GPU를 아주 쉽게 쓸 수 있는 GPU 라이브러리.\n",
        "# 미분..."
      ],
      "metadata": {
        "id": "QEn-Q37978Zy"
      },
      "execution_count": null,
      "outputs": []
    },
    {
      "cell_type": "code",
      "source": [
        "import torch\n",
        "#np.array\n",
        "a = torch.tensor([1, 2, 3])\n",
        "a * 2 + 1\n",
        "\n",
        "import numpy as np\n",
        "b = np.array([4, 5, 6])\n",
        "a + torch.tensor(b) #numpy.array -> torch.tensor 명시적 형변환"
      ],
      "metadata": {
        "colab": {
          "base_uri": "https://localhost:8080/"
        },
        "id": "3m328Mii8Rw_",
        "outputId": "6b7f8a5f-97d0-49b4-c942-d38675ec704b"
      },
      "execution_count": null,
      "outputs": [
        {
          "output_type": "execute_result",
          "data": {
            "text/plain": [
              "tensor([5, 7, 9])"
            ]
          },
          "metadata": {},
          "execution_count": 7
        }
      ]
    },
    {
      "cell_type": "code",
      "source": [
        "# torch.tensor <-> np.array\n",
        "np.array(a) + b\n",
        "a.numpy() + b"
      ],
      "metadata": {
        "colab": {
          "base_uri": "https://localhost:8080/"
        },
        "id": "GTAtbp9C8tLP",
        "outputId": "1f1a7ce6-be4b-4071-9ebf-d92774866075"
      },
      "execution_count": null,
      "outputs": [
        {
          "output_type": "execute_result",
          "data": {
            "text/plain": [
              "array([5, 7, 9])"
            ]
          },
          "metadata": {},
          "execution_count": 10
        }
      ]
    },
    {
      "cell_type": "code",
      "source": [
        "# .. 미분.. torch\n",
        "# error(머신러닝), loss(신경망), cost(경사하강법)\n",
        "# 경사하강법 : cost에 대한 미분값을 이용해서 최저점을 찾아가는 방식\n",
        "# theta(t+1) = theta(t) - eta * grad    ... optimizer\n",
        "# eta : 학습률 (learning rate)"
      ],
      "metadata": {
        "id": "QjF8KjEe8-Qj"
      },
      "execution_count": null,
      "outputs": []
    },
    {
      "cell_type": "code",
      "source": [
        "#f(x, y) = 2 * x **2 + x * y + 3 * y\n",
        "#x=1, y=2 일때 기울기(x, y) 를 구하시오\n",
        "x = torch.tensor(1., requires_grad=True) # 미지수... 지만\n",
        "y = torch.tensor(2., requires_grad=True)\n",
        "z = 2 * x**2 + x * y + 3 * y\n",
        "x.grad = None\n",
        "y.grad = None\n",
        "z.backward()\n",
        "x.grad, y.grad"
      ],
      "metadata": {
        "colab": {
          "base_uri": "https://localhost:8080/"
        },
        "id": "ydhdTnauCgDp",
        "outputId": "ebe22265-5183-474b-f3a0-c2f5d4753044"
      },
      "execution_count": null,
      "outputs": [
        {
          "output_type": "execute_result",
          "data": {
            "text/plain": [
              "(tensor(6.), tensor(4.))"
            ]
          },
          "metadata": {},
          "execution_count": 28
        }
      ]
    },
    {
      "cell_type": "code",
      "source": [
        "# requires_grad 옵션 : 미분을 위한 중간 결과를 다 저장하라\n",
        "# tensor(10., grad_fn=<AddBackward0>)\n",
        "#             단순한 10이 아니라 10을 만들기 위한 중간 결과를 다 저장하고 있다.\n",
        "# z.backward() -> 10에 대한 미분 x ... 10을 만들기 위한 계산에 대한 미분\n",
        "\n",
        "# 후퇴 자동 기호 미분"
      ],
      "metadata": {
        "colab": {
          "base_uri": "https://localhost:8080/"
        },
        "id": "kdwKI8y0IcT5",
        "outputId": "828bf1a9-4dbb-4edd-db41-1a8e9d48fc23"
      },
      "execution_count": null,
      "outputs": [
        {
          "output_type": "execute_result",
          "data": {
            "text/plain": [
              "tensor(10., grad_fn=<AddBackward0>)"
            ]
          },
          "metadata": {},
          "execution_count": 16
        }
      ]
    },
    {
      "cell_type": "code",
      "source": [
        "z = 2 * x**2 + x * y + 3 * y\n",
        "z.backward()\n",
        "x.grad, y.grad"
      ],
      "metadata": {
        "colab": {
          "base_uri": "https://localhost:8080/"
        },
        "id": "o8uatOeGKU-n",
        "outputId": "dda09433-8ad0-42cf-8d46-35ad41493058"
      },
      "execution_count": null,
      "outputs": [
        {
          "output_type": "execute_result",
          "data": {
            "text/plain": [
              "(tensor(72.), tensor(48.))"
            ]
          },
          "metadata": {},
          "execution_count": 27
        }
      ]
    },
    {
      "cell_type": "code",
      "source": [
        "# f(x) = 3*x**2 + x + 2\n",
        "# x=1일 때의 f(x)의 기울기를 구하시오.\n",
        "x = torch.tensor(1., requires_grad=True)\n",
        "z = 3*x**2 + x + 2\n",
        "x.grad = None\n",
        "z.backward()\n",
        "x.grad"
      ],
      "metadata": {
        "colab": {
          "base_uri": "https://localhost:8080/"
        },
        "id": "XiPqZy69KewA",
        "outputId": "e5154492-af00-4450-d074-6e22d9c84714"
      },
      "execution_count": null,
      "outputs": [
        {
          "output_type": "execute_result",
          "data": {
            "text/plain": [
              "tensor(7.)"
            ]
          },
          "metadata": {},
          "execution_count": 30
        }
      ]
    },
    {
      "cell_type": "markdown",
      "source": [
        "# 경사하강법"
      ],
      "metadata": {
        "id": "bOE_gTQhN6eT"
      }
    },
    {
      "cell_type": "code",
      "source": [
        "#artificial f(x) = 3x + 4\n",
        "m = 100\n",
        "x = torch.rand(m, 1) * 2\n",
        "y = 3 * x + 4 + torch.randn(m, 1)\n",
        "import matplotlib.pyplot as plt\n",
        "plt.plot(x, y.numpy(), '.') # plt는 내부적으로 numpy로 묵시적 형변환"
      ],
      "metadata": {
        "colab": {
          "base_uri": "https://localhost:8080/",
          "height": 449
        },
        "id": "GiPbJ28zN4kn",
        "outputId": "82b1b031-aad1-4391-a648-1a088bdd6f1c"
      },
      "execution_count": null,
      "outputs": [
        {
          "output_type": "execute_result",
          "data": {
            "text/plain": [
              "[<matplotlib.lines.Line2D at 0x7b91b6643690>]"
            ]
          },
          "metadata": {},
          "execution_count": 33
        },
        {
          "output_type": "display_data",
          "data": {
            "text/plain": [
              "<Figure size 640x480 with 1 Axes>"
            ],
            "image/png": "[encoded data removed]"
          },
          "metadata": {}
        }
      ]
    },
    {
      "cell_type": "code",
      "source": [
        "loader = torch.utils.data.DataLoader(list(zip(x, y)), batch_size=10, shuffle=True)\n",
        "for xi, yi in loader:\n",
        "    break\n",
        "xi #10, 1"
      ],
      "metadata": {
        "colab": {
          "base_uri": "https://localhost:8080/"
        },
        "id": "25Gt_MyKVa63",
        "outputId": "1ea7a38f-9183-4ea4-f37e-d9796d2de138"
      },
      "execution_count": null,
      "outputs": [
        {
          "output_type": "execute_result",
          "data": {
            "text/plain": [
              "tensor([[1.5673],\n",
              "        [0.4366],\n",
              "        [1.4049],\n",
              "        [0.1341],\n",
              "        [0.9005],\n",
              "        [0.2041],\n",
              "        [1.6997],\n",
              "        [0.4772],\n",
              "        [0.2694],\n",
              "        [0.9888]])"
            ]
          },
          "metadata": {},
          "execution_count": 163
        }
      ]
    },
    {
      "cell_type": "code",
      "source": [
        "torch.linalg.lstsq(torch.cat([x, x**0], axis=1), y)"
      ],
      "metadata": {
        "colab": {
          "base_uri": "https://localhost:8080/"
        },
        "id": "jXVTEzESQU9S",
        "outputId": "809868e4-8636-444f-b95b-b55370740a8b"
      },
      "execution_count": null,
      "outputs": [
        {
          "output_type": "execute_result",
          "data": {
            "text/plain": [
              "torch.return_types.linalg_lstsq(\n",
              "solution=tensor([[2.9285],\n",
              "        [3.9960]]),\n",
              "residuals=tensor([]),\n",
              "rank=tensor(2),\n",
              "singular_values=tensor([]))"
            ]
          },
          "metadata": {},
          "execution_count": 111
        }
      ]
    },
    {
      "cell_type": "code",
      "source": [
        "# 경사하강법...\n",
        "# 파라미터를 초기화\n",
        "a = torch.randn((), requires_grad=True)\n",
        "b = torch.randn((), requires_grad=True)\n",
        "a, b"
      ],
      "metadata": {
        "colab": {
          "base_uri": "https://localhost:8080/"
        },
        "id": "5xrqrKpoOnl7",
        "outputId": "61642ea6-52d9-4a71-fcd3-04a2aeec8679"
      },
      "execution_count": null,
      "outputs": [
        {
          "output_type": "execute_result",
          "data": {
            "text/plain": [
              "(tensor(-0.0294, requires_grad=True), tensor(-0.7640, requires_grad=True))"
            ]
          },
          "metadata": {},
          "execution_count": 145
        }
      ]
    },
    {
      "cell_type": "code",
      "source": [
        "lr = 0.1\n",
        "list_a = []\n",
        "list_b = []\n",
        "for step in range(500):\n",
        "    pred = x * a + b #pred = f0(x)\n",
        "    loss = ((pred - y) ** 2).mean()\n",
        "    a.grad = None\n",
        "    b.grad = None\n",
        "    loss.backward()\n",
        "    # step - update 1회\n",
        "    a.data = a - lr * a.grad\n",
        "    b.data = b - lr * b.grad\n",
        "    list_a.append(a.item())\n",
        "    list_b.append(b.item())"
      ],
      "metadata": {
        "id": "JfCUgu8AO_ce"
      },
      "execution_count": null,
      "outputs": []
    },
    {
      "cell_type": "code",
      "source": [
        "plt.plot(list_a, list_b, 'o')"
      ],
      "metadata": {
        "colab": {
          "base_uri": "https://localhost:8080/",
          "height": 449
        },
        "id": "u5QHWU4hRRs3",
        "outputId": "e2311dae-e7a9-46a6-c301-6440046f4990"
      },
      "execution_count": null,
      "outputs": [
        {
          "output_type": "execute_result",
          "data": {
            "text/plain": [
              "[<matplotlib.lines.Line2D at 0x7b91b35e6450>]"
            ]
          },
          "metadata": {},
          "execution_count": 150
        },
        {
          "output_type": "display_data",
          "data": {
            "text/plain": [
              "<Figure size 640x480 with 1 Axes>"
            ],
            "image/png": "[encoded data removed]"
          },
          "metadata": {}
        }
      ]
    },
    {
      "cell_type": "markdown",
      "source": [
        "# DataLoader"
      ],
      "metadata": {
        "id": "pUFidQOmV5Be"
      }
    },
    {
      "cell_type": "code",
      "source": [
        "# PyTorch 에서 제공하는 편의함수..\n",
        "# data feeding\n",
        "t = torch.arange(30).reshape(15, 1, 1)\n",
        "w = torch.arange(15)\n",
        "dataset = list(zip(t, w))\n",
        "\n",
        "len(dataset) # 15\n",
        "dataset[0][0].shape #(1, 1)\n",
        "dataset[0][1].shape #()"
      ],
      "metadata": {
        "colab": {
          "base_uri": "https://localhost:8080/"
        },
        "id": "l44dV8cDVC95",
        "outputId": "a2d5a7a3-3d2c-435c-c52b-b14aabaf4145"
      },
      "execution_count": null,
      "outputs": [
        {
          "output_type": "execute_result",
          "data": {
            "text/plain": [
              "torch.Size([4])"
            ]
          },
          "metadata": {},
          "execution_count": 186
        }
      ]
    },
    {
      "cell_type": "code",
      "source": [
        "#epoch - 학습데이터 전체를 다 적용\n",
        "#batch - 일부를 가져온 것\n",
        "#batch_size - 일부를 가져오는 크기\n",
        "#steps - 1 epoch의 학습 횟수\n",
        "#전체 샘플의 개수 = batch_size * steps -> 1 epoch\n",
        "#ex) 5000, batch_size=100\n",
        "#1 epoch를 위해 50 steps가 필요하다.\n",
        "\n"
      ],
      "metadata": {
        "id": "G_pvgPLwWrLv"
      },
      "execution_count": null,
      "outputs": []
    }
  ]
}