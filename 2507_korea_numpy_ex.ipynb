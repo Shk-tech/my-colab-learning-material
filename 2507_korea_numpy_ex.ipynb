{
  "nbformat": 4,
  "nbformat_minor": 0,
  "metadata": {
    "colab": {
      "provenance": [],
      "include_colab_link": true
    },
    "kernelspec": {
      "name": "python3",
      "display_name": "Python 3"
    },
    "language_info": {
      "name": "python"
    }
  },
  "cells": [
    {
      "cell_type": "markdown",
      "metadata": {
        "id": "view-in-github",
        "colab_type": "text"
      },
      "source": [
        "<a href=\"https://colab.research.google.com/github/Shk-tech/my-colab-learning-material/blob/main/2507_korea_numpy_ex.ipynb\" target=\"_parent\"><img src=\"https://colab.research.google.com/assets/colab-badge.svg\" alt=\"Open In Colab\"/></a>"
      ]
    },
    {
      "cell_type": "code",
      "execution_count": null,
      "metadata": {
        "id": "r3s_EbCKuhth"
      },
      "outputs": [],
      "source": [
        "#numpy 행렬 라이브러리\n",
        "#행렬 연산을 처리할 수 있다.\n",
        "import numpy as np"
      ]
    },
    {
      "cell_type": "code",
      "source": [
        "# 1. 원소별 연사 element-wise operation\n",
        "a = np.array([1, 2, 3, 4])\n",
        "a * 3"
      ],
      "metadata": {
        "colab": {
          "base_uri": "https://localhost:8080/"
        },
        "id": "HYloG0e3uwQU",
        "outputId": "be4dca82-732c-4b4e-e85b-55eeab1f4560"
      },
      "execution_count": null,
      "outputs": [
        {
          "output_type": "execute_result",
          "data": {
            "text/plain": [
              "array([ 3,  6,  9, 12])"
            ]
          },
          "metadata": {},
          "execution_count": 3
        }
      ]
    },
    {
      "cell_type": "code",
      "source": [
        "# -> 사실 map 연산이었네?\n",
        "a = [1, 2, 3]\n",
        "# b = [3, 5, 7]\n",
        "b = []\n",
        "for ai in a:\n",
        "    b.append(ai * 2 + 1)\n",
        "\n",
        "b = [ai * 2 + 1 for ai in a]\n",
        "\n",
        "list(map(lambda x : 2 * x + 1, a))"
      ],
      "metadata": {
        "colab": {
          "base_uri": "https://localhost:8080/"
        },
        "id": "ziDXUKqvwB0K",
        "outputId": "3dda2aa0-6096-417a-e49b-a394c381ffeb"
      },
      "execution_count": null,
      "outputs": [
        {
          "output_type": "execute_result",
          "data": {
            "text/plain": [
              "[3, 5, 7]"
            ]
          },
          "metadata": {},
          "execution_count": 4
        }
      ]
    },
    {
      "cell_type": "code",
      "source": [
        "a = np.array(a)\n",
        "b = a * 2 + 1\n",
        "b\n",
        "\n",
        "# int a[3] = {1, 2, 3}\n",
        "# for (int i = 0; i < 3; i++)\n",
        "# {\n",
        "#     b[i] = a[i] * 2 + 1;\n",
        "# }"
      ],
      "metadata": {
        "colab": {
          "base_uri": "https://localhost:8080/"
        },
        "id": "kPlBgXtNwUJu",
        "outputId": "3311ada3-c189-4a24-b811-d159b8af4934"
      },
      "execution_count": null,
      "outputs": [
        {
          "output_type": "execute_result",
          "data": {
            "text/plain": [
              "array([3, 5, 7])"
            ]
          },
          "metadata": {},
          "execution_count": 6
        }
      ]
    },
    {
      "cell_type": "code",
      "source": [
        "a = np.array([[1, 2], [3, 4]])\n",
        "a * a"
      ],
      "metadata": {
        "colab": {
          "base_uri": "https://localhost:8080/"
        },
        "id": "KUDjnsYrz3Uw",
        "outputId": "5e968a0a-ecbe-4d06-ce34-8b79c8d1d0c1"
      },
      "execution_count": null,
      "outputs": [
        {
          "output_type": "execute_result",
          "data": {
            "text/plain": [
              "array([[ 1,  4],\n",
              "       [ 9, 16]])"
            ]
          },
          "metadata": {},
          "execution_count": 9
        }
      ]
    },
    {
      "cell_type": "code",
      "source": [
        "a @ a"
      ],
      "metadata": {
        "colab": {
          "base_uri": "https://localhost:8080/"
        },
        "id": "N-QIV-gP0BSG",
        "outputId": "7afce732-de13-4136-baf5-96acef0149c1"
      },
      "execution_count": null,
      "outputs": [
        {
          "output_type": "execute_result",
          "data": {
            "text/plain": [
              "array([[ 7, 10],\n",
              "       [15, 22]])"
            ]
          },
          "metadata": {},
          "execution_count": 10
        }
      ]
    },
    {
      "cell_type": "code",
      "source": [
        "a ** 2 # element-wise pow"
      ],
      "metadata": {
        "colab": {
          "base_uri": "https://localhost:8080/"
        },
        "id": "vlZJvItc2GE7",
        "outputId": "8f3885f8-2eaa-45b3-94b0-034d50877d20"
      },
      "execution_count": null,
      "outputs": [
        {
          "output_type": "execute_result",
          "data": {
            "text/plain": [
              "array([[ 1,  4],\n",
              "       [ 9, 16]])"
            ]
          },
          "metadata": {},
          "execution_count": 12
        }
      ]
    },
    {
      "cell_type": "code",
      "source": [
        "np.log(1)"
      ],
      "metadata": {
        "colab": {
          "base_uri": "https://localhost:8080/"
        },
        "id": "o8NnK_ld2J4p",
        "outputId": "6588f88b-457e-45c6-f835-09dbaf8e0d29"
      },
      "execution_count": null,
      "outputs": [
        {
          "output_type": "execute_result",
          "data": {
            "text/plain": [
              "np.float64(0.0)"
            ]
          },
          "metadata": {},
          "execution_count": 14
        }
      ]
    },
    {
      "cell_type": "code",
      "source": [
        "np.log(a)"
      ],
      "metadata": {
        "colab": {
          "base_uri": "https://localhost:8080/"
        },
        "id": "gIA3ZXei29iB",
        "outputId": "4ee2f524-170e-402b-8b9a-0004babb2b03"
      },
      "execution_count": null,
      "outputs": [
        {
          "output_type": "execute_result",
          "data": {
            "text/plain": [
              "array([[0.        , 0.69314718],\n",
              "       [1.09861229, 1.38629436]])"
            ]
          },
          "metadata": {},
          "execution_count": 15
        }
      ]
    },
    {
      "cell_type": "code",
      "source": [
        "# 파이썬이 느리지만 느리게 코딩하면 안 된다 ... -> numpy"
      ],
      "metadata": {
        "id": "0Vg62wRP3Ebd"
      },
      "execution_count": null,
      "outputs": []
    },
    {
      "cell_type": "code",
      "source": [
        "# 이미지 -> 행렬\n",
        "# [640, 480] 행렬...."
      ],
      "metadata": {
        "id": "Fdbcq15bFPkn"
      },
      "execution_count": null,
      "outputs": []
    }
  ]
}