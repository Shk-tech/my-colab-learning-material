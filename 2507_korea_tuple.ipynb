{
  "nbformat": 4,
  "nbformat_minor": 0,
  "metadata": {
    "colab": {
      "provenance": [],
      "include_colab_link": true
    },
    "kernelspec": {
      "name": "python3",
      "display_name": "Python 3"
    },
    "language_info": {
      "name": "python"
    }
  },
  "cells": [
    {
      "cell_type": "markdown",
      "metadata": {
        "id": "view-in-github",
        "colab_type": "text"
      },
      "source": [
        "<a href=\"https://colab.research.google.com/github/Shk-tech/my-colab-learning-material/blob/main/2507_korea_tuple.ipynb\" target=\"_parent\"><img src=\"https://colab.research.google.com/assets/colab-badge.svg\" alt=\"Open In Colab\"/></a>"
      ]
    },
    {
      "cell_type": "code",
      "execution_count": null,
      "metadata": {
        "id": "5u6QwGP_gqKl"
      },
      "outputs": [],
      "source": [
        "a = ()\n",
        "b = (1,)\n",
        "c = (1, 2, 3)\n",
        "d = 1, 2, 3\n",
        "e = (1, 2, ('asdf', 'qwer'))"
      ]
    },
    {
      "cell_type": "code",
      "source": [
        "# tuple - 거의 리스트와 똑같이 일렬로 데이터 저장\n",
        "# ! 불변 - 추가 삭제 불가\n",
        "# 원소가 하나일 때, 반드시 ',' 기호가 들어가야 한다.\n",
        "# 생성 방법은 튜플() - 리스트[]\n",
        "# 괄호는 생략 가능\n",
        "len(a)"
      ],
      "metadata": {
        "colab": {
          "base_uri": "https://localhost:8080/"
        },
        "id": "1NdGLND3g1rg",
        "outputId": "82989a14-9b37-4a06-b75c-00439112eace"
      },
      "execution_count": null,
      "outputs": [
        {
          "output_type": "execute_result",
          "data": {
            "text/plain": [
              "0"
            ]
          },
          "metadata": {},
          "execution_count": 3
        }
      ]
    },
    {
      "cell_type": "code",
      "source": [
        "(1,) # ??? 연산자 우선순위\n",
        "(2 + 2) * 2"
      ],
      "metadata": {
        "colab": {
          "base_uri": "https://localhost:8080/"
        },
        "id": "UM-ndqMthQZs",
        "outputId": "f47e3505-d014-4d24-de15-1760c9e7291d"
      },
      "execution_count": null,
      "outputs": [
        {
          "output_type": "execute_result",
          "data": {
            "text/plain": [
              "1"
            ]
          },
          "metadata": {},
          "execution_count": 5
        }
      ]
    },
    {
      "cell_type": "code",
      "source": [
        "# 괄호() 3가지 1.튜플   2.연산자우선순위   3.함수호출\n",
        "# ???() -> 함수 호출\n",
        "# () -> 연산자 우선순위 (콤마 없음)\n",
        "# (,) -> 튜플\n",
        "\n",
        "a = [1, 2, 3]\n",
        "[1, 2, 3][0] # 각괄호 (대괄호)  {} 중괄호"
      ],
      "metadata": {
        "colab": {
          "base_uri": "https://localhost:8080/"
        },
        "id": "3XSht1bnhgv-",
        "outputId": "7e0310f5-d720-423d-a226-39aed7359283"
      },
      "execution_count": null,
      "outputs": [
        {
          "output_type": "execute_result",
          "data": {
            "text/plain": [
              "1"
            ]
          },
          "metadata": {},
          "execution_count": 7
        }
      ]
    },
    {
      "cell_type": "code",
      "source": [
        "d"
      ],
      "metadata": {
        "colab": {
          "base_uri": "https://localhost:8080/"
        },
        "id": "HRbs0gHhiD40",
        "outputId": "f470cf6f-d466-4a3a-b2fe-793eb0006806"
      },
      "execution_count": null,
      "outputs": [
        {
          "output_type": "execute_result",
          "data": {
            "text/plain": [
              "(1, 2, 3)"
            ]
          },
          "metadata": {},
          "execution_count": 8
        }
      ]
    },
    {
      "cell_type": "code",
      "source": [
        "# 튜플의 괄호가 생략 가능하다는 점 때문에\n",
        "# 튜플인 줄 모르게 그냥 사용하는 경우....\n",
        "a = 1\n",
        "b = 2\n",
        "(a, b) = (1, 2) # unpack\n",
        "a, (b, c) = (1, (2, 3)) #unpack"
      ],
      "metadata": {
        "id": "a_-VGiC1iMLM"
      },
      "execution_count": null,
      "outputs": []
    },
    {
      "cell_type": "code",
      "source": [
        "# zip -> 엄청 중요\n",
        "# zip, enumerate\n",
        "names = ['김', '이', '박']\n",
        "scores = [80, 70, 100]\n",
        "for name in names:\n",
        "    print(name)\n",
        "for score in scores:\n",
        "    print(score)\n",
        "\n",
        "#김 80\n",
        "#이 70\n",
        "#박 100\n",
        "for i in range(3):\n",
        "    print(names[i], scores[i])"
      ],
      "metadata": {
        "colab": {
          "base_uri": "https://localhost:8080/"
        },
        "id": "pn-ZboUhilDv",
        "outputId": "5ebdfbf1-76ce-47c7-b3f2-09f5de2a7694"
      },
      "execution_count": null,
      "outputs": [
        {
          "output_type": "stream",
          "name": "stdout",
          "text": [
            "김\n",
            "이\n",
            "박\n",
            "80\n",
            "70\n",
            "100\n",
            "김 80\n",
            "이 70\n",
            "박 100\n"
          ]
        }
      ]
    },
    {
      "cell_type": "code",
      "source": [
        "#zip은 두 개의 리스트를 동시에 반복할 수 있도록 해준다.\n",
        "#for ai, bi in zip(a, b):\n",
        "# -> 이렇게 외워도....\n",
        "for name, score in zip(names, scores):\n",
        "    print(name, score)"
      ],
      "metadata": {
        "colab": {
          "base_uri": "https://localhost:8080/"
        },
        "id": "v1TKJw9jjOtH",
        "outputId": "bc9aad14-bf39-41e6-d600-d99e30689c4f"
      },
      "execution_count": null,
      "outputs": [
        {
          "output_type": "stream",
          "name": "stdout",
          "text": [
            "김 80\n",
            "이 70\n",
            "박 100\n"
          ]
        }
      ]
    },
    {
      "cell_type": "code",
      "source": [
        "# generator\n",
        "list(zip(names, scores))"
      ],
      "metadata": {
        "colab": {
          "base_uri": "https://localhost:8080/"
        },
        "id": "F7RfB4hsjnBe",
        "outputId": "94fbaecf-b257-4d62-c579-98460c1c7fef"
      },
      "execution_count": null,
      "outputs": [
        {
          "output_type": "execute_result",
          "data": {
            "text/plain": [
              "[('김', 80), ('이', 70), ('박', 100)]"
            ]
          },
          "metadata": {},
          "execution_count": 21
        }
      ]
    },
    {
      "cell_type": "code",
      "source": [
        "for item in zip(names, scores):\n",
        "    name, score = item\n",
        "    print(name, score)\n",
        "    print(item)"
      ],
      "metadata": {
        "colab": {
          "base_uri": "https://localhost:8080/"
        },
        "id": "ot5Gfi3Kjx5X",
        "outputId": "969cc00d-b9ca-4d8c-d0b1-912e29dfe241"
      },
      "execution_count": null,
      "outputs": [
        {
          "output_type": "stream",
          "name": "stdout",
          "text": [
            "김 80\n",
            "('김', 80)\n",
            "이 70\n",
            "('이', 70)\n",
            "박 100\n",
            "('박', 100)\n"
          ]
        }
      ]
    },
    {
      "cell_type": "code",
      "source": [
        "for i in range(3):\n",
        "    print(i, names[i])"
      ],
      "metadata": {
        "colab": {
          "base_uri": "https://localhost:8080/"
        },
        "id": "jGofvIbskL41",
        "outputId": "067b9155-cc1e-4cc0-909b-3ac8a6163f9d"
      },
      "execution_count": null,
      "outputs": [
        {
          "output_type": "stream",
          "name": "stdout",
          "text": [
            "0 김\n",
            "1 이\n",
            "2 박\n"
          ]
        }
      ]
    },
    {
      "cell_type": "code",
      "source": [
        "index = [0, 1, 2]\n",
        "for i, name in zip(index, names):\n",
        "    print(i, name)"
      ],
      "metadata": {
        "colab": {
          "base_uri": "https://localhost:8080/"
        },
        "id": "zO-VNEgYkWrU",
        "outputId": "077d26cc-04fb-4fe8-bfe1-c045c85323ec"
      },
      "execution_count": null,
      "outputs": [
        {
          "output_type": "stream",
          "name": "stdout",
          "text": [
            "0 김\n",
            "1 이\n",
            "2 박\n"
          ]
        }
      ]
    },
    {
      "cell_type": "code",
      "source": [
        "list(zip(index, names))\n",
        "list(enumerate(names))"
      ],
      "metadata": {
        "colab": {
          "base_uri": "https://localhost:8080/"
        },
        "id": "pZ9j72FgkmNu",
        "outputId": "b5259ef4-35dd-498a-87b5-48488cdd5022"
      },
      "execution_count": null,
      "outputs": [
        {
          "output_type": "execute_result",
          "data": {
            "text/plain": [
              "[(0, '김'), (1, '이'), (2, '박')]"
            ]
          },
          "metadata": {},
          "execution_count": 27
        }
      ]
    },
    {
      "cell_type": "code",
      "source": [
        "for i, name in enumerate(names):\n",
        "    print(i, name)"
      ],
      "metadata": {
        "colab": {
          "base_uri": "https://localhost:8080/"
        },
        "id": "IX-xgs_MkxcO",
        "outputId": "8bd9a968-5bec-430e-a802-779ac18467c7"
      },
      "execution_count": null,
      "outputs": [
        {
          "output_type": "stream",
          "name": "stdout",
          "text": [
            "0 김\n",
            "1 이\n",
            "2 박\n"
          ]
        }
      ]
    },
    {
      "cell_type": "code",
      "source": [
        "#튜플끼리 비교 가능\n",
        "# 앞에 있는 것부터 비교하고 같으면 그 다음 원소 비교\n",
        "(2, 2) > (1, 4)"
      ],
      "metadata": {
        "colab": {
          "base_uri": "https://localhost:8080/"
        },
        "id": "vSeyryBpk5e2",
        "outputId": "70870cc7-1927-4731-a60f-fc0aa9e29190"
      },
      "execution_count": null,
      "outputs": [
        {
          "output_type": "execute_result",
          "data": {
            "text/plain": [
              "True"
            ]
          },
          "metadata": {},
          "execution_count": 33
        }
      ]
    },
    {
      "cell_type": "code",
      "source": [
        "#앞에 있는 글자부터 비교 - unicode\n",
        "'aab' < 'aac'"
      ],
      "metadata": {
        "colab": {
          "base_uri": "https://localhost:8080/"
        },
        "id": "ZLADpToAlQOv",
        "outputId": "3f79eeae-f121-4a7a-c1bf-1b6d531f9596"
      },
      "execution_count": null,
      "outputs": [
        {
          "output_type": "execute_result",
          "data": {
            "text/plain": [
              "True"
            ]
          },
          "metadata": {},
          "execution_count": 34
        }
      ]
    },
    {
      "cell_type": "code",
      "source": [
        "names = ['김', '나', '박', '이'] # 20년전 남자 보컬 4인\n",
        "scores = [30, 80, 70, 20]\n",
        "s = sorted(zip(scores, names))\n",
        "scores, names = list(zip(*s))\n",
        "scores"
      ],
      "metadata": {
        "id": "MAjkatSxlahN",
        "colab": {
          "base_uri": "https://localhost:8080/"
        },
        "outputId": "d2344edb-8f38-40c0-c309-b1671838e6bf"
      },
      "execution_count": null,
      "outputs": [
        {
          "output_type": "execute_result",
          "data": {
            "text/plain": [
              "(20, 30, 70, 80)"
            ]
          },
          "metadata": {},
          "execution_count": 7
        }
      ]
    },
    {
      "cell_type": "code",
      "source": [
        "names"
      ],
      "metadata": {
        "colab": {
          "base_uri": "https://localhost:8080/"
        },
        "id": "iHQOzHP1k3fu",
        "outputId": "80efe858-5ed6-480b-8dd2-f7e95babf6f9"
      },
      "execution_count": null,
      "outputs": [
        {
          "output_type": "execute_result",
          "data": {
            "text/plain": [
              "('이', '김', '박', '나')"
            ]
          },
          "metadata": {},
          "execution_count": 8
        }
      ]
    },
    {
      "cell_type": "code",
      "source": [
        "a = zip(scores, names)\n",
        "# 반복문의 반복 횟수?\n",
        "for i in a:\n",
        "    print(i) #1. int(x)  2.string  3.list  4.tuple"
      ],
      "metadata": {
        "id": "mxWSLiC-lHx1"
      },
      "execution_count": null,
      "outputs": []
    },
    {
      "cell_type": "code",
      "source": [
        "s = list(zip(scores, names))\n",
        "scores, names = list(zip(s[0], s[1], s[2], s[3]))"
      ],
      "metadata": {
        "colab": {
          "base_uri": "https://localhost:8080/"
        },
        "id": "55xVudMolscx",
        "outputId": "ce692295-f2e8-416b-b94e-e2a8f080437d"
      },
      "execution_count": null,
      "outputs": [
        {
          "output_type": "execute_result",
          "data": {
            "text/plain": [
              "[(20, 30, 70, 80), ('이', '김', '박', '나')]"
            ]
          },
          "metadata": {},
          "execution_count": 13
        }
      ]
    },
    {
      "cell_type": "code",
      "source": [
        "# 불변타입\n",
        "a = 1, 2, 3, 4\n",
        "# 수정, 추가, 삭제 불가 - 의도된 것.\n",
        "a[0] = 10"
      ],
      "metadata": {
        "colab": {
          "base_uri": "https://localhost:8080/",
          "height": 185
        },
        "id": "yf-X9O7-nN9K",
        "outputId": "93136e1f-c0ee-4357-db35-45cc9339f6f6"
      },
      "execution_count": null,
      "outputs": [
        {
          "output_type": "error",
          "ename": "TypeError",
          "evalue": "'tuple' object does not support item assignment",
          "traceback": [
            "\u001b[0;31m---------------------------------------------------------------------------\u001b[0m",
            "\u001b[0;31mTypeError\u001b[0m                                 Traceback (most recent call last)",
            "\u001b[0;32m/tmp/ipython-input-16-4231024175.py\u001b[0m in \u001b[0;36m<cell line: 0>\u001b[0;34m()\u001b[0m\n\u001b[1;32m      1\u001b[0m \u001b[0;31m# 불변타입\u001b[0m\u001b[0;34m\u001b[0m\u001b[0;34m\u001b[0m\u001b[0m\n\u001b[1;32m      2\u001b[0m \u001b[0ma\u001b[0m \u001b[0;34m=\u001b[0m \u001b[0;36m1\u001b[0m\u001b[0;34m,\u001b[0m \u001b[0;36m2\u001b[0m\u001b[0;34m,\u001b[0m \u001b[0;36m3\u001b[0m\u001b[0;34m,\u001b[0m \u001b[0;36m4\u001b[0m\u001b[0;34m\u001b[0m\u001b[0;34m\u001b[0m\u001b[0m\n\u001b[0;32m----> 3\u001b[0;31m \u001b[0ma\u001b[0m\u001b[0;34m[\u001b[0m\u001b[0;36m0\u001b[0m\u001b[0;34m]\u001b[0m \u001b[0;34m=\u001b[0m \u001b[0;36m10\u001b[0m\u001b[0;34m\u001b[0m\u001b[0;34m\u001b[0m\u001b[0m\n\u001b[0m",
            "\u001b[0;31mTypeError\u001b[0m: 'tuple' object does not support item assignment"
          ]
        }
      ]
    },
    {
      "cell_type": "code",
      "source": [
        "del a[1]"
      ],
      "metadata": {
        "colab": {
          "base_uri": "https://localhost:8080/",
          "height": 148
        },
        "id": "jcWUJxEAnYA5",
        "outputId": "d86990d7-d6ed-4c1e-e27a-6e754c3c5f05"
      },
      "execution_count": null,
      "outputs": [
        {
          "output_type": "error",
          "ename": "TypeError",
          "evalue": "'tuple' object doesn't support item deletion",
          "traceback": [
            "\u001b[0;31m---------------------------------------------------------------------------\u001b[0m",
            "\u001b[0;31mTypeError\u001b[0m                                 Traceback (most recent call last)",
            "\u001b[0;32m/tmp/ipython-input-19-1407119990.py\u001b[0m in \u001b[0;36m<cell line: 0>\u001b[0;34m()\u001b[0m\n\u001b[0;32m----> 1\u001b[0;31m \u001b[0;32mdel\u001b[0m \u001b[0ma\u001b[0m\u001b[0;34m[\u001b[0m\u001b[0;36m1\u001b[0m\u001b[0;34m]\u001b[0m\u001b[0;34m\u001b[0m\u001b[0;34m\u001b[0m\u001b[0m\n\u001b[0m",
            "\u001b[0;31mTypeError\u001b[0m: 'tuple' object doesn't support item deletion"
          ]
        }
      ]
    },
    {
      "cell_type": "code",
      "source": [
        "# pack, unpack\n",
        "a, b, c = 1, 2, 3"
      ],
      "metadata": {
        "id": "k3jE3dgVnpgh"
      },
      "execution_count": null,
      "outputs": []
    },
    {
      "cell_type": "markdown",
      "source": [
        "# 딕셔너리"
      ],
      "metadata": {
        "id": "FD6AFKayn5X2"
      }
    },
    {
      "cell_type": "code",
      "source": [
        "# 사전\n",
        "# 공용사물함\n",
        "# key-value pair\n",
        "# key를 이용해서 value를 꺼낸다.\n",
        "\n",
        "# list는 순서대로 저장하기 때문에 순서(index)를 알면 바로 값을 얻을 수 있다.\n",
        "a = [1, 'a', 3, 'asdf']\n",
        "a[3]\n",
        "# 순서 없이 데이터를 가져오는 형태 - 딕셔너리\n",
        "# '{'(중괄호) 로 나타냄. ':'을 기준으로 key-value구분\n",
        "a = {'name':'홍', 'phone':1234, 'addr':'한국'}\n",
        "a['name']\n",
        "a['addr'] # 순서와 상관없이 특정한 키워드로 값을 얻음\n"
      ],
      "metadata": {
        "colab": {
          "base_uri": "https://localhost:8080/",
          "height": 36
        },
        "id": "CXQjvOFpn1Kp",
        "outputId": "6390dc59-13cb-41dc-8a04-a427ae534521"
      },
      "execution_count": null,
      "outputs": [
        {
          "output_type": "execute_result",
          "data": {
            "text/plain": [
              "'한국'"
            ],
            "application/vnd.google.colaboratory.intrinsic+json": {
              "type": "string"
            }
          },
          "metadata": {},
          "execution_count": 33
        }
      ]
    },
    {
      "cell_type": "code",
      "source": [
        "# 값 추가 삭제\n",
        "a['age'] = '비밀'\n",
        "del a['addr']\n",
        "a"
      ],
      "metadata": {
        "colab": {
          "base_uri": "https://localhost:8080/"
        },
        "id": "Gw0pMNKFpPyz",
        "outputId": "ced875c2-0582-4046-f525-5293e3dd069c"
      },
      "execution_count": null,
      "outputs": [
        {
          "output_type": "execute_result",
          "data": {
            "text/plain": [
              "{'name': '홍', 'phone': 1234, 'age': '비밀'}"
            ]
          },
          "metadata": {},
          "execution_count": 34
        }
      ]
    },
    {
      "cell_type": "code",
      "source": [
        "# 키값은 중복되지 않는다.\n",
        "a['age'] = 100\n",
        "a"
      ],
      "metadata": {
        "colab": {
          "base_uri": "https://localhost:8080/"
        },
        "id": "2cIkJsgxpjoK",
        "outputId": "961fe3dc-5b0d-4195-b5c6-2dcca446c12a"
      },
      "execution_count": null,
      "outputs": [
        {
          "output_type": "execute_result",
          "data": {
            "text/plain": [
              "{'name': '홍', 'phone': 1234, 'age': 100}"
            ]
          },
          "metadata": {},
          "execution_count": 35
        }
      ]
    },
    {
      "cell_type": "code",
      "source": [
        "# 키 - 정수, 실수, 문자열, 튜플 (불변 타입)\n",
        "# 밸류 - 아무거나 reference"
      ],
      "metadata": {
        "id": "_wjQRDyRpnjK"
      },
      "execution_count": null,
      "outputs": []
    },
    {
      "cell_type": "code",
      "source": [
        "# 관계형 데이터베이스 (mysql, MariaDB)\n",
        "# 데이터의 구조가 동적으로 변할 때 사용\n",
        "# 이름, 나이, 직업(x), 전화번호, 이메일\n",
        "data = [['김기석', 41, '강사'],\n",
        "        ['이민정', 35, '가수'],\n",
        "        ['홍길동', 17, '도적']]\n",
        "data[1][2]\n"
      ],
      "metadata": {
        "colab": {
          "base_uri": "https://localhost:8080/",
          "height": 36
        },
        "id": "oAFiSPY_p41f",
        "outputId": "a3b46917-fb2d-4957-ccc7-c8629dc55205"
      },
      "execution_count": null,
      "outputs": [
        {
          "output_type": "execute_result",
          "data": {
            "text/plain": [
              "'가수'"
            ],
            "application/vnd.google.colaboratory.intrinsic+json": {
              "type": "string"
            }
          },
          "metadata": {},
          "execution_count": 45
        }
      ]
    },
    {
      "cell_type": "code",
      "source": [
        "# nosql (MongoDB)\n",
        "data = [{'name':'김기석', 'age':41, 'job':'강사'},\n",
        "        {'name':'이민정', 'age':35, 'job':'가수'},\n",
        "        {'name':'홍길동', 'age':17, 'job':'도적'},\n",
        "        {'name':'장만옥', 'job':'배우', 'from':'HongKong'}]\n",
        "data[3]"
      ],
      "metadata": {
        "colab": {
          "base_uri": "https://localhost:8080/"
        },
        "id": "MWg8ZBeaqi0j",
        "outputId": "c95aecd7-5524-4e75-a1cb-9685d0144ae6"
      },
      "execution_count": null,
      "outputs": [
        {
          "output_type": "execute_result",
          "data": {
            "text/plain": [
              "{'name': '장만옥', 'job': '배우', 'from': 'HongKong'}"
            ]
          },
          "metadata": {},
          "execution_count": 46
        }
      ]
    },
    {
      "cell_type": "code",
      "source": [
        "# DB가 뭐지????\n",
        "# 데이터를 효율적으로 저장하기 위한 방법, 프로그램, 저장된 데이터\n",
        "# 디스크에 저장, 용량이 엄청 크고, 수정이 빈번하면...\n",
        "# excel은 부분 수정이 안 되고(x), 공동작업(x), 자동화처리(x)"
      ],
      "metadata": {
        "id": "aVqrDo4FrH8N"
      },
      "execution_count": null,
      "outputs": []
    },
    {
      "cell_type": "code",
      "source": [
        "for key, value in a.items():\n",
        "    print(key, value)"
      ],
      "metadata": {
        "colab": {
          "base_uri": "https://localhost:8080/"
        },
        "id": "y5DdC24Vrfnf",
        "outputId": "b632c9e6-97bf-46de-fc96-a0a72bee7cf4"
      },
      "execution_count": null,
      "outputs": [
        {
          "output_type": "stream",
          "name": "stdout",
          "text": [
            "name 홍\n",
            "phone 1234\n",
            "age 100\n"
          ]
        }
      ]
    },
    {
      "cell_type": "code",
      "source": [
        "# set - 집합\n",
        "# dict-> key(0), value(x)\n",
        "a = {1, 2, 3}\n",
        "a.add(1)\n",
        "a"
      ],
      "metadata": {
        "colab": {
          "base_uri": "https://localhost:8080/"
        },
        "id": "arIidIeOsQzV",
        "outputId": "9cd62cf6-047e-45ab-fd18-ac60b7f03a5a"
      },
      "execution_count": null,
      "outputs": [
        {
          "output_type": "execute_result",
          "data": {
            "text/plain": [
              "{1, 2, 3}"
            ]
          },
          "metadata": {},
          "execution_count": 67
        }
      ]
    },
    {
      "cell_type": "code",
      "source": [
        "# 중복을 제거하는 역할\n",
        "a = set([1, 2, 3, 2, 4, 1])\n",
        "a\n",
        "{1, 2, 3} & {3, 4, 5} # 교집합\n",
        "{1, 2, 3} - {3, 4} # 차집합\n",
        "{1, 2, 3} | {3, 4} # 합집합\n",
        "#iI1lㅣ|"
      ],
      "metadata": {
        "colab": {
          "base_uri": "https://localhost:8080/"
        },
        "id": "YqNKyWrzsiOD",
        "outputId": "0a32a346-3038-4877-bf24-2cf32209deaf"
      },
      "execution_count": null,
      "outputs": [
        {
          "output_type": "execute_result",
          "data": {
            "text/plain": [
              "{1, 2, 3, 4}"
            ]
          },
          "metadata": {},
          "execution_count": 73
        }
      ]
    },
    {
      "cell_type": "code",
      "source": [
        "True and False"
      ],
      "metadata": {
        "colab": {
          "base_uri": "https://localhost:8080/"
        },
        "id": "6o25T5GWtOZg",
        "outputId": "090b0de0-a24b-42aa-f05c-47f36304142c"
      },
      "execution_count": null,
      "outputs": [
        {
          "output_type": "execute_result",
          "data": {
            "text/plain": [
              "False"
            ]
          },
          "metadata": {},
          "execution_count": 77
        }
      ]
    },
    {
      "cell_type": "code",
      "source": [
        "True or False"
      ],
      "metadata": {
        "colab": {
          "base_uri": "https://localhost:8080/"
        },
        "id": "gs_a4A92tV-z",
        "outputId": "203eef49-1688-466b-aded-e2a691962a33"
      },
      "execution_count": null,
      "outputs": [
        {
          "output_type": "execute_result",
          "data": {
            "text/plain": [
              "True"
            ]
          },
          "metadata": {},
          "execution_count": 78
        }
      ]
    },
    {
      "cell_type": "code",
      "source": [
        "not True"
      ],
      "metadata": {
        "colab": {
          "base_uri": "https://localhost:8080/"
        },
        "id": "-wRcaxbptXBB",
        "outputId": "d707237f-b095-4449-b6c7-60bfb5b3d204"
      },
      "execution_count": null,
      "outputs": [
        {
          "output_type": "execute_result",
          "data": {
            "text/plain": [
              "False"
            ]
          },
          "metadata": {},
          "execution_count": 80
        }
      ]
    },
    {
      "cell_type": "code",
      "source": [
        "a = True\n",
        "b = True\n",
        "not (a and b) == ((not a) or (not b))"
      ],
      "metadata": {
        "colab": {
          "base_uri": "https://localhost:8080/"
        },
        "id": "C9eHDRuLtbD6",
        "outputId": "68ca4eaa-843c-4647-c396-e30d3ee32ef5"
      },
      "execution_count": null,
      "outputs": [
        {
          "output_type": "execute_result",
          "data": {
            "text/plain": [
              "True"
            ]
          },
          "metadata": {},
          "execution_count": 86
        }
      ]
    },
    {
      "cell_type": "code",
      "source": [
        "score = 80\n",
        "70 < score and score < 90\n",
        "# python 에서는 연속 비교를 지원!!!\n",
        "70 < score < 90"
      ],
      "metadata": {
        "colab": {
          "base_uri": "https://localhost:8080/"
        },
        "id": "FG7AFknEtxZ1",
        "outputId": "9231db74-adc2-4025-c472-23673a81f243"
      },
      "execution_count": null,
      "outputs": [
        {
          "output_type": "execute_result",
          "data": {
            "text/plain": [
              "True"
            ]
          },
          "metadata": {},
          "execution_count": 92
        }
      ]
    },
    {
      "cell_type": "code",
      "source": [
        "1 == 1 == 1 # 3개를 동시 비교\n",
        "# a == b == c\n",
        "1 < 2 < 3 < 4 < 5 # and로 묶인다!!!!!"
      ],
      "metadata": {
        "colab": {
          "base_uri": "https://localhost:8080/"
        },
        "id": "UPfGPCOit6Ek",
        "outputId": "33a64d49-df34-410e-b099-abb463559cf3"
      },
      "execution_count": null,
      "outputs": [
        {
          "output_type": "execute_result",
          "data": {
            "text/plain": [
              "True"
            ]
          },
          "metadata": {},
          "execution_count": 96
        }
      ]
    }
  ]
}