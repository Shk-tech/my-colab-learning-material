{
  "nbformat": 4,
  "nbformat_minor": 0,
  "metadata": {
    "colab": {
      "provenance": [],
      "include_colab_link": true
    },
    "kernelspec": {
      "name": "python3",
      "display_name": "Python 3"
    },
    "language_info": {
      "name": "python"
    }
  },
  "cells": [
    {
      "cell_type": "markdown",
      "metadata": {
        "id": "view-in-github",
        "colab_type": "text"
      },
      "source": [
        "<a href=\"https://colab.research.google.com/github/Shk-tech/my-colab-learning-material/blob/main/2507_korea_baseball.ipynb\" target=\"_parent\"><img src=\"https://colab.research.google.com/assets/colab-badge.svg\" alt=\"Open In Colab\"/></a>"
      ]
    },
    {
      "cell_type": "code",
      "execution_count": null,
      "metadata": {
        "id": "CSbQZpJyIBvX"
      },
      "outputs": [],
      "source": [
        "# 1~9 -> 3개의 숫자\n",
        "# 1~7 -> 4개의 숫자\n",
        "# 숫자야구\n",
        "# 263 (중복x)\n",
        "\n",
        "# 123 1S 1B\n",
        "# 147 0S 0B\n",
        "# 269 2S\n",
        "\n",
        "# 2인용 게임\n",
        "# 딩동댕 유치원 -"
      ]
    },
    {
      "cell_type": "code",
      "source": [
        "# 1. 정답을 설정\n",
        "# while\n",
        "#   2. 사용자 입력\n",
        "#   3. 판정"
      ],
      "metadata": {
        "id": "XypOGwxvIyZO"
      },
      "execution_count": null,
      "outputs": []
    },
    {
      "cell_type": "code",
      "source": [
        "3 in [1, 2, 4]\n",
        "'is' not in 'Life is'"
      ],
      "metadata": {
        "colab": {
          "base_uri": "https://localhost:8080/"
        },
        "id": "fP1pDLuVJ5lN",
        "outputId": "c3533fa8-1ffb-4e2e-d78f-3815a5b7d498"
      },
      "execution_count": null,
      "outputs": [
        {
          "output_type": "execute_result",
          "data": {
            "text/plain": [
              "False"
            ]
          },
          "metadata": {},
          "execution_count": 34
        }
      ]
    },
    {
      "cell_type": "code",
      "source": [
        "# 어떻게 저장할 것인가? 디지털로, 코드로 어떻게 저장하지? 데이터 형식?\n",
        "target = [1, 2, 3] # !!!!\n",
        "\n",
        "# import random\n",
        "# target = []\n",
        "# for _ in range(3):\n",
        "#     while True:\n",
        "#         candi = random.randint(1, 9)\n",
        "#         if candi not in target:\n",
        "#             break\n",
        "#     target.append(candi)\n",
        "# target\n",
        "import random\n",
        "candis = list(range(1, 10))\n",
        "random.shuffle(candis)\n",
        "target = candis[:3]"
      ],
      "metadata": {
        "id": "t_EaXUC5I-Vd"
      },
      "execution_count": null,
      "outputs": []
    },
    {
      "cell_type": "code",
      "source": [
        "while True:\n",
        "    text = input('>>') # ex) text = '123'\n",
        "    # text = '235'\n",
        "    user = []\n",
        "    for ch in text:\n",
        "        user.append(int(ch))\n",
        "    user = [int(ch) for ch in text]\n",
        "    # 비교해서 S, B\n",
        "    s = 0\n",
        "    b = 0\n",
        "    for i in range(3):\n",
        "        if user[i] == target[i]:\n",
        "            s += 1\n",
        "        elif user[i] in target:\n",
        "            b += 1\n",
        "    print('S=', s,'B=', b)\n",
        "    if s == 3:\n",
        "        break"
      ],
      "metadata": {
        "colab": {
          "base_uri": "https://localhost:8080/"
        },
        "id": "C0YB1HB8NehN",
        "outputId": "c3939026-9983-4a4e-820b-07c0ca2fb3a3"
      },
      "execution_count": null,
      "outputs": [
        {
          "output_type": "stream",
          "name": "stdout",
          "text": [
            ">>123\n",
            "S= 0 B= 2\n",
            ">>456\n",
            "S= 0 B= 0\n",
            ">>789\n",
            "S= 1 B= 0\n",
            ">>734\n",
            "S= 2 B= 0\n",
            ">>731\n",
            "S= 2 B= 0\n",
            ">>732\n",
            "S= 3 B= 0\n"
          ]
        }
      ]
    },
    {
      "cell_type": "code",
      "source": [],
      "metadata": {
        "colab": {
          "base_uri": "https://localhost:8080/"
        },
        "id": "vPTsDaFyP_oz",
        "outputId": "7c5f64e9-f3ad-4d12-bc05-abc4e6cc1982"
      },
      "execution_count": null,
      "outputs": [
        {
          "output_type": "execute_result",
          "data": {
            "text/plain": [
              "True"
            ]
          },
          "metadata": {},
          "execution_count": 99
        }
      ]
    },
    {
      "cell_type": "code",
      "source": [
        "a = [1, 2, 3]\n",
        "b = []\n",
        "for ai in a:\n",
        "    b.append(ai * 2 + 1)\n",
        "b = [ai * 2 + 1 for ai in a]"
      ],
      "metadata": {
        "colab": {
          "base_uri": "https://localhost:8080/"
        },
        "id": "e-HLRKKYN0jV",
        "outputId": "2921db1a-9c70-4400-d9fc-1b8515f0b0b3"
      },
      "execution_count": null,
      "outputs": [
        {
          "output_type": "stream",
          "name": "stdout",
          "text": [
            "L\n",
            "i\n",
            "f\n",
            "e\n",
            " \n",
            "i\n",
            "s\n"
          ]
        }
      ]
    }
  ]
}