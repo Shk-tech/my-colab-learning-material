{
  "nbformat": 4,
  "nbformat_minor": 0,
  "metadata": {
    "colab": {
      "provenance": [],
      "include_colab_link": true
    },
    "kernelspec": {
      "name": "python3",
      "display_name": "Python 3"
    },
    "language_info": {
      "name": "python"
    }
  },
  "cells": [
    {
      "cell_type": "markdown",
      "metadata": {
        "id": "view-in-github",
        "colab_type": "text"
      },
      "source": [
        "<a href=\"https://colab.research.google.com/github/Shk-tech/my-colab-learning-material/blob/main/2507_korea_python_up_down.ipynb\" target=\"_parent\"><img src=\"https://colab.research.google.com/assets/colab-badge.svg\" alt=\"Open In Colab\"/></a>"
      ]
    },
    {
      "cell_type": "code",
      "execution_count": null,
      "metadata": {
        "id": "BmikBQTD5ZbY"
      },
      "outputs": [],
      "source": [
        "#random 1-99까지의 값을 정답으로 설정\n",
        "#사용자가 숫자를 아무거나 말하면 UP DOWN"
      ]
    },
    {
      "cell_type": "code",
      "source": [
        "# print() input()\n",
        "print('asdf', '234', 'cv')"
      ],
      "metadata": {
        "colab": {
          "base_uri": "https://localhost:8080/"
        },
        "id": "8KK7VNqC5mAs",
        "outputId": "dcd8aef6-9a39-4b97-878c-5bcf94385c18"
      },
      "execution_count": null,
      "outputs": [
        {
          "output_type": "stream",
          "name": "stdout",
          "text": [
            "asdf 234 cv\n"
          ]
        }
      ]
    },
    {
      "cell_type": "code",
      "source": [
        "# print + 사용자 입력\n",
        "# 사용자의 입력이 끝나기 전까지는 함수는 계속 실행중인 상태.\n",
        "# 사용자의 입력을 그대로 리턴 -> 항상 문자열로 리턴\n",
        "a = input('>> ')\n",
        "b = input('>> ')\n",
        "float(a) + float(b)"
      ],
      "metadata": {
        "colab": {
          "base_uri": "https://localhost:8080/"
        },
        "id": "2yU214-E5t25",
        "outputId": "0ebe3e2f-c2a0-4431-a293-9170d574a58c"
      },
      "execution_count": null,
      "outputs": [
        {
          "name": "stdout",
          "output_type": "stream",
          "text": [
            ">> 1\n",
            ">> 2\n"
          ]
        },
        {
          "output_type": "execute_result",
          "data": {
            "text/plain": [
              "3.0"
            ]
          },
          "metadata": {},
          "execution_count": 8
        }
      ]
    },
    {
      "cell_type": "code",
      "source": [
        "# 설계....\n",
        "# UI 설계\n",
        "# >> ??\n",
        "# UP\n",
        "# >> ??\n",
        "# DOWN\n",
        "# >> ??\n",
        "# CORRECT!\n",
        "# 종료"
      ],
      "metadata": {
        "id": "TEhajoa06wO3"
      },
      "execution_count": null,
      "outputs": []
    },
    {
      "cell_type": "code",
      "source": [
        "# 1. 정답을 랜덤으로 정한다.\n",
        "# while\n",
        "#    2. 사용자의 입력을 받는다.\n",
        "#    3. UP, DOWN, CORRECT 판정"
      ],
      "metadata": {
        "id": "HqOVerJ2_4Yf"
      },
      "execution_count": null,
      "outputs": []
    },
    {
      "cell_type": "code",
      "source": [
        "import random\n",
        "target = random.randint(1, 99) #inc - inc"
      ],
      "metadata": {
        "id": "LYEqdBPMAW2v"
      },
      "execution_count": null,
      "outputs": []
    },
    {
      "cell_type": "code",
      "source": [
        "while True:\n",
        "    user = int(input('>>'))\n",
        "    if user > target:\n",
        "        print('DOWN')\n",
        "    elif user < target:\n",
        "        print('UP')\n",
        "    else:\n",
        "        print('CORRECT')\n",
        "        break"
      ],
      "metadata": {
        "id": "XPnVxgCBAuB5"
      },
      "execution_count": null,
      "outputs": []
    },
    {
      "cell_type": "code",
      "source": [
        "# 1~5까지의 합을 구하시오\n",
        "total = 0\n",
        "for i in range(1, 6): # inc - exc\n",
        "    total += i\n",
        "total"
      ],
      "metadata": {
        "colab": {
          "base_uri": "https://localhost:8080/"
        },
        "id": "ckhtZAfbCr5e",
        "outputId": "e9888ac5-52d2-4d92-a383-7d3f25cd7ae8"
      },
      "execution_count": null,
      "outputs": [
        {
          "output_type": "execute_result",
          "data": {
            "text/plain": [
              "15"
            ]
          },
          "metadata": {},
          "execution_count": 149
        }
      ]
    },
    {
      "cell_type": "code",
      "source": [
        "list(range(1, 6)) #???"
      ],
      "metadata": {
        "colab": {
          "base_uri": "https://localhost:8080/"
        },
        "id": "XRfCE-sgDksg",
        "outputId": "13933fa5-0840-445e-845b-85456eab7f46"
      },
      "execution_count": null,
      "outputs": [
        {
          "output_type": "execute_result",
          "data": {
            "text/plain": [
              "[1, 2, 3, 4, 5]"
            ]
          },
          "metadata": {},
          "execution_count": 152
        }
      ]
    },
    {
      "cell_type": "code",
      "source": [
        "# generator\n",
        "# iterable (list-like).. [동적으로 원소를 생성!!!]\n",
        "# [1, 2, 3, 4, 5, 6, 8, 9, 10] -> 정적으로 원소를 생성\n",
        "# int(8) * 10 -> 80 bytes 메모리에 점유\n",
        "\n",
        "# range(1, 11) -> 아직 80bytes를 쓰지 않았고, 8bytes도 안 씀.\n",
        "# 앞으로 1~10까지 생성할 예정임...\n",
        "# 누군가(for, list) 요청을 하면 그 때 동적으로 생성\n",
        "\n",
        "# 1. range함수가 generator객체를 리턴\n",
        "# 2. for구문에 generator에 요청... next, next, next???\n",
        "for i in range(1, 6):\n",
        "    print(i)"
      ],
      "metadata": {
        "colab": {
          "base_uri": "https://localhost:8080/"
        },
        "id": "KPnwGvBMD9LS",
        "outputId": "67924b15-9d65-40fd-b8cf-2aa23ca4ed35"
      },
      "execution_count": null,
      "outputs": [
        {
          "output_type": "stream",
          "name": "stdout",
          "text": [
            "1\n",
            "2\n",
            "3\n",
            "4\n",
            "5\n"
          ]
        }
      ]
    },
    {
      "cell_type": "code",
      "source": [
        "# generator 생성방법은\n",
        "# 함수랑 유사... return대신 yield\n",
        "def my_gen():\n",
        "    yield 1\n",
        "    #yield하고 여기서 멈춤\n",
        "    #새로운 요청이 들어오면 다음 yield까지 실행\n",
        "    print(\"??\")\n",
        "    yield 2\n",
        "    print(\"????\")\n",
        "    yield 3\n",
        "\n",
        "gen = my_gen()\n",
        "for i in gen:\n",
        "    print(i)"
      ],
      "metadata": {
        "colab": {
          "base_uri": "https://localhost:8080/"
        },
        "id": "Fp9vmrzEEzfV",
        "outputId": "1cece46a-8c07-452d-d6bd-9b98a9ff3382"
      },
      "execution_count": null,
      "outputs": [
        {
          "output_type": "stream",
          "name": "stdout",
          "text": [
            "1\n",
            "??\n",
            "2\n",
            "????\n",
            "3\n"
          ]
        }
      ]
    },
    {
      "cell_type": "code",
      "source": [
        "# generator - range, zip, enumerate"
      ],
      "metadata": {
        "id": "CgaiuGvtFnjQ"
      },
      "execution_count": null,
      "outputs": []
    },
    {
      "cell_type": "code",
      "source": [
        "# *\n",
        "# **\n",
        "# ***\n",
        "# ****\n",
        "# *****\n",
        "print('*' * 1)\n",
        "print('*' * 2)\n",
        "#...."
      ],
      "metadata": {
        "colab": {
          "base_uri": "https://localhost:8080/"
        },
        "id": "mDHhXeCxFxN-",
        "outputId": "7753d9ea-a90a-44ff-dc4f-1740b18b6b9c"
      },
      "execution_count": null,
      "outputs": [
        {
          "output_type": "stream",
          "name": "stdout",
          "text": [
            "*\n",
            "**\n"
          ]
        }
      ]
    },
    {
      "cell_type": "code",
      "source": [
        "for i in range(1, 6):\n",
        "    print('*' * i)"
      ],
      "metadata": {
        "colab": {
          "base_uri": "https://localhost:8080/"
        },
        "id": "Gflg7GQiGB4V",
        "outputId": "c25903f2-f54d-43f0-ccd0-1477af3846f2"
      },
      "execution_count": null,
      "outputs": [
        {
          "output_type": "stream",
          "name": "stdout",
          "text": [
            "*\n",
            "**\n",
            "***\n",
            "****\n",
            "*****\n"
          ]
        }
      ]
    },
    {
      "cell_type": "code",
      "source": [
        "# *\n",
        "# ***\n",
        "# *****\n",
        "# *******\n",
        "# *********\n",
        "# ?????\n",
        "# print(\"*\" * 5)\n",
        "# ...\n",
        "# print(\"*\" * 1)\n",
        "# i -> 1~5 --f--> 5~1\n",
        "for i in range(1, 6):\n",
        "    print(\"*\" * (6 - i))"
      ],
      "metadata": {
        "colab": {
          "base_uri": "https://localhost:8080/"
        },
        "id": "Kai8uDNYGK1S",
        "outputId": "65f37aeb-ff1a-44f8-e7e3-4310d20fba70"
      },
      "execution_count": null,
      "outputs": [
        {
          "output_type": "stream",
          "name": "stdout",
          "text": [
            "*****\n",
            "****\n",
            "***\n",
            "**\n",
            "*\n"
          ]
        }
      ]
    },
    {
      "cell_type": "code",
      "source": [
        "# 구구단 출력, 369.., ..."
      ],
      "metadata": {
        "id": "iC2MDCHMH4ue"
      },
      "execution_count": null,
      "outputs": []
    }
  ]
}