{
  "nbformat": 4,
  "nbformat_minor": 0,
  "metadata": {
    "colab": {
      "provenance": [],
      "include_colab_link": true
    },
    "kernelspec": {
      "name": "python3",
      "display_name": "Python 3"
    },
    "language_info": {
      "name": "python"
    }
  },
  "cells": [
    {
      "cell_type": "markdown",
      "metadata": {
        "id": "view-in-github",
        "colab_type": "text"
      },
      "source": [
        "<a href=\"https://colab.research.google.com/github/Shk-tech/my-colab-learning-material/blob/main/2507_korea_python_bool_.ipynb\" target=\"_parent\"><img src=\"https://colab.research.google.com/assets/colab-badge.svg\" alt=\"Open In Colab\"/></a>"
      ]
    },
    {
      "cell_type": "code",
      "execution_count": null,
      "metadata": {
        "id": "1zqzZ2lYXENi"
      },
      "outputs": [],
      "source": [
        "# 제어 control - ???\n",
        "# if else elif for while\n",
        "# bool"
      ]
    },
    {
      "cell_type": "code",
      "source": [
        "# bool - 데이터 타입... 근본적으로는 정수지만 명확히 구분하여 사용\n",
        "# 묵시적 형변환을 혀용 -> 정수와 명확히 구분이 안 됨.\n",
        "\n",
        "# bool 타입이란 것부터 이해\n",
        "# int - ex) 1, 2, -1, 100, 10000\n",
        "# float - ex) 0.1 3.14 2.75343\n",
        "# str - ex) 'asdf', 'qwer'\n",
        "# bool - ex) True, False\n",
        "True #1, 2, 3과 같은 값이다."
      ],
      "metadata": {
        "colab": {
          "base_uri": "https://localhost:8080/"
        },
        "id": "eIeFCFdMXRtH",
        "outputId": "8002d71a-0d52-4908-8509-721c59ce62c0"
      },
      "execution_count": null,
      "outputs": [
        {
          "output_type": "execute_result",
          "data": {
            "text/plain": [
              "True"
            ]
          },
          "metadata": {},
          "execution_count": 3
        }
      ]
    },
    {
      "cell_type": "code",
      "source": [
        "int(True) #! 1==True 0==False\n",
        "bool(1)"
      ],
      "metadata": {
        "colab": {
          "base_uri": "https://localhost:8080/"
        },
        "id": "-gK8mBBWXvos",
        "outputId": "54806140-0218-49a8-93d2-2303232b786c"
      },
      "execution_count": null,
      "outputs": [
        {
          "output_type": "execute_result",
          "data": {
            "text/plain": [
              "True"
            ]
          },
          "metadata": {},
          "execution_count": 5
        }
      ]
    },
    {
      "cell_type": "code",
      "source": [
        "# 부울을 직접 만드는 경우는 거의 없고... 연산자\n",
        "# 비교연산자 , 논리연산자... .....\n",
        "# < > <= >= == != (정수, 실수, 문자열???)\n",
        "3 < 5"
      ],
      "metadata": {
        "colab": {
          "base_uri": "https://localhost:8080/"
        },
        "id": "jl1SEnMgX6yv",
        "outputId": "84df9a01-6871-48cf-d252-c6850cb299d5"
      },
      "execution_count": null,
      "outputs": [
        {
          "output_type": "execute_result",
          "data": {
            "text/plain": [
              "True"
            ]
          },
          "metadata": {},
          "execution_count": 7
        }
      ]
    },
    {
      "cell_type": "code",
      "source": [
        "'asdf' < 'qwer' # 가나다 순으로 비교 가능"
      ],
      "metadata": {
        "colab": {
          "base_uri": "https://localhost:8080/"
        },
        "id": "ioAEWBXlYLKu",
        "outputId": "425014e8-759a-47c1-d689-d522cbfb3050"
      },
      "execution_count": null,
      "outputs": [
        {
          "output_type": "execute_result",
          "data": {
            "text/plain": [
              "True"
            ]
          },
          "metadata": {},
          "execution_count": 8
        }
      ]
    },
    {
      "cell_type": "code",
      "source": [
        "score = 85\n",
        "# if 문은 조건에 따라서 실행 or 무시\n",
        "# if [condition]:\n",
        "if score > 80:\n",
        "                                                      print('B')\n",
        "# ('') 인덴테이션 (들여쓰기) 반드시 필요함"
      ],
      "metadata": {
        "colab": {
          "base_uri": "https://localhost:8080/"
        },
        "id": "sM6v9BA4YPyA",
        "outputId": "24c32c1f-9c2e-4cd2-8d50-9be8f7c0fe92"
      },
      "execution_count": null,
      "outputs": [
        {
          "output_type": "stream",
          "name": "stdout",
          "text": [
            "B\n"
          ]
        }
      ]
    },
    {
      "cell_type": "code",
      "source": [
        "# 인덴테이션은 space 개수는 마음대로인데 일관성이 있어야 함.\n",
        "if False:\n",
        "    pass # 아무 것도 안 한다는 뜻.. dummy\n",
        "print('종료.') #없으면 if문이랑 관계 없음.\n",
        "# : 땡땡(colone) - indentation 필요충분조건"
      ],
      "metadata": {
        "colab": {
          "base_uri": "https://localhost:8080/"
        },
        "id": "V9cLrQdeYngW",
        "outputId": "739a99fa-1ebb-40d0-d371-6df3abc89380"
      },
      "execution_count": null,
      "outputs": [
        {
          "output_type": "stream",
          "name": "stdout",
          "text": [
            "종료.\n"
          ]
        }
      ]
    },
    {
      "cell_type": "code",
      "source": [
        "# if else elif\n",
        "score = 85\n",
        "if score >= 90:\n",
        "    res = 'A'\n",
        "elif score >= 80:\n",
        "    res = 'B'\n",
        "elif score >= 70:\n",
        "    res = 'C'\n",
        "else:\n",
        "    res = 'D'\n",
        "print(res)\n",
        "\n",
        "# 타이핑 속도 중요한가? 매우 중요하다!! -\n",
        "# 코드만 짜는 게 linux"
      ],
      "metadata": {
        "colab": {
          "base_uri": "https://localhost:8080/"
        },
        "id": "D6cWhGhGZkts",
        "outputId": "13b5ae6f-6846-459f-ad7c-1c2944b6ba30"
      },
      "execution_count": null,
      "outputs": [
        {
          "output_type": "stream",
          "name": "stdout",
          "text": [
            "B\n"
          ]
        }
      ]
    },
    {
      "cell_type": "code",
      "source": [
        "score = 50\n",
        "#while [지속조건] ... 헷갈림..\n",
        "while score < 80: # if문과 똑같이 조건에 맞으면 실행 + 실행 후 조건 다시 검사.\n",
        "    print('현재 스코어 : ', score)\n",
        "    print('공부를 한다...')\n",
        "    score += 5"
      ],
      "metadata": {
        "colab": {
          "base_uri": "https://localhost:8080/"
        },
        "id": "lWwXzZCzcIeo",
        "outputId": "d19d24bb-4b37-467a-8009-b48c8d71c758"
      },
      "execution_count": null,
      "outputs": [
        {
          "output_type": "stream",
          "name": "stdout",
          "text": [
            "현재 스코어 :  50\n",
            "공부를 한다...\n",
            "현재 스코어 :  55\n",
            "공부를 한다...\n",
            "현재 스코어 :  60\n",
            "공부를 한다...\n",
            "현재 스코어 :  65\n",
            "공부를 한다...\n",
            "현재 스코어 :  70\n",
            "공부를 한다...\n",
            "현재 스코어 :  75\n",
            "공부를 한다...\n"
          ]
        }
      ]
    },
    {
      "cell_type": "code",
      "source": [
        "score = 50\n",
        "while True: # 무한 반복\n",
        "    if score >= 80: # 종료조건\n",
        "        break # 반복문을 바로 종료\n",
        "    print('현재 스코어 : ', score)\n",
        "    print('공부를 한다...')\n",
        "    score += 5"
      ],
      "metadata": {
        "colab": {
          "base_uri": "https://localhost:8080/"
        },
        "id": "duJrWb1zctTV",
        "outputId": "2491b879-d727-4e82-8736-f30c1b138e22"
      },
      "execution_count": null,
      "outputs": [
        {
          "output_type": "stream",
          "name": "stdout",
          "text": [
            "현재 스코어 :  50\n",
            "공부를 한다...\n",
            "현재 스코어 :  55\n",
            "공부를 한다...\n",
            "현재 스코어 :  60\n",
            "공부를 한다...\n",
            "현재 스코어 :  65\n",
            "공부를 한다...\n",
            "현재 스코어 :  70\n",
            "공부를 한다...\n",
            "현재 스코어 :  75\n",
            "공부를 한다...\n"
          ]
        }
      ]
    },
    {
      "cell_type": "code",
      "source": [
        "# 무한반복문 + 종료조건 + break 콤보...\n",
        "# break가 if 문 없이 쓰일 수 (거의) 없다....\n",
        "while True:\n",
        "    break #무조건 종료... while을 왜 썼지?"
      ],
      "metadata": {
        "id": "JqVKnophc-oc"
      },
      "execution_count": null,
      "outputs": []
    },
    {
      "cell_type": "code",
      "source": [
        "# c언나 java에 해당하는 for문은 파이썬에 없음\n",
        "# java:foreach - python:for\n",
        "# for 문은 리스트의 원소를 하나씩 꺼내서 같은 구문 실행\n",
        "# 리스트만 되나? - 문자열도 되고... iterable : 반복 가능한..\n",
        "# list-like : iterable\n",
        "for i in [1, 2, 3, 4]:\n",
        "    print(i)"
      ],
      "metadata": {
        "colab": {
          "base_uri": "https://localhost:8080/"
        },
        "id": "IUnL2SyVdVxm",
        "outputId": "9c30e232-5284-4bf8-ba29-6c1d6839d8ed"
      },
      "execution_count": null,
      "outputs": [
        {
          "output_type": "stream",
          "name": "stdout",
          "text": [
            "1\n",
            "2\n",
            "3\n",
            "4\n"
          ]
        }
      ]
    },
    {
      "cell_type": "code",
      "source": [
        "a = [1, 2, 3]\n",
        "for i in a: #i = a[0], i = a[1], i = a[2] 실행된다.. 내부적으로\n",
        "    print(i)"
      ],
      "metadata": {
        "id": "tRN3YOsPeCk0"
      },
      "execution_count": null,
      "outputs": []
    },
    {
      "cell_type": "code",
      "source": [
        "a = [1, 2, 3]\n",
        "#b = [3, 5, 7]\n",
        "b = []\n",
        "for v in a:\n",
        "    v2 = v * 2 + 1 # 1, 2, 3 -> 3, 4, 5\n",
        "    b.append(v2)\n",
        "b"
      ],
      "metadata": {
        "colab": {
          "base_uri": "https://localhost:8080/"
        },
        "id": "HsBNmtUaeNwn",
        "outputId": "1ff4bb89-7c51-43a3-f457-021427e51cb2"
      },
      "execution_count": null,
      "outputs": [
        {
          "output_type": "execute_result",
          "data": {
            "text/plain": [
              "[3, 5, 7]"
            ]
          },
          "metadata": {},
          "execution_count": 58
        }
      ]
    },
    {
      "cell_type": "code",
      "source": [
        "# Map Reduce..\n",
        "# map -\n",
        "# A = {a1, a2, .. , an}\n",
        "# B = {b1, b2, ..., bn}\n",
        "# bi = f(ai)\n",
        "# B = {f(a1), f(a2), ..., f(an)}\n",
        "# f(x) = a * x + b -> 일차방정식.. 풀이\n",
        "a = [1, 2, 3, 4]\n",
        "# b = [1, 4, 7, 10]\n",
        "b = []\n",
        "for ai in a:\n",
        "    bi = ai * 3 - 2\n",
        "    b.append(bi)\n",
        "b"
      ],
      "metadata": {
        "colab": {
          "base_uri": "https://localhost:8080/"
        },
        "id": "pS4pdjQtxts8",
        "outputId": "eff8e02d-8876-4b44-9b02-6dd835c45855"
      },
      "execution_count": null,
      "outputs": [
        {
          "output_type": "execute_result",
          "data": {
            "text/plain": [
              "[1, 4, 7, 10]"
            ]
          },
          "metadata": {},
          "execution_count": 59
        }
      ]
    },
    {
      "cell_type": "code",
      "source": [
        "# 랜덤값 생성\n",
        "# 스케일링 - 0~1000 -> -1~1\n",
        "# UI - 좌표 변환 + 영상처리 이미지 좌표 계산"
      ],
      "metadata": {
        "id": "axY5_ZyRzJOE"
      },
      "execution_count": null,
      "outputs": []
    },
    {
      "cell_type": "code",
      "source": [
        "import random\n",
        "random.random() #0~1\n",
        "#-2 ~ 2???\n",
        "random.random() * 4 - 2"
      ],
      "metadata": {
        "colab": {
          "base_uri": "https://localhost:8080/"
        },
        "id": "a32ZQkVTz_fD",
        "outputId": "5a8f0fbb-fd97-460a-dba4-1fc2ff4a56c2"
      },
      "execution_count": null,
      "outputs": [
        {
          "output_type": "execute_result",
          "data": {
            "text/plain": [
              "0.8134336454878519"
            ]
          },
          "metadata": {},
          "execution_count": 124
        }
      ]
    },
    {
      "cell_type": "code",
      "source": [
        "# # 프로그래밍(모든분야)에 필요한 수학...\n",
        "# # 일차방정식, 삼각함수(극좌표-직교좌표), 벡터와 행렬\n",
        "# x = r * cos(theta)\n",
        "# y = r * sin(tehta)\n",
        "\n",
        "# theta = atan(x/y)\n",
        "# r = sqrt(x**2 + y**2)"
      ],
      "metadata": {
        "id": "81Lba1R31bOh"
      },
      "execution_count": null,
      "outputs": []
    },
    {
      "cell_type": "code",
      "source": [
        "# list comprehension\n",
        "# 리스트...컴프리헨션\n",
        "\n",
        "a = [1, 2, 3]\n",
        "b = []\n",
        "for ai in a :\n",
        "    b.append(ai * 2 + 1)\n",
        "\n",
        "b = [ai * 2 + 1 for ai in a]\n",
        "b"
      ],
      "metadata": {
        "colab": {
          "base_uri": "https://localhost:8080/"
        },
        "id": "pjtw-Y2r2K9P",
        "outputId": "4d29e4a7-cd2d-482f-dbf0-3a59ad7425ec"
      },
      "execution_count": null,
      "outputs": [
        {
          "output_type": "execute_result",
          "data": {
            "text/plain": [
              "[3, 5, 7]"
            ]
          },
          "metadata": {},
          "execution_count": 127
        }
      ]
    },
    {
      "cell_type": "code",
      "source": [
        "a = [1, 2, 3]\n",
        "b = [] #0, 2, 4\n",
        "b = [(ai -1)*2 for ai in a]\n",
        "b"
      ],
      "metadata": {
        "colab": {
          "base_uri": "https://localhost:8080/"
        },
        "id": "ItRKe0s63Iu0",
        "outputId": "8e2bd74e-5d39-418b-a259-6aeb30fb3aad"
      },
      "execution_count": null,
      "outputs": [
        {
          "output_type": "execute_result",
          "data": {
            "text/plain": [
              "[0, 2, 4]"
            ]
          },
          "metadata": {},
          "execution_count": 130
        }
      ]
    },
    {
      "cell_type": "code",
      "source": [
        "def func(x):\n",
        "    return (x - 1) * 2\n",
        "\n",
        "#bi = func(ai)\n",
        "b = [func(ai) for ai in a]\n",
        "b"
      ],
      "metadata": {
        "colab": {
          "base_uri": "https://localhost:8080/"
        },
        "id": "_yBM8QCN3YDQ",
        "outputId": "abd7980a-fa9e-4a08-f71c-f09dc626eb6f"
      },
      "execution_count": null,
      "outputs": [
        {
          "output_type": "execute_result",
          "data": {
            "text/plain": [
              "[0, 2, 4]"
            ]
          },
          "metadata": {},
          "execution_count": 146
        }
      ]
    },
    {
      "cell_type": "code",
      "source": [
        "score = 85\n",
        "\n",
        "if score > 80:\n",
        "    res = 'succeed'\n",
        "else:\n",
        "    res = 'failed'\n",
        "\n",
        "#삼항연산자\n",
        "# (score > 80 ? 'succeed' : 'failed')\n",
        "res = 'succeed' if score > 80 else 'failed'\n",
        "res"
      ],
      "metadata": {
        "colab": {
          "base_uri": "https://localhost:8080/",
          "height": 36
        },
        "id": "NqnLZd4-4alI",
        "outputId": "9274b626-d2df-47f5-e433-cf594b66dc9c"
      },
      "execution_count": null,
      "outputs": [
        {
          "output_type": "execute_result",
          "data": {
            "text/plain": [
              "'succeed'"
            ],
            "application/vnd.google.colaboratory.intrinsic+json": {
              "type": "string"
            }
          },
          "metadata": {},
          "execution_count": 147
        }
      ]
    }
  ]
}